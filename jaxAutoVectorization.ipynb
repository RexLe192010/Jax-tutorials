{
  "nbformat": 4,
  "nbformat_minor": 0,
  "metadata": {
    "colab": {
      "provenance": []
    },
    "kernelspec": {
      "name": "python3",
      "display_name": "Python 3"
    },
    "language_info": {
      "name": "python"
    }
  },
  "cells": [
    {
      "cell_type": "markdown",
      "source": [
        "# Manual vectorization"
      ],
      "metadata": {
        "id": "o48bLbzYHpRa"
      }
    },
    {
      "cell_type": "code",
      "source": [
        "import jax\n",
        "import jax.numpy as jnp\n",
        "\n",
        "x = jnp.arange(5)\n",
        "w = jnp.array([2., 3., 4.])\n",
        "print(x)\n",
        "print(w)\n",
        "\n",
        "def convolve(x, w):\n",
        "  output = []\n",
        "  for i in range(1, len(x)-1):\n",
        "    output.append(jnp.dot(x[i-1:i+2], w))\n",
        "  return jnp.array(output)\n",
        "\n",
        "convolve(x, w)"
      ],
      "metadata": {
        "colab": {
          "base_uri": "https://localhost:8080/"
        },
        "id": "royspsNDJWDq",
        "outputId": "20a4d8b1-8283-4f0c-d727-bc9028e39610"
      },
      "execution_count": 2,
      "outputs": [
        {
          "output_type": "stream",
          "name": "stdout",
          "text": [
            "[0 1 2 3 4]\n",
            "[2. 3. 4.]\n"
          ]
        },
        {
          "output_type": "execute_result",
          "data": {
            "text/plain": [
              "Array([11., 20., 29.], dtype=float32)"
            ]
          },
          "metadata": {},
          "execution_count": 2
        }
      ]
    },
    {
      "cell_type": "markdown",
      "source": [
        "Suppose we would like to apply this function to a batch of weights w to a batch of vectors x."
      ],
      "metadata": {
        "id": "0NrrPYqGLsQS"
      }
    },
    {
      "cell_type": "code",
      "source": [
        "xs = jnp.stack([x, x])\n",
        "ws = jnp.stack([w, w])\n",
        "print(xs)\n",
        "print(ws)"
      ],
      "metadata": {
        "colab": {
          "base_uri": "https://localhost:8080/"
        },
        "id": "mirwcbRzLtzq",
        "outputId": "2e0ccc91-4a6b-4344-e516-1b07ded917df"
      },
      "execution_count": 4,
      "outputs": [
        {
          "output_type": "stream",
          "name": "stdout",
          "text": [
            "[[0 1 2 3 4]\n",
            " [0 1 2 3 4]]\n",
            "[[2. 3. 4.]\n",
            " [2. 3. 4.]]\n"
          ]
        }
      ]
    },
    {
      "cell_type": "markdown",
      "source": [
        "The most naive option would be to simply loop over the batch in Python:"
      ],
      "metadata": {
        "id": "b6rNQZlKL5gT"
      }
    },
    {
      "cell_type": "code",
      "source": [
        "def manually_batched_convolve(xs, ws):\n",
        "  output = []\n",
        "  for i in range(xs.shape[0]):\n",
        "    output.append(convolve(xs[i], ws[i]))\n",
        "  return jnp.stack(output)\n",
        "\n",
        "manually_batched_convolve(xs, ws)"
      ],
      "metadata": {
        "colab": {
          "base_uri": "https://localhost:8080/"
        },
        "id": "aV8-3BT2L5-i",
        "outputId": "b3a93301-7175-4dab-aa03-ff053faa17b3"
      },
      "execution_count": 5,
      "outputs": [
        {
          "output_type": "execute_result",
          "data": {
            "text/plain": [
              "Array([[11., 20., 29.],\n",
              "       [11., 20., 29.]], dtype=float32)"
            ]
          },
          "metadata": {},
          "execution_count": 5
        }
      ]
    },
    {
      "cell_type": "markdown",
      "source": [
        "This produces the correct result, however it is not very efficient.\n",
        "\n",
        "In order to batch the computation efficiently, you would normally have to rewrite the function manually to ensure it is done in vectorized form. This is not particularly difficult to implement, but does involve changing how the function treats indices, axes, and other parts of the input.\n",
        "\n",
        "For example, we could manually rewrite convolve() to support vectorized computation across the batch dimension as follows:"
      ],
      "metadata": {
        "id": "S0yxSK_aMVvJ"
      }
    },
    {
      "cell_type": "code",
      "source": [
        "def manually_vectorized_convolve(xs, ws):\n",
        "  output = []\n",
        "  for i in range(1, xs.shape[-1] -1):\n",
        "    output.append(jnp.sum(xs[:, i-1:i+2] * ws, axis=1))\n",
        "  return jnp.stack(output, axis=1)\n",
        "\n",
        "manually_vectorized_convolve(xs, ws)"
      ],
      "metadata": {
        "colab": {
          "base_uri": "https://localhost:8080/"
        },
        "id": "LheMwm2gMWOh",
        "outputId": "1ce8b328-01f0-47a2-daf2-fe6d03e49ec2"
      },
      "execution_count": 6,
      "outputs": [
        {
          "output_type": "execute_result",
          "data": {
            "text/plain": [
              "Array([[11., 20., 29.],\n",
              "       [11., 20., 29.]], dtype=float32)"
            ]
          },
          "metadata": {},
          "execution_count": 6
        }
      ]
    },
    {
      "cell_type": "markdown",
      "source": [
        "Such re-implementation can be messy and error-prone as the complexity of a function increases; fortunately JAX provides another way."
      ],
      "metadata": {
        "id": "vs7wU7XgMY1y"
      }
    },
    {
      "cell_type": "markdown",
      "source": [
        "# Automatic vectorization"
      ],
      "metadata": {
        "id": "BhbdMfIjMZiR"
      }
    },
    {
      "cell_type": "markdown",
      "source": [
        "In JAX, the jax.vmap() transformation is designed to generate such a vectorized implementation of a function automatically:"
      ],
      "metadata": {
        "id": "1drGXC7kNJjB"
      }
    },
    {
      "cell_type": "code",
      "source": [
        "auto_batch_convolve = jax.vmap(convolve) # convolve is the defined function\n",
        "auto_batch_convolve(xs, ws)"
      ],
      "metadata": {
        "colab": {
          "base_uri": "https://localhost:8080/"
        },
        "id": "LU5-2DCCNJ6B",
        "outputId": "60125f0c-cf49-4c9f-c52b-282dab1b7103"
      },
      "execution_count": 7,
      "outputs": [
        {
          "output_type": "execute_result",
          "data": {
            "text/plain": [
              "Array([[11., 20., 29.],\n",
              "       [11., 20., 29.]], dtype=float32)"
            ]
          },
          "metadata": {},
          "execution_count": 7
        }
      ]
    },
    {
      "cell_type": "markdown",
      "source": [
        "It does this by tracing the function similarly to jax.jit(), and automatically adding batch axes at the beginning of each input.\n",
        "\n",
        "If the batch dimension is not the first, you may use the in_axes and out_axes arguments to specify the location of the batch dimension in inputs and outputs. These may be an integer if the batch axis is the same for all inputs and outputs, or lists, otherwise."
      ],
      "metadata": {
        "id": "BBALDteRNhiI"
      }
    },
    {
      "cell_type": "code",
      "source": [
        "auto_batch_convolve_v2 = jax.vmap(convolve, in_axes=1, out_axes=1)\n",
        "\n",
        "xst = jnp.transpose(xs)\n",
        "wst = jnp.transpose(ws)\n",
        "\n",
        "auto_batch_convolve_v2(xst, wst)"
      ],
      "metadata": {
        "colab": {
          "base_uri": "https://localhost:8080/"
        },
        "id": "Q7XbtKqXNiDg",
        "outputId": "bac2f799-9616-4e95-ad26-0ef3a37a56dd"
      },
      "execution_count": 8,
      "outputs": [
        {
          "output_type": "execute_result",
          "data": {
            "text/plain": [
              "Array([[11., 11.],\n",
              "       [20., 20.],\n",
              "       [29., 29.]], dtype=float32)"
            ]
          },
          "metadata": {},
          "execution_count": 8
        }
      ]
    },
    {
      "cell_type": "markdown",
      "source": [
        "jax.vmap() also supports the case where only one of the arguments is batched: for example, if you would like to convolve to a single set of weights w with a batch of vectors x; in this case the in_axes argument can be set to None:"
      ],
      "metadata": {
        "id": "HvCyDgrDOXj4"
      }
    },
    {
      "cell_type": "code",
      "source": [
        "batch_convolve_v3 = jax.vmap(convolve, in_axes=[0, None])\n",
        "batch_convolve_v3(xs, w)"
      ],
      "metadata": {
        "colab": {
          "base_uri": "https://localhost:8080/"
        },
        "id": "yp5ZlFJrOYGA",
        "outputId": "22d29cf8-2ab6-4667-e80a-0ad740a41027"
      },
      "execution_count": 9,
      "outputs": [
        {
          "output_type": "execute_result",
          "data": {
            "text/plain": [
              "Array([[11., 20., 29.],\n",
              "       [11., 20., 29.]], dtype=float32)"
            ]
          },
          "metadata": {},
          "execution_count": 9
        }
      ]
    },
    {
      "cell_type": "markdown",
      "source": [
        "# Combining transformations"
      ],
      "metadata": {
        "id": "p23hkofyOybV"
      }
    },
    {
      "cell_type": "markdown",
      "source": [
        "As with all JAX transformations, jax.jit() and jax.vmap() are designed to be composable, which means you can wrap a vmapped function with jit, or a jitted function with vmap, and everything will work correctly:"
      ],
      "metadata": {
        "id": "pm8etCCqO1d4"
      }
    },
    {
      "cell_type": "code",
      "source": [
        "jitted_batch_convolve = jax.jit(auto_batch_convolve)\n",
        "jitted_batch_convolve(xs, ws)"
      ],
      "metadata": {
        "colab": {
          "base_uri": "https://localhost:8080/"
        },
        "id": "cNOEHj6mO3W5",
        "outputId": "a8070103-1586-4281-e1d1-d852321a4751"
      },
      "execution_count": 10,
      "outputs": [
        {
          "output_type": "execute_result",
          "data": {
            "text/plain": [
              "Array([[11., 20., 29.],\n",
              "       [11., 20., 29.]], dtype=float32)"
            ]
          },
          "metadata": {},
          "execution_count": 10
        }
      ]
    }
  ]
}