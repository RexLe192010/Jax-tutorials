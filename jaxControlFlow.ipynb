{
  "nbformat": 4,
  "nbformat_minor": 0,
  "metadata": {
    "colab": {
      "provenance": []
    },
    "kernelspec": {
      "name": "python3",
      "display_name": "Python 3"
    },
    "language_info": {
      "name": "python"
    }
  },
  "cells": [
    {
      "cell_type": "markdown",
      "source": [
        "When executing eagerly (outside of jit), JAX code works with Python control flow and logical operators just like Numpy code. Using control flow and logical operators with jit is more complicated.\n",
        "\n",
        "In a nutshell, Python control flow and logical operators are evaluated at JIT compile time, such that the compiled function represents a single path through the control flow graph (logical operators affect the path via short-circuiting). If the path depends on the values of the inputs, the function (by default) cannot be JIT compiled. The path may depend on the shape or dtype of the inputs, and the function is re-compiled every time it is called on an input with a new shape or dtype."
      ],
      "metadata": {
        "id": "xZ3Z7GOuBAH7"
      }
    },
    {
      "cell_type": "code",
      "source": [
        "from jax import grad, jit\n",
        "import jax.numpy as jnp"
      ],
      "metadata": {
        "id": "sVSfqU1pBDdb"
      },
      "execution_count": 1,
      "outputs": []
    },
    {
      "cell_type": "markdown",
      "source": [
        "For example, this works:"
      ],
      "metadata": {
        "id": "-v0zMaj7BFiE"
      }
    },
    {
      "cell_type": "code",
      "source": [
        "@jit\n",
        "def f(x):\n",
        "  for i in range(3):\n",
        "    x = 2 * x\n",
        "  return x\n",
        "\n",
        "print(f(3))"
      ],
      "metadata": {
        "colab": {
          "base_uri": "https://localhost:8080/"
        },
        "id": "FFeobsstBGbL",
        "outputId": "42bdb9ee-881c-4f99-a896-91c1e4812ebb"
      },
      "execution_count": 2,
      "outputs": [
        {
          "output_type": "stream",
          "name": "stdout",
          "text": [
            "24\n"
          ]
        }
      ]
    },
    {
      "cell_type": "markdown",
      "source": [
        "So does this:"
      ],
      "metadata": {
        "id": "4jODmpd0BMC7"
      }
    },
    {
      "cell_type": "code",
      "source": [
        "@jit\n",
        "def g(x):\n",
        "  y = 0.\n",
        "  for i in range(x.shape[0]):\n",
        "    y = y + x[i]\n",
        "  return y\n",
        "\n",
        "print(g(jnp.array([1., 2., 3.])))"
      ],
      "metadata": {
        "colab": {
          "base_uri": "https://localhost:8080/"
        },
        "id": "g1NUAWdZBM_c",
        "outputId": "e7b1c38b-c00c-445f-d2b2-53e4b9d07d5b"
      },
      "execution_count": 3,
      "outputs": [
        {
          "output_type": "stream",
          "name": "stdout",
          "text": [
            "6.0\n"
          ]
        }
      ]
    },
    {
      "cell_type": "markdown",
      "source": [
        "But this doesn’t, at least by default:"
      ],
      "metadata": {
        "id": "VB9PUgVQBQR7"
      }
    },
    {
      "cell_type": "code",
      "source": [
        "@jit\n",
        "def f(x):\n",
        "  if x < 3:\n",
        "    return 3. * x ** 2\n",
        "  else:\n",
        "    return -4 * x\n",
        "\n",
        "# This will fail!\n",
        "f(2)"
      ],
      "metadata": {
        "colab": {
          "base_uri": "https://localhost:8080/",
          "height": 453
        },
        "id": "XnyAWbnwBRGs",
        "outputId": "3a591e07-be8f-47a7-c5c3-b36eacbf97ce"
      },
      "execution_count": 4,
      "outputs": [
        {
          "output_type": "error",
          "ename": "TracerBoolConversionError",
          "evalue": "Attempted boolean conversion of traced array with shape bool[].\nThe error occurred while tracing the function f at /tmp/ipython-input-4-3402096563.py:1 for jit. This concrete value was not available in Python because it depends on the value of the argument x.\nSee https://jax.readthedocs.io/en/latest/errors.html#jax.errors.TracerBoolConversionError",
          "traceback": [
            "\u001b[0;31m---------------------------------------------------------------------------\u001b[0m",
            "\u001b[0;31mTracerBoolConversionError\u001b[0m                 Traceback (most recent call last)",
            "\u001b[0;32m/tmp/ipython-input-4-3402096563.py\u001b[0m in \u001b[0;36m<cell line: 0>\u001b[0;34m()\u001b[0m\n\u001b[1;32m      7\u001b[0m \u001b[0;34m\u001b[0m\u001b[0m\n\u001b[1;32m      8\u001b[0m \u001b[0;31m# This will fail!\u001b[0m\u001b[0;34m\u001b[0m\u001b[0;34m\u001b[0m\u001b[0m\n\u001b[0;32m----> 9\u001b[0;31m \u001b[0mf\u001b[0m\u001b[0;34m(\u001b[0m\u001b[0;36m2\u001b[0m\u001b[0;34m)\u001b[0m\u001b[0;34m\u001b[0m\u001b[0;34m\u001b[0m\u001b[0m\n\u001b[0m",
            "    \u001b[0;31m[... skipping hidden 13 frame]\u001b[0m\n",
            "\u001b[0;32m/tmp/ipython-input-4-3402096563.py\u001b[0m in \u001b[0;36mf\u001b[0;34m(x)\u001b[0m\n\u001b[1;32m      1\u001b[0m \u001b[0;34m@\u001b[0m\u001b[0mjit\u001b[0m\u001b[0;34m\u001b[0m\u001b[0;34m\u001b[0m\u001b[0m\n\u001b[1;32m      2\u001b[0m \u001b[0;32mdef\u001b[0m \u001b[0mf\u001b[0m\u001b[0;34m(\u001b[0m\u001b[0mx\u001b[0m\u001b[0;34m)\u001b[0m\u001b[0;34m:\u001b[0m\u001b[0;34m\u001b[0m\u001b[0;34m\u001b[0m\u001b[0m\n\u001b[0;32m----> 3\u001b[0;31m   \u001b[0;32mif\u001b[0m \u001b[0mx\u001b[0m \u001b[0;34m<\u001b[0m \u001b[0;36m3\u001b[0m\u001b[0;34m:\u001b[0m\u001b[0;34m\u001b[0m\u001b[0;34m\u001b[0m\u001b[0m\n\u001b[0m\u001b[1;32m      4\u001b[0m     \u001b[0;32mreturn\u001b[0m \u001b[0;36m3.\u001b[0m \u001b[0;34m*\u001b[0m \u001b[0mx\u001b[0m \u001b[0;34m**\u001b[0m \u001b[0;36m2\u001b[0m\u001b[0;34m\u001b[0m\u001b[0;34m\u001b[0m\u001b[0m\n\u001b[1;32m      5\u001b[0m   \u001b[0;32melse\u001b[0m\u001b[0;34m:\u001b[0m\u001b[0;34m\u001b[0m\u001b[0;34m\u001b[0m\u001b[0m\n",
            "    \u001b[0;31m[... skipping hidden 1 frame]\u001b[0m\n",
            "\u001b[0;32m/usr/local/lib/python3.11/dist-packages/jax/_src/core.py\u001b[0m in \u001b[0;36merror\u001b[0;34m(self, arg)\u001b[0m\n\u001b[1;32m   1570\u001b[0m   \u001b[0;32mif\u001b[0m \u001b[0mfun\u001b[0m \u001b[0;32mis\u001b[0m \u001b[0mbool\u001b[0m\u001b[0;34m:\u001b[0m\u001b[0;34m\u001b[0m\u001b[0;34m\u001b[0m\u001b[0m\n\u001b[1;32m   1571\u001b[0m     \u001b[0;32mdef\u001b[0m \u001b[0merror\u001b[0m\u001b[0;34m(\u001b[0m\u001b[0mself\u001b[0m\u001b[0;34m,\u001b[0m \u001b[0marg\u001b[0m\u001b[0;34m)\u001b[0m\u001b[0;34m:\u001b[0m\u001b[0;34m\u001b[0m\u001b[0;34m\u001b[0m\u001b[0m\n\u001b[0;32m-> 1572\u001b[0;31m       \u001b[0;32mraise\u001b[0m \u001b[0mTracerBoolConversionError\u001b[0m\u001b[0;34m(\u001b[0m\u001b[0marg\u001b[0m\u001b[0;34m)\u001b[0m\u001b[0;34m\u001b[0m\u001b[0;34m\u001b[0m\u001b[0m\n\u001b[0m\u001b[1;32m   1573\u001b[0m   \u001b[0;32melif\u001b[0m \u001b[0mfun\u001b[0m \u001b[0;32min\u001b[0m \u001b[0;34m(\u001b[0m\u001b[0mhex\u001b[0m\u001b[0;34m,\u001b[0m \u001b[0moct\u001b[0m\u001b[0;34m,\u001b[0m \u001b[0moperator\u001b[0m\u001b[0;34m.\u001b[0m\u001b[0mindex\u001b[0m\u001b[0;34m)\u001b[0m\u001b[0;34m:\u001b[0m\u001b[0;34m\u001b[0m\u001b[0;34m\u001b[0m\u001b[0m\n\u001b[1;32m   1574\u001b[0m     \u001b[0;32mdef\u001b[0m \u001b[0merror\u001b[0m\u001b[0;34m(\u001b[0m\u001b[0mself\u001b[0m\u001b[0;34m,\u001b[0m \u001b[0marg\u001b[0m\u001b[0;34m)\u001b[0m\u001b[0;34m:\u001b[0m\u001b[0;34m\u001b[0m\u001b[0;34m\u001b[0m\u001b[0m\n",
            "\u001b[0;31mTracerBoolConversionError\u001b[0m: Attempted boolean conversion of traced array with shape bool[].\nThe error occurred while tracing the function f at /tmp/ipython-input-4-3402096563.py:1 for jit. This concrete value was not available in Python because it depends on the value of the argument x.\nSee https://jax.readthedocs.io/en/latest/errors.html#jax.errors.TracerBoolConversionError"
          ]
        }
      ]
    },
    {
      "cell_type": "markdown",
      "source": [
        "Neither does this:"
      ],
      "metadata": {
        "id": "S6sUTSyOBUHz"
      }
    },
    {
      "cell_type": "code",
      "source": [
        "@jit\n",
        "def g(x):\n",
        "  return (x > 0) and (x < 3)\n",
        "\n",
        "# This will fail!\n",
        "g(2)"
      ],
      "metadata": {
        "colab": {
          "base_uri": "https://localhost:8080/",
          "height": 453
        },
        "id": "T-_z1_E0BU80",
        "outputId": "b31b2fdf-951a-4701-da0a-2e611de48550"
      },
      "execution_count": 5,
      "outputs": [
        {
          "output_type": "error",
          "ename": "TracerBoolConversionError",
          "evalue": "Attempted boolean conversion of traced array with shape bool[].\nThe error occurred while tracing the function g at /tmp/ipython-input-5-543860509.py:1 for jit. This concrete value was not available in Python because it depends on the value of the argument x.\nSee https://jax.readthedocs.io/en/latest/errors.html#jax.errors.TracerBoolConversionError",
          "traceback": [
            "\u001b[0;31m---------------------------------------------------------------------------\u001b[0m",
            "\u001b[0;31mTracerBoolConversionError\u001b[0m                 Traceback (most recent call last)",
            "\u001b[0;32m/tmp/ipython-input-5-543860509.py\u001b[0m in \u001b[0;36m<cell line: 0>\u001b[0;34m()\u001b[0m\n\u001b[1;32m      4\u001b[0m \u001b[0;34m\u001b[0m\u001b[0m\n\u001b[1;32m      5\u001b[0m \u001b[0;31m# This will fail!\u001b[0m\u001b[0;34m\u001b[0m\u001b[0;34m\u001b[0m\u001b[0m\n\u001b[0;32m----> 6\u001b[0;31m \u001b[0mg\u001b[0m\u001b[0;34m(\u001b[0m\u001b[0;36m2\u001b[0m\u001b[0;34m)\u001b[0m\u001b[0;34m\u001b[0m\u001b[0;34m\u001b[0m\u001b[0m\n\u001b[0m",
            "    \u001b[0;31m[... skipping hidden 13 frame]\u001b[0m\n",
            "\u001b[0;32m/tmp/ipython-input-5-543860509.py\u001b[0m in \u001b[0;36mg\u001b[0;34m(x)\u001b[0m\n\u001b[1;32m      1\u001b[0m \u001b[0;34m@\u001b[0m\u001b[0mjit\u001b[0m\u001b[0;34m\u001b[0m\u001b[0;34m\u001b[0m\u001b[0m\n\u001b[1;32m      2\u001b[0m \u001b[0;32mdef\u001b[0m \u001b[0mg\u001b[0m\u001b[0;34m(\u001b[0m\u001b[0mx\u001b[0m\u001b[0;34m)\u001b[0m\u001b[0;34m:\u001b[0m\u001b[0;34m\u001b[0m\u001b[0;34m\u001b[0m\u001b[0m\n\u001b[0;32m----> 3\u001b[0;31m   \u001b[0;32mreturn\u001b[0m \u001b[0;34m(\u001b[0m\u001b[0mx\u001b[0m \u001b[0;34m>\u001b[0m \u001b[0;36m0\u001b[0m\u001b[0;34m)\u001b[0m \u001b[0;32mand\u001b[0m \u001b[0;34m(\u001b[0m\u001b[0mx\u001b[0m \u001b[0;34m<\u001b[0m \u001b[0;36m3\u001b[0m\u001b[0;34m)\u001b[0m\u001b[0;34m\u001b[0m\u001b[0;34m\u001b[0m\u001b[0m\n\u001b[0m\u001b[1;32m      4\u001b[0m \u001b[0;34m\u001b[0m\u001b[0m\n\u001b[1;32m      5\u001b[0m \u001b[0;31m# This will fail!\u001b[0m\u001b[0;34m\u001b[0m\u001b[0;34m\u001b[0m\u001b[0m\n",
            "    \u001b[0;31m[... skipping hidden 1 frame]\u001b[0m\n",
            "\u001b[0;32m/usr/local/lib/python3.11/dist-packages/jax/_src/core.py\u001b[0m in \u001b[0;36merror\u001b[0;34m(self, arg)\u001b[0m\n\u001b[1;32m   1570\u001b[0m   \u001b[0;32mif\u001b[0m \u001b[0mfun\u001b[0m \u001b[0;32mis\u001b[0m \u001b[0mbool\u001b[0m\u001b[0;34m:\u001b[0m\u001b[0;34m\u001b[0m\u001b[0;34m\u001b[0m\u001b[0m\n\u001b[1;32m   1571\u001b[0m     \u001b[0;32mdef\u001b[0m \u001b[0merror\u001b[0m\u001b[0;34m(\u001b[0m\u001b[0mself\u001b[0m\u001b[0;34m,\u001b[0m \u001b[0marg\u001b[0m\u001b[0;34m)\u001b[0m\u001b[0;34m:\u001b[0m\u001b[0;34m\u001b[0m\u001b[0;34m\u001b[0m\u001b[0m\n\u001b[0;32m-> 1572\u001b[0;31m       \u001b[0;32mraise\u001b[0m \u001b[0mTracerBoolConversionError\u001b[0m\u001b[0;34m(\u001b[0m\u001b[0marg\u001b[0m\u001b[0;34m)\u001b[0m\u001b[0;34m\u001b[0m\u001b[0;34m\u001b[0m\u001b[0m\n\u001b[0m\u001b[1;32m   1573\u001b[0m   \u001b[0;32melif\u001b[0m \u001b[0mfun\u001b[0m \u001b[0;32min\u001b[0m \u001b[0;34m(\u001b[0m\u001b[0mhex\u001b[0m\u001b[0;34m,\u001b[0m \u001b[0moct\u001b[0m\u001b[0;34m,\u001b[0m \u001b[0moperator\u001b[0m\u001b[0;34m.\u001b[0m\u001b[0mindex\u001b[0m\u001b[0;34m)\u001b[0m\u001b[0;34m:\u001b[0m\u001b[0;34m\u001b[0m\u001b[0;34m\u001b[0m\u001b[0m\n\u001b[1;32m   1574\u001b[0m     \u001b[0;32mdef\u001b[0m \u001b[0merror\u001b[0m\u001b[0;34m(\u001b[0m\u001b[0mself\u001b[0m\u001b[0;34m,\u001b[0m \u001b[0marg\u001b[0m\u001b[0;34m)\u001b[0m\u001b[0;34m:\u001b[0m\u001b[0;34m\u001b[0m\u001b[0;34m\u001b[0m\u001b[0m\n",
            "\u001b[0;31mTracerBoolConversionError\u001b[0m: Attempted boolean conversion of traced array with shape bool[].\nThe error occurred while tracing the function g at /tmp/ipython-input-5-543860509.py:1 for jit. This concrete value was not available in Python because it depends on the value of the argument x.\nSee https://jax.readthedocs.io/en/latest/errors.html#jax.errors.TracerBoolConversionError"
          ]
        }
      ]
    },
    {
      "cell_type": "markdown",
      "source": [
        "**What gives!?**\n",
        "\n",
        "When we jit-compile a function, we usually want to compile a version of the function that works for many different argument values, so that we can cache and reuse the compiled code. That way we don’t have to re-compile on each function evaluation.\n",
        "\n",
        "For example, if we evaluate an @jit function on the array jnp.array([1., 2., 3.], jnp.float32), we might want to compile code that we can reuse to evaluate the function on jnp.array([4., 5., 6.], jnp.float32) to save on compile time.\n",
        "\n",
        "To get a view of your Python code that is valid for many different argument values, JAX traces it with the ShapedArray abstraction as input, where each abstract value represents the set of all array values with a fixed shape and dtype. For example, if we trace using the abstract value ShapedArray((3,), jnp.float32), we get a view of the function that can be reused for any concrete value in the corresponding set of arrays. That means we can save on compile time.\n",
        "\n",
        "But there’s a tradeoff here: if we trace a Python function on a ShapedArray((), jnp.float32) that isn’t committed to a specific concrete value, when we hit a line like if x < 3, the expression x < 3 evaluates to an abstract ShapedArray((), jnp.bool_) that represents the set {True, False}. When Python attempts to coerce that to a concrete True or False, we get an error: we don’t know which branch to take, and can’t continue tracing! The tradeoff is that with higher levels of abstraction we gain a more general view of the Python code (and thus save on re-compilations), but we require more constraints on the Python code to complete the trace.\n",
        "\n",
        "The good news is that you can control this tradeoff yourself. By having jit trace on more refined abstract values, you can relax the traceability constraints. For example, using the static_argnames (or static_argnums) argument to jit, we can specify to trace on concrete values of some arguments. Here’s that example function again:"
      ],
      "metadata": {
        "id": "SUyKscWEBYyD"
      }
    },
    {
      "cell_type": "code",
      "source": [
        "def f(x):\n",
        "  if x < 3:\n",
        "    return 3. * x ** 2\n",
        "  else:\n",
        "    return -4 * x\n",
        "\n",
        "f = jit(f, static_argnames='x')\n",
        "\n",
        "print(f(2.))"
      ],
      "metadata": {
        "colab": {
          "base_uri": "https://localhost:8080/"
        },
        "id": "P6ZYwMz1BbWT",
        "outputId": "22932c19-b804-4c08-ae3b-863b535238ad"
      },
      "execution_count": 6,
      "outputs": [
        {
          "output_type": "stream",
          "name": "stdout",
          "text": [
            "12.0\n"
          ]
        }
      ]
    },
    {
      "cell_type": "markdown",
      "source": [
        "Here’s another example, this time involving a loop:"
      ],
      "metadata": {
        "id": "2Q_MqyCLDi-T"
      }
    },
    {
      "cell_type": "code",
      "source": [
        "def f(x, n):\n",
        "  y = 0.\n",
        "  for i in range(n):\n",
        "    y = y + x[i]\n",
        "  return y\n",
        "\n",
        "f = jit(f, static_argnames='n')\n",
        "\n",
        "f(jnp.array([2., 3., 4.]), 2)"
      ],
      "metadata": {
        "colab": {
          "base_uri": "https://localhost:8080/"
        },
        "id": "0m-m2BufDj77",
        "outputId": "50b52bcf-1911-4761-8cdc-f4af272c4aaa"
      },
      "execution_count": 7,
      "outputs": [
        {
          "output_type": "execute_result",
          "data": {
            "text/plain": [
              "Array(5., dtype=float32)"
            ]
          },
          "metadata": {},
          "execution_count": 7
        }
      ]
    },
    {
      "cell_type": "markdown",
      "source": [
        "In effect, the loop gets statically unrolled. JAX can also trace at higher levels of abstraction, like Unshaped, but that’s not currently the default for any transformation\n",
        "\n",
        "️⚠️ **functions with argument-value dependent shapes**\n",
        "\n",
        "These control-flow issues also come up in a more subtle way: numerical functions we want to jit can’t specialize the shapes of internal arrays on argument values (specializing on argument shapes is ok). As a trivial example, let’s make a function whose output happens to depend on the input variable length."
      ],
      "metadata": {
        "id": "guVuQiLmE3tz"
      }
    },
    {
      "cell_type": "code",
      "source": [
        "def example_fun(length, val):\n",
        "  return jnp.ones((length,)) * val\n",
        "# un-jit'd works fine\n",
        "print(example_fun(5, 4))"
      ],
      "metadata": {
        "colab": {
          "base_uri": "https://localhost:8080/"
        },
        "id": "-AF-nOFaE7d6",
        "outputId": "a361d8ad-4b79-4b3a-ecc7-90bf109fba97"
      },
      "execution_count": 8,
      "outputs": [
        {
          "output_type": "stream",
          "name": "stdout",
          "text": [
            "[4. 4. 4. 4. 4.]\n"
          ]
        }
      ]
    },
    {
      "cell_type": "code",
      "source": [
        "bad_example_jit = jit(example_fun)\n",
        "# this will fail:\n",
        "bad_example_jit(10, 4)"
      ],
      "metadata": {
        "colab": {
          "base_uri": "https://localhost:8080/",
          "height": 435
        },
        "id": "SYUJ2DqlI1_x",
        "outputId": "6824b04b-0b7a-4231-ccb3-ae92934c798e"
      },
      "execution_count": 9,
      "outputs": [
        {
          "output_type": "error",
          "ename": "TypeError",
          "evalue": "Shapes must be 1D sequences of concrete values of integer type, got (Traced<ShapedArray(int32[], weak_type=True)>with<DynamicJaxprTrace>,).\nIf using `jit`, try using `static_argnums` or applying `jit` to smaller subfunctions.\nThe error occurred while tracing the function example_fun at /tmp/ipython-input-8-1210496444.py:1 for jit. This concrete value was not available in Python because it depends on the value of the argument length.",
          "traceback": [
            "\u001b[0;31m---------------------------------------------------------------------------\u001b[0m",
            "\u001b[0;31mTypeError\u001b[0m                                 Traceback (most recent call last)",
            "\u001b[0;32m/tmp/ipython-input-9-2392298073.py\u001b[0m in \u001b[0;36m<cell line: 0>\u001b[0;34m()\u001b[0m\n\u001b[1;32m      1\u001b[0m \u001b[0mbad_example_jit\u001b[0m \u001b[0;34m=\u001b[0m \u001b[0mjit\u001b[0m\u001b[0;34m(\u001b[0m\u001b[0mexample_fun\u001b[0m\u001b[0;34m)\u001b[0m\u001b[0;34m\u001b[0m\u001b[0;34m\u001b[0m\u001b[0m\n\u001b[1;32m      2\u001b[0m \u001b[0;31m# this will fail:\u001b[0m\u001b[0;34m\u001b[0m\u001b[0;34m\u001b[0m\u001b[0m\n\u001b[0;32m----> 3\u001b[0;31m \u001b[0mbad_example_jit\u001b[0m\u001b[0;34m(\u001b[0m\u001b[0;36m10\u001b[0m\u001b[0;34m,\u001b[0m \u001b[0;36m4\u001b[0m\u001b[0;34m)\u001b[0m\u001b[0;34m\u001b[0m\u001b[0;34m\u001b[0m\u001b[0m\n\u001b[0m",
            "    \u001b[0;31m[... skipping hidden 13 frame]\u001b[0m\n",
            "\u001b[0;32m/tmp/ipython-input-8-1210496444.py\u001b[0m in \u001b[0;36mexample_fun\u001b[0;34m(length, val)\u001b[0m\n\u001b[1;32m      1\u001b[0m \u001b[0;32mdef\u001b[0m \u001b[0mexample_fun\u001b[0m\u001b[0;34m(\u001b[0m\u001b[0mlength\u001b[0m\u001b[0;34m,\u001b[0m \u001b[0mval\u001b[0m\u001b[0;34m)\u001b[0m\u001b[0;34m:\u001b[0m\u001b[0;34m\u001b[0m\u001b[0;34m\u001b[0m\u001b[0m\n\u001b[0;32m----> 2\u001b[0;31m   \u001b[0;32mreturn\u001b[0m \u001b[0mjnp\u001b[0m\u001b[0;34m.\u001b[0m\u001b[0mones\u001b[0m\u001b[0;34m(\u001b[0m\u001b[0;34m(\u001b[0m\u001b[0mlength\u001b[0m\u001b[0;34m,\u001b[0m\u001b[0;34m)\u001b[0m\u001b[0;34m)\u001b[0m \u001b[0;34m*\u001b[0m \u001b[0mval\u001b[0m\u001b[0;34m\u001b[0m\u001b[0;34m\u001b[0m\u001b[0m\n\u001b[0m\u001b[1;32m      3\u001b[0m \u001b[0;31m# un-jit'd works fine\u001b[0m\u001b[0;34m\u001b[0m\u001b[0;34m\u001b[0m\u001b[0m\n\u001b[1;32m      4\u001b[0m \u001b[0mprint\u001b[0m\u001b[0;34m(\u001b[0m\u001b[0mexample_fun\u001b[0m\u001b[0;34m(\u001b[0m\u001b[0;36m5\u001b[0m\u001b[0;34m,\u001b[0m \u001b[0;36m4\u001b[0m\u001b[0;34m)\u001b[0m\u001b[0;34m)\u001b[0m\u001b[0;34m\u001b[0m\u001b[0;34m\u001b[0m\u001b[0m\n",
            "\u001b[0;32m/usr/local/lib/python3.11/dist-packages/jax/_src/numpy/array_creation.py\u001b[0m in \u001b[0;36mones\u001b[0;34m(shape, dtype, device)\u001b[0m\n\u001b[1;32m    111\u001b[0m     \u001b[0;32mraise\u001b[0m \u001b[0mTypeError\u001b[0m\u001b[0;34m(\u001b[0m\u001b[0;34m\"expected sequence object with len >= 0 or a single integer\"\u001b[0m\u001b[0;34m)\u001b[0m\u001b[0;34m\u001b[0m\u001b[0;34m\u001b[0m\u001b[0m\n\u001b[1;32m    112\u001b[0m   \u001b[0;32mif\u001b[0m \u001b[0;34m(\u001b[0m\u001b[0mm\u001b[0m \u001b[0;34m:=\u001b[0m \u001b[0m_check_forgot_shape_tuple\u001b[0m\u001b[0;34m(\u001b[0m\u001b[0;34m\"ones\"\u001b[0m\u001b[0;34m,\u001b[0m \u001b[0mshape\u001b[0m\u001b[0;34m,\u001b[0m \u001b[0mdtype\u001b[0m\u001b[0;34m)\u001b[0m\u001b[0;34m)\u001b[0m\u001b[0;34m:\u001b[0m \u001b[0;32mraise\u001b[0m \u001b[0mTypeError\u001b[0m\u001b[0;34m(\u001b[0m\u001b[0mm\u001b[0m\u001b[0;34m)\u001b[0m\u001b[0;34m\u001b[0m\u001b[0;34m\u001b[0m\u001b[0m\n\u001b[0;32m--> 113\u001b[0;31m   \u001b[0mshape\u001b[0m \u001b[0;34m=\u001b[0m \u001b[0mcanonicalize_shape\u001b[0m\u001b[0;34m(\u001b[0m\u001b[0mshape\u001b[0m\u001b[0;34m)\u001b[0m\u001b[0;34m\u001b[0m\u001b[0;34m\u001b[0m\u001b[0m\n\u001b[0m\u001b[1;32m    114\u001b[0m   \u001b[0mdtypes\u001b[0m\u001b[0;34m.\u001b[0m\u001b[0mcheck_user_dtype_supported\u001b[0m\u001b[0;34m(\u001b[0m\u001b[0mdtype\u001b[0m\u001b[0;34m,\u001b[0m \u001b[0;34m\"ones\"\u001b[0m\u001b[0;34m)\u001b[0m\u001b[0;34m\u001b[0m\u001b[0;34m\u001b[0m\u001b[0m\n\u001b[1;32m    115\u001b[0m   \u001b[0;32mreturn\u001b[0m \u001b[0mlax\u001b[0m\u001b[0;34m.\u001b[0m\u001b[0mfull\u001b[0m\u001b[0;34m(\u001b[0m\u001b[0mshape\u001b[0m\u001b[0;34m,\u001b[0m \u001b[0;36m1\u001b[0m\u001b[0;34m,\u001b[0m \u001b[0mdtypes\u001b[0m\u001b[0;34m.\u001b[0m\u001b[0mjax_dtype\u001b[0m\u001b[0;34m(\u001b[0m\u001b[0mdtype\u001b[0m\u001b[0;34m)\u001b[0m\u001b[0;34m,\u001b[0m \u001b[0msharding\u001b[0m\u001b[0;34m=\u001b[0m\u001b[0mutil\u001b[0m\u001b[0;34m.\u001b[0m\u001b[0mnormalize_device_to_sharding\u001b[0m\u001b[0;34m(\u001b[0m\u001b[0mdevice\u001b[0m\u001b[0;34m)\u001b[0m\u001b[0;34m)\u001b[0m\u001b[0;34m\u001b[0m\u001b[0;34m\u001b[0m\u001b[0m\n",
            "\u001b[0;32m/usr/local/lib/python3.11/dist-packages/jax/_src/numpy/array_creation.py\u001b[0m in \u001b[0;36mcanonicalize_shape\u001b[0;34m(shape, context)\u001b[0m\n\u001b[1;32m     39\u001b[0m     \u001b[0;32mreturn\u001b[0m \u001b[0mcore\u001b[0m\u001b[0;34m.\u001b[0m\u001b[0mcanonicalize_shape\u001b[0m\u001b[0;34m(\u001b[0m\u001b[0;34m(\u001b[0m\u001b[0mshape\u001b[0m\u001b[0;34m,\u001b[0m\u001b[0;34m)\u001b[0m\u001b[0;34m,\u001b[0m \u001b[0mcontext\u001b[0m\u001b[0;34m)\u001b[0m\u001b[0;34m\u001b[0m\u001b[0;34m\u001b[0m\u001b[0m\n\u001b[1;32m     40\u001b[0m   \u001b[0;32melse\u001b[0m\u001b[0;34m:\u001b[0m\u001b[0;34m\u001b[0m\u001b[0;34m\u001b[0m\u001b[0m\n\u001b[0;32m---> 41\u001b[0;31m     \u001b[0;32mreturn\u001b[0m \u001b[0mcore\u001b[0m\u001b[0;34m.\u001b[0m\u001b[0mcanonicalize_shape\u001b[0m\u001b[0;34m(\u001b[0m\u001b[0mshape\u001b[0m\u001b[0;34m,\u001b[0m \u001b[0mcontext\u001b[0m\u001b[0;34m)\u001b[0m\u001b[0;34m\u001b[0m\u001b[0;34m\u001b[0m\u001b[0m\n\u001b[0m\u001b[1;32m     42\u001b[0m \u001b[0;34m\u001b[0m\u001b[0m\n\u001b[1;32m     43\u001b[0m \u001b[0;34m\u001b[0m\u001b[0m\n",
            "\u001b[0;32m/usr/local/lib/python3.11/dist-packages/jax/_src/core.py\u001b[0m in \u001b[0;36mcanonicalize_shape\u001b[0;34m(shape, context)\u001b[0m\n\u001b[1;32m   1715\u001b[0m   \u001b[0;32mexcept\u001b[0m \u001b[0mTypeError\u001b[0m\u001b[0;34m:\u001b[0m\u001b[0;34m\u001b[0m\u001b[0;34m\u001b[0m\u001b[0m\n\u001b[1;32m   1716\u001b[0m     \u001b[0;32mpass\u001b[0m\u001b[0;34m\u001b[0m\u001b[0;34m\u001b[0m\u001b[0m\n\u001b[0;32m-> 1717\u001b[0;31m   \u001b[0;32mraise\u001b[0m \u001b[0m_invalid_shape_error\u001b[0m\u001b[0;34m(\u001b[0m\u001b[0mshape\u001b[0m\u001b[0;34m,\u001b[0m \u001b[0mcontext\u001b[0m\u001b[0;34m)\u001b[0m\u001b[0;34m\u001b[0m\u001b[0;34m\u001b[0m\u001b[0m\n\u001b[0m\u001b[1;32m   1718\u001b[0m \u001b[0;34m\u001b[0m\u001b[0m\n\u001b[1;32m   1719\u001b[0m \u001b[0;32mdef\u001b[0m \u001b[0mcanonicalize_dim\u001b[0m\u001b[0;34m(\u001b[0m\u001b[0md\u001b[0m\u001b[0;34m:\u001b[0m \u001b[0mDimSize\u001b[0m\u001b[0;34m,\u001b[0m \u001b[0mcontext\u001b[0m\u001b[0;34m:\u001b[0m \u001b[0mstr\u001b[0m\u001b[0;34m=\u001b[0m\u001b[0;34m\"\"\u001b[0m\u001b[0;34m)\u001b[0m \u001b[0;34m->\u001b[0m \u001b[0mDimSize\u001b[0m\u001b[0;34m:\u001b[0m\u001b[0;34m\u001b[0m\u001b[0;34m\u001b[0m\u001b[0m\n",
            "\u001b[0;31mTypeError\u001b[0m: Shapes must be 1D sequences of concrete values of integer type, got (Traced<ShapedArray(int32[], weak_type=True)>with<DynamicJaxprTrace>,).\nIf using `jit`, try using `static_argnums` or applying `jit` to smaller subfunctions.\nThe error occurred while tracing the function example_fun at /tmp/ipython-input-8-1210496444.py:1 for jit. This concrete value was not available in Python because it depends on the value of the argument length."
          ]
        }
      ]
    },
    {
      "cell_type": "code",
      "source": [
        "# static_argnames tells JAX to recompile on changes at these argument positions:\n",
        "good_example_jit = jit(example_fun, static_argnames='length')\n",
        "# first compile\n",
        "print(good_example_jit(10, 4))\n",
        "# recompiles\n",
        "print(good_example_jit(5, 4))"
      ],
      "metadata": {
        "colab": {
          "base_uri": "https://localhost:8080/"
        },
        "id": "V9_RKXTnI3v5",
        "outputId": "74fd784f-1263-4e74-9081-199047ea367f"
      },
      "execution_count": 10,
      "outputs": [
        {
          "output_type": "stream",
          "name": "stdout",
          "text": [
            "[4. 4. 4. 4. 4. 4. 4. 4. 4. 4.]\n",
            "[4. 4. 4. 4. 4.]\n"
          ]
        }
      ]
    },
    {
      "cell_type": "markdown",
      "source": [
        "static_argnames can be handy if length in our example rarely changes, but it would be disastrous if it changed a lot!\n",
        "\n",
        "Lastly, if your function has global side-effects, JAX’s tracer can cause weird things to happen. A common gotcha is trying to print arrays inside jit’d functions:"
      ],
      "metadata": {
        "id": "5DLxeG-3I7HZ"
      }
    },
    {
      "cell_type": "code",
      "source": [
        "@jit\n",
        "def f(x):\n",
        "  print(x)\n",
        "  y = 2 * x\n",
        "  print(y)\n",
        "  return y\n",
        "f(2)"
      ],
      "metadata": {
        "colab": {
          "base_uri": "https://localhost:8080/"
        },
        "id": "PpIBfrIyI8Tg",
        "outputId": "e601510d-148e-46f8-e4c9-80874fa1e35a"
      },
      "execution_count": 11,
      "outputs": [
        {
          "output_type": "stream",
          "name": "stdout",
          "text": [
            "Traced<ShapedArray(int32[], weak_type=True)>with<DynamicJaxprTrace>\n",
            "Traced<ShapedArray(int32[], weak_type=True)>with<DynamicJaxprTrace>\n"
          ]
        },
        {
          "output_type": "execute_result",
          "data": {
            "text/plain": [
              "Array(4, dtype=int32, weak_type=True)"
            ]
          },
          "metadata": {},
          "execution_count": 11
        }
      ]
    },
    {
      "cell_type": "markdown",
      "source": [
        "# Structured control flow primitives"
      ],
      "metadata": {
        "id": "xtnEblV1JC3A"
      }
    },
    {
      "cell_type": "markdown",
      "source": [
        "There are more options for control flow in JAX. Say you want to avoid re-compilations but still want to use control flow that’s traceable, and that avoids un-rolling large loops. Then you can use these 4 structured control flow primitives:\n",
        "\n",
        "1. lax.cond differentiable\n",
        "\n",
        "2. lax.while_loop fwd-mode-differentiable\n",
        "\n",
        "3. lax.fori_loop fwd-mode-differentiable in general; fwd and rev-mode differentiable if endpoints are static.\n",
        "\n",
        "4. lax.scan differentiable"
      ],
      "metadata": {
        "id": "SV-E2eddJGYR"
      }
    },
    {
      "cell_type": "markdown",
      "source": [
        "## cond"
      ],
      "metadata": {
        "id": "IEVp2KNbJMXx"
      }
    },
    {
      "cell_type": "markdown",
      "source": [
        "python equivalent:"
      ],
      "metadata": {
        "id": "P02C7zViJQfQ"
      }
    },
    {
      "cell_type": "code",
      "source": [
        "def cond(pred, true_fun, false_fun, operand):\n",
        "  if pred:\n",
        "    return true_fun(operand)\n",
        "  else:\n",
        "    return false_fun(operand)"
      ],
      "metadata": {
        "id": "6TS7D6ioJSHh"
      },
      "execution_count": 12,
      "outputs": []
    },
    {
      "cell_type": "code",
      "source": [
        "from jax import lax\n",
        "\n",
        "operand = jnp.array([0.])\n",
        "lax.cond(True, lambda x: x+1, lambda x: x-1, operand)\n",
        "# --> array([1.], dtype=float32)\n",
        "lax.cond(False, lambda x: x+1, lambda x: x-1, operand)\n",
        "# --> array([-1.], dtype=float32)"
      ],
      "metadata": {
        "colab": {
          "base_uri": "https://localhost:8080/"
        },
        "id": "Xrs7DJEyJUmp",
        "outputId": "e82fcf9a-22a2-4555-bc9a-f015ecf45603"
      },
      "execution_count": 13,
      "outputs": [
        {
          "output_type": "execute_result",
          "data": {
            "text/plain": [
              "Array([-1.], dtype=float32)"
            ]
          },
          "metadata": {},
          "execution_count": 13
        }
      ]
    },
    {
      "cell_type": "markdown",
      "source": [
        "jax.lax provides two other functions that allow branching on dynamic predicates:\n",
        "\n",
        "1. lax.select is like a batched version of lax.cond, with the choices expressed as pre-computed arrays rather than as functions.\n",
        "\n",
        "2. lax.switch is like lax.cond, but allows switching between any number of callable choices.\n",
        "\n",
        "In addition, jax.numpy provides several numpy-style interfaces to these functions:\n",
        "\n",
        "1. jnp.where with three arguments is the numpy-style wrapper of lax.select.\n",
        "\n",
        "2. jnp.piecewise is a numpy-style wrapper of lax.switch, but switches on a list of boolean conditions rather than a single scalar index.\n",
        "\n",
        "3. jnp.select has an API similar to jnp.piecewise, but the choices are given as pre-computed arrays rather than as functions. It is implemented in terms of multiple calls to lax.select."
      ],
      "metadata": {
        "id": "_7FtkYTRJlaY"
      }
    },
    {
      "cell_type": "markdown",
      "source": [
        "## while-loop"
      ],
      "metadata": {
        "id": "N7Rat1ohJrmQ"
      }
    },
    {
      "cell_type": "markdown",
      "source": [
        "python equivalent:"
      ],
      "metadata": {
        "id": "Pm2IM0_6JtfJ"
      }
    },
    {
      "cell_type": "code",
      "source": [
        "def while_loop(cond_fun, body_fun, init_val):\n",
        "  val = init_val\n",
        "  while cond_fun(val):\n",
        "    val = body_fun(val)\n",
        "  return val"
      ],
      "metadata": {
        "id": "L3g5J7JpJuWx"
      },
      "execution_count": 14,
      "outputs": []
    },
    {
      "cell_type": "code",
      "source": [
        "init_val = 0\n",
        "cond_fun = lambda x: x < 10\n",
        "body_fun = lambda x: x+1\n",
        "lax.while_loop(cond_fun, body_fun, init_val)\n",
        "# --> array(10, dtype=int32)"
      ],
      "metadata": {
        "colab": {
          "base_uri": "https://localhost:8080/"
        },
        "id": "JjKfFI7LJxGQ",
        "outputId": "01b0687b-6802-4f93-c494-dc6d4dea3496"
      },
      "execution_count": 15,
      "outputs": [
        {
          "output_type": "execute_result",
          "data": {
            "text/plain": [
              "Array(10, dtype=int32, weak_type=True)"
            ]
          },
          "metadata": {},
          "execution_count": 15
        }
      ]
    },
    {
      "cell_type": "markdown",
      "source": [
        "## fori_loop"
      ],
      "metadata": {
        "id": "wI70F1UGJyuQ"
      }
    },
    {
      "cell_type": "markdown",
      "source": [
        "python equivalent:"
      ],
      "metadata": {
        "id": "rVGykvlvJ0So"
      }
    },
    {
      "cell_type": "code",
      "source": [
        "def fori_loop(start, stop, body_fun, init_val):\n",
        "  val = init_val\n",
        "  for i in range(start, stop):\n",
        "    val = body_fun(i, val)\n",
        "  return val"
      ],
      "metadata": {
        "id": "7hqG-btjJ1Mi"
      },
      "execution_count": 16,
      "outputs": []
    },
    {
      "cell_type": "code",
      "source": [
        "init_val = 0\n",
        "start = 0\n",
        "stop = 10\n",
        "body_fun = lambda i,x: x+i\n",
        "lax.fori_loop(start, stop, body_fun, init_val)\n",
        "# --> array(45, dtype=int32)"
      ],
      "metadata": {
        "colab": {
          "base_uri": "https://localhost:8080/"
        },
        "id": "KFUNzAIoJ2Mw",
        "outputId": "843fc1af-f8e5-4926-8289-53ad86c4ee29"
      },
      "execution_count": 17,
      "outputs": [
        {
          "output_type": "execute_result",
          "data": {
            "text/plain": [
              "Array(45, dtype=int32, weak_type=True)"
            ]
          },
          "metadata": {},
          "execution_count": 17
        }
      ]
    },
    {
      "cell_type": "markdown",
      "source": [
        "# Summary"
      ],
      "metadata": {
        "id": "9laGQ8a4S2Cs"
      }
    },
    {
      "cell_type": "markdown",
      "source": [
        "![屏幕截图 2025-06-25 141350.png](data:image/png;base64,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)"
      ],
      "metadata": {
        "id": "v0YHv1GNS3Z0"
      }
    },
    {
      "cell_type": "markdown",
      "source": [
        "# Logical operators"
      ],
      "metadata": {
        "id": "cVsOq6wwTAEt"
      }
    },
    {
      "cell_type": "markdown",
      "source": [
        "jax.numpy provides logical_and, logical_or, and logical_not, which operate element-wise on arrays and can be evaluated under jit without recompiling. Like their Numpy counterparts, the binary operators do not short circuit. Bitwise operators (&, |, ~) can also be used with jit.\n",
        "\n",
        "For example, consider a function that checks if its input is a positive even integer. The pure Python and JAX versions give the same answer when the input is scalar."
      ],
      "metadata": {
        "id": "I-gx2eizTE31"
      }
    },
    {
      "cell_type": "code",
      "source": [
        "def python_check_positive_even(x):\n",
        "  is_even = x % 2 == 0\n",
        "  # `and` short-circults, so when `is_even` is `False`, `x > 0` is not evaluated.\n",
        "  return is_even and (x > 0)\n",
        "\n",
        "@jit\n",
        "def jax_check_positive_even(x):\n",
        "  is_even = x % 2 == 0\n",
        "  # `logical_and` does not short circuit, so `x > 0` is always evaluated.\n",
        "  return jnp.logical_and(is_even, x > 0)\n",
        "\n",
        "print(python_check_positive_even(24))\n",
        "print(jax_check_positive_even(24))"
      ],
      "metadata": {
        "colab": {
          "base_uri": "https://localhost:8080/"
        },
        "id": "Ycj7KBdvV4cj",
        "outputId": "bf7bb2c8-04e8-4332-b139-308e5b7fe3f8"
      },
      "execution_count": 18,
      "outputs": [
        {
          "output_type": "stream",
          "name": "stdout",
          "text": [
            "True\n",
            "True\n"
          ]
        }
      ]
    },
    {
      "cell_type": "markdown",
      "source": [
        "When the JAX version with logical_and is applied to an array, it returns elementwise values."
      ],
      "metadata": {
        "id": "XTj1GA5kWEJb"
      }
    },
    {
      "cell_type": "code",
      "source": [
        "x = jnp.array([-1, 2, 5])\n",
        "print(jax_check_positive_even(x))"
      ],
      "metadata": {
        "colab": {
          "base_uri": "https://localhost:8080/"
        },
        "id": "VczPGqtdWFD8",
        "outputId": "579d4a41-3b15-4194-ffad-66e6592f132e"
      },
      "execution_count": 19,
      "outputs": [
        {
          "output_type": "stream",
          "name": "stdout",
          "text": [
            "[False  True False]\n"
          ]
        }
      ]
    },
    {
      "cell_type": "markdown",
      "source": [
        "[False  True False]\n",
        "Python logical operators error when applied to JAX arrays of more than one element, even without jit. This replicates NumPy’s behavior."
      ],
      "metadata": {
        "id": "cLidxU_RXzID"
      }
    },
    {
      "cell_type": "code",
      "source": [
        "print(python_check_positive_even(x))"
      ],
      "metadata": {
        "colab": {
          "base_uri": "https://localhost:8080/",
          "height": 304
        },
        "id": "7StpqmP7X0Fj",
        "outputId": "f333646b-b226-46d2-d477-5b5c940a8349"
      },
      "execution_count": 20,
      "outputs": [
        {
          "output_type": "error",
          "ename": "ValueError",
          "evalue": "The truth value of an array with more than one element is ambiguous. Use a.any() or a.all()",
          "traceback": [
            "\u001b[0;31m---------------------------------------------------------------------------\u001b[0m",
            "\u001b[0;31mValueError\u001b[0m                                Traceback (most recent call last)",
            "\u001b[0;32m/tmp/ipython-input-20-376774418.py\u001b[0m in \u001b[0;36m<cell line: 0>\u001b[0;34m()\u001b[0m\n\u001b[0;32m----> 1\u001b[0;31m \u001b[0mprint\u001b[0m\u001b[0;34m(\u001b[0m\u001b[0mpython_check_positive_even\u001b[0m\u001b[0;34m(\u001b[0m\u001b[0mx\u001b[0m\u001b[0;34m)\u001b[0m\u001b[0;34m)\u001b[0m\u001b[0;34m\u001b[0m\u001b[0;34m\u001b[0m\u001b[0m\n\u001b[0m",
            "\u001b[0;32m/tmp/ipython-input-18-3199076673.py\u001b[0m in \u001b[0;36mpython_check_positive_even\u001b[0;34m(x)\u001b[0m\n\u001b[1;32m      2\u001b[0m   \u001b[0mis_even\u001b[0m \u001b[0;34m=\u001b[0m \u001b[0mx\u001b[0m \u001b[0;34m%\u001b[0m \u001b[0;36m2\u001b[0m \u001b[0;34m==\u001b[0m \u001b[0;36m0\u001b[0m\u001b[0;34m\u001b[0m\u001b[0;34m\u001b[0m\u001b[0m\n\u001b[1;32m      3\u001b[0m   \u001b[0;31m# `and` short-circults, so when `is_even` is `False`, `x > 0` is not evaluated.\u001b[0m\u001b[0;34m\u001b[0m\u001b[0;34m\u001b[0m\u001b[0m\n\u001b[0;32m----> 4\u001b[0;31m   \u001b[0;32mreturn\u001b[0m \u001b[0mis_even\u001b[0m \u001b[0;32mand\u001b[0m \u001b[0;34m(\u001b[0m\u001b[0mx\u001b[0m \u001b[0;34m>\u001b[0m \u001b[0;36m0\u001b[0m\u001b[0;34m)\u001b[0m\u001b[0;34m\u001b[0m\u001b[0;34m\u001b[0m\u001b[0m\n\u001b[0m\u001b[1;32m      5\u001b[0m \u001b[0;34m\u001b[0m\u001b[0m\n\u001b[1;32m      6\u001b[0m \u001b[0;34m@\u001b[0m\u001b[0mjit\u001b[0m\u001b[0;34m\u001b[0m\u001b[0;34m\u001b[0m\u001b[0m\n",
            "\u001b[0;32m/usr/local/lib/python3.11/dist-packages/jax/_src/array.py\u001b[0m in \u001b[0;36m__bool__\u001b[0;34m(self)\u001b[0m\n\u001b[1;32m    343\u001b[0m \u001b[0;34m\u001b[0m\u001b[0m\n\u001b[1;32m    344\u001b[0m   \u001b[0;32mdef\u001b[0m \u001b[0m__bool__\u001b[0m\u001b[0;34m(\u001b[0m\u001b[0mself\u001b[0m\u001b[0;34m)\u001b[0m\u001b[0;34m:\u001b[0m\u001b[0;34m\u001b[0m\u001b[0;34m\u001b[0m\u001b[0m\n\u001b[0;32m--> 345\u001b[0;31m     \u001b[0mcore\u001b[0m\u001b[0;34m.\u001b[0m\u001b[0mcheck_bool_conversion\u001b[0m\u001b[0;34m(\u001b[0m\u001b[0mself\u001b[0m\u001b[0;34m)\u001b[0m\u001b[0;34m\u001b[0m\u001b[0;34m\u001b[0m\u001b[0m\n\u001b[0m\u001b[1;32m    346\u001b[0m     \u001b[0;32mreturn\u001b[0m \u001b[0mbool\u001b[0m\u001b[0;34m(\u001b[0m\u001b[0mself\u001b[0m\u001b[0;34m.\u001b[0m\u001b[0m_value\u001b[0m\u001b[0;34m)\u001b[0m\u001b[0;34m\u001b[0m\u001b[0;34m\u001b[0m\u001b[0m\n\u001b[1;32m    347\u001b[0m \u001b[0;34m\u001b[0m\u001b[0m\n",
            "\u001b[0;32m/usr/local/lib/python3.11/dist-packages/jax/_src/core.py\u001b[0m in \u001b[0;36mcheck_bool_conversion\u001b[0;34m(arr)\u001b[0m\n\u001b[1;32m    717\u001b[0m                      \" `array.size > 0` to check that an array is not empty.\")\n\u001b[1;32m    718\u001b[0m   \u001b[0;32mif\u001b[0m \u001b[0marr\u001b[0m\u001b[0;34m.\u001b[0m\u001b[0msize\u001b[0m \u001b[0;34m>\u001b[0m \u001b[0;36m1\u001b[0m\u001b[0;34m:\u001b[0m\u001b[0;34m\u001b[0m\u001b[0;34m\u001b[0m\u001b[0m\n\u001b[0;32m--> 719\u001b[0;31m     raise ValueError(\"The truth value of an array with more than one element\"\n\u001b[0m\u001b[1;32m    720\u001b[0m                      \" is ambiguous. Use a.any() or a.all()\")\n\u001b[1;32m    721\u001b[0m \u001b[0;34m\u001b[0m\u001b[0m\n",
            "\u001b[0;31mValueError\u001b[0m: The truth value of an array with more than one element is ambiguous. Use a.any() or a.all()"
          ]
        }
      ]
    },
    {
      "cell_type": "markdown",
      "source": [
        "# Python control flow + autodiff"
      ],
      "metadata": {
        "id": "3L8TwVcNX2Sz"
      }
    },
    {
      "cell_type": "markdown",
      "source": [
        "Remember that the above constraints on control flow and logical operators are relevant only with jit. If you just want to apply grad to your python functions, without jit, you can use regular Python control-flow constructs with no problems, as if you were using Autograd (or Pytorch or TF Eager)."
      ],
      "metadata": {
        "id": "DYY4pbnpX4Gq"
      }
    },
    {
      "cell_type": "code",
      "source": [
        "def f(x):\n",
        "  if x < 3:\n",
        "    return 3. * x ** 2\n",
        "  else:\n",
        "    return -4 * x\n",
        "\n",
        "print(grad(f)(2.))  # ok!\n",
        "print(grad(f)(4.))  # ok!"
      ],
      "metadata": {
        "colab": {
          "base_uri": "https://localhost:8080/"
        },
        "id": "R_LrZ0bOX4jr",
        "outputId": "380c09ec-b692-4e57-e863-dd6b0be5bcaf"
      },
      "execution_count": 21,
      "outputs": [
        {
          "output_type": "stream",
          "name": "stdout",
          "text": [
            "12.0\n",
            "-4.0\n"
          ]
        }
      ]
    }
  ]
}