{
  "nbformat": 4,
  "nbformat_minor": 0,
  "metadata": {
    "colab": {
      "provenance": []
    },
    "kernelspec": {
      "name": "python3",
      "display_name": "Python 3"
    },
    "language_info": {
      "name": "python"
    }
  },
  "cells": [
    {
      "cell_type": "markdown",
      "source": [
        "# jax.debug.print for simple inspection"
      ],
      "metadata": {
        "id": "nt7fkyJG0DKw"
      }
    },
    {
      "cell_type": "markdown",
      "source": [
        "Here is a rule of thumb:\n",
        "\n",
        "Use jax.debug.print() for traced (dynamic) array values with jax.jit(), jax.vmap() and others.\n",
        "\n",
        "Use Python print() for static values, such as dtypes and array shapes.\n",
        "\n",
        "Recall from Just-in-time compilation that when transforming a function with jax.jit(), the Python code is executed with abstract tracers in place of your arrays. Because of this, the Python print() function will only print this tracer value:"
      ],
      "metadata": {
        "id": "A1Y-TGOy0FcY"
      }
    },
    {
      "cell_type": "code",
      "source": [
        "import jax\n",
        "import jax.numpy as jnp\n",
        "\n",
        "@jax.jit\n",
        "def f(x):\n",
        "  print(\"print(x) ->\", x)\n",
        "  y = jnp.sin(x)\n",
        "  print(\"print(y) ->\", y)\n",
        "  return y\n",
        "\n",
        "result = f(2.)"
      ],
      "metadata": {
        "colab": {
          "base_uri": "https://localhost:8080/"
        },
        "id": "1WDa9qZ60GeA",
        "outputId": "c4b5ea2e-18d2-42a4-df7f-c56a14612e29"
      },
      "execution_count": 1,
      "outputs": [
        {
          "output_type": "stream",
          "name": "stdout",
          "text": [
            "print(x) -> Traced<ShapedArray(float32[], weak_type=True)>with<DynamicJaxprTrace>\n",
            "print(y) -> Traced<ShapedArray(float32[], weak_type=True)>with<DynamicJaxprTrace>\n"
          ]
        }
      ]
    },
    {
      "cell_type": "markdown",
      "source": [
        "Python’s print executes at trace-time, before the runtime values exist. If you want to print the actual runtime values, you can use jax.debug.print():"
      ],
      "metadata": {
        "id": "looUUL-g0ZDw"
      }
    },
    {
      "cell_type": "code",
      "source": [
        "@jax.jit\n",
        "def f(x):\n",
        "  jax.debug.print(\"jax.debug.print(x) -> {x}\", x=x)\n",
        "  y = jnp.sin(x)\n",
        "  jax.debug.print(\"jax.debug.print(y) -> {y}\", y=y)\n",
        "  return y\n",
        "\n",
        "result = f(2.)"
      ],
      "metadata": {
        "colab": {
          "base_uri": "https://localhost:8080/"
        },
        "id": "whliWdHP0ZiJ",
        "outputId": "3990784e-d4bb-4091-ffa0-465d60e1fa14"
      },
      "execution_count": 2,
      "outputs": [
        {
          "output_type": "stream",
          "name": "stdout",
          "text": [
            "jax.debug.print(x) -> 2.0\n",
            "jax.debug.print(y) -> 0.9092974066734314\n"
          ]
        }
      ]
    },
    {
      "cell_type": "markdown",
      "source": [
        "Similarly, within jax.vmap(), using Python’s print will only print the tracer; to print the values being mapped over, use jax.debug.print():"
      ],
      "metadata": {
        "id": "ABjdEpkV04qg"
      }
    },
    {
      "cell_type": "code",
      "source": [
        "def f(x):\n",
        "  jax.debug.print(\"jax.debug.print(x) -> {}\", x)\n",
        "  y = jnp.sin(x)\n",
        "  jax.debug.print(\"jax.debug.print(y) -> {}\", y)\n",
        "  return y\n",
        "\n",
        "xs = jnp.arange(3.)\n",
        "\n",
        "result = jax.vmap(f)(xs)"
      ],
      "metadata": {
        "colab": {
          "base_uri": "https://localhost:8080/"
        },
        "id": "THGq-oid05H4",
        "outputId": "1f5e82e5-7330-4914-91a6-d8b9b65b1567"
      },
      "execution_count": 3,
      "outputs": [
        {
          "output_type": "stream",
          "name": "stdout",
          "text": [
            "jax.debug.print(x) -> 0.0\n",
            "jax.debug.print(x) -> 1.0\n",
            "jax.debug.print(x) -> 2.0\n",
            "jax.debug.print(y) -> 0.0\n",
            "jax.debug.print(y) -> 0.8414709568023682\n",
            "jax.debug.print(y) -> 0.9092974066734314\n"
          ]
        }
      ]
    },
    {
      "cell_type": "markdown",
      "source": [
        "Here’s the result with jax.lax.map(), which is a sequential map rather than a vectorization:"
      ],
      "metadata": {
        "id": "ZkxKSrCQ0-bw"
      }
    },
    {
      "cell_type": "code",
      "source": [
        "result = jax.lax.map(f, xs)"
      ],
      "metadata": {
        "colab": {
          "base_uri": "https://localhost:8080/"
        },
        "id": "9I7mlE5n0-y4",
        "outputId": "98a1ff9f-1269-43c0-87e5-cf0bb67aa926"
      },
      "execution_count": 4,
      "outputs": [
        {
          "output_type": "stream",
          "name": "stdout",
          "text": [
            "jax.debug.print(x) -> 0.0\n",
            "jax.debug.print(y) -> 0.0\n",
            "jax.debug.print(x) -> 1.0\n",
            "jax.debug.print(y) -> 0.8414709568023682\n",
            "jax.debug.print(x) -> 2.0\n",
            "jax.debug.print(y) -> 0.9092974066734314\n"
          ]
        }
      ]
    },
    {
      "cell_type": "markdown",
      "source": [
        "Notice the order is different, as jax.vmap() and jax.lax.map() compute the same results in different ways. When debugging, the evaluation order details are exactly what you may need to inspect.\n",
        "\n",
        "Below is an example with jax.grad(), where jax.debug.print() only prints the forward pass. In this case, the behavior is similar to Python’s print(), but it’s consistent if you apply jax.jit() during the call."
      ],
      "metadata": {
        "id": "wgO6Cpvs5pTu"
      }
    },
    {
      "cell_type": "code",
      "source": [
        "def f(x):\n",
        "  jax.debug.print(\"jax.debug.print(x) -> {}\", x)\n",
        "  return x ** 2\n",
        "\n",
        "result = jax.grad(f)(1.)\n",
        "print(result)"
      ],
      "metadata": {
        "colab": {
          "base_uri": "https://localhost:8080/"
        },
        "id": "VUhIZ-k75ptu",
        "outputId": "8e76c8de-a174-401e-f551-e65911044e19"
      },
      "execution_count": 6,
      "outputs": [
        {
          "output_type": "stream",
          "name": "stdout",
          "text": [
            "jax.debug.print(x) -> 1.0\n",
            "2.0\n"
          ]
        }
      ]
    },
    {
      "cell_type": "markdown",
      "source": [
        "Sometimes, when the arguments don’t depend on one another, calls to jax.debug.print() may print them in a different order when staged out with a JAX transformation. If you need the original order, such as x: ... first and then y: ... second, add the ordered=True parameter.\n",
        "\n",
        "For example:"
      ],
      "metadata": {
        "id": "6rDc0aVC54ou"
      }
    },
    {
      "cell_type": "code",
      "source": [
        "@jax.jit\n",
        "def f(x, y):\n",
        "  jax.debug.print(\"jax.debug.print(x) -> {}\", x, ordered=True) # If ordered=True is removed, y will be printed first.\n",
        "  jax.debug.print(\"jax.debug.print(y) -> {}\", y, ordered=True)\n",
        "  return x + y\n",
        "\n",
        "f(1, 2)"
      ],
      "metadata": {
        "colab": {
          "base_uri": "https://localhost:8080/"
        },
        "id": "fgRdAu__55t2",
        "outputId": "d994fbb9-9087-4230-858f-2467bb8fc40e"
      },
      "execution_count": 38,
      "outputs": [
        {
          "output_type": "stream",
          "name": "stdout",
          "text": [
            "jax.debug.print(x) -> 1\n",
            "jax.debug.print(y) -> 2\n"
          ]
        },
        {
          "output_type": "execute_result",
          "data": {
            "text/plain": [
              "Array(3, dtype=int32, weak_type=True)"
            ]
          },
          "metadata": {},
          "execution_count": 38
        }
      ]
    },
    {
      "cell_type": "markdown",
      "source": [
        "# jax.debug.breakpoint for pdb-like debugging"
      ],
      "metadata": {
        "id": "wEzR9EpG7vPc"
      }
    },
    {
      "cell_type": "markdown",
      "source": [
        "Summary: Use jax.debug.breakpoint() to pause the execution of your JAX program to inspect values.\n",
        "\n",
        "To pause your compiled JAX program during certain points during debugging, you can use jax.debug.breakpoint(). The prompt is similar to Python pdb, and it allows you to inspect the values in the call stack. In fact, jax.debug.breakpoint() is an application of jax.debug.callback() that captures information about the call stack.\n",
        "\n",
        "To print all available commands during a breakpoint debugging session, use the help command. (Full debugger commands, the Sharp Bits, its strengths and limitations are covered in Advanced debugging.)\n",
        "\n",
        "Here is an example of what a debugger session might look like:"
      ],
      "metadata": {
        "id": "7noqUlVA7wR0"
      }
    },
    {
      "cell_type": "code",
      "source": [
        "@jax.jit\n",
        "def f(x):\n",
        "  y, z = jnp.sin(x), jnp.cos(x)\n",
        "  jax.debug.breakpoint()\n",
        "  return y * z\n",
        "f(2.) # ==> Pauses during execution"
      ],
      "metadata": {
        "id": "-_RPpMUi7xeW"
      },
      "execution_count": null,
      "outputs": []
    },
    {
      "cell_type": "markdown",
      "source": [
        "For value-dependent breakpointing, you can use runtime conditionals like jax.lax.cond():"
      ],
      "metadata": {
        "id": "LkugWoP98uLM"
      }
    },
    {
      "cell_type": "code",
      "source": [
        "def breakpoint_if_nonfinite(x):\n",
        "  is_finite = jnp.isfinite(x).all()\n",
        "  def true_fn(x): # if x is finite, pass\n",
        "    pass\n",
        "  def false_fn(x): # if x is not finite (infinite/nan), breakpoint\n",
        "    jax.debug.breakpoint()\n",
        "  jax.lax.cond(is_finite, true_fn, false_fn, x) # condition on finite-ness of x\n",
        "\n",
        "@jax.jit\n",
        "def f(x, y):\n",
        "  z = x / y\n",
        "  breakpoint_if_nonfinite(z)\n",
        "  return z\n",
        "\n",
        "f(2., 1.) # ==> No breakpoint\n",
        "f(2., 0.) # ==> Pauses during execution"
      ],
      "metadata": {
        "id": "VPVQGuXz8wkl"
      },
      "execution_count": null,
      "outputs": []
    },
    {
      "cell_type": "markdown",
      "source": [
        "# jax.debug.callback for more control during debugging"
      ],
      "metadata": {
        "id": "IbQUQ9u3EQlx"
      }
    },
    {
      "cell_type": "markdown",
      "source": [
        "Both jax.debug.print() and jax.debug.breakpoint() are implemented using the more flexible jax.debug.callback(), which gives greater control over the host-side logic executed via a Python callback. It is compatible with jax.jit(), jax.vmap(), jax.grad() and other transformations (refer to the Flavors of callback table in External callbacks for more information).\n",
        "\n",
        "For example:"
      ],
      "metadata": {
        "id": "KFcgIAHlESOZ"
      }
    },
    {
      "cell_type": "code",
      "source": [
        "import logging\n",
        "\n",
        "def log_value(x):\n",
        "  logging.warning(f'Logged value: {x}')\n",
        "\n",
        "@jax.jit\n",
        "def f(x):\n",
        "  jax.debug.callback(log_value, x)\n",
        "  return x\n",
        "\n",
        "f(1.0);"
      ],
      "metadata": {
        "colab": {
          "base_uri": "https://localhost:8080/"
        },
        "id": "l6er7IcPEfKv",
        "outputId": "7d25afc1-f492-4594-fc56-0ddc4fef7c62"
      },
      "execution_count": 43,
      "outputs": [
        {
          "output_type": "stream",
          "name": "stderr",
          "text": [
            "WARNING:root:Logged value: 1.0\n"
          ]
        }
      ]
    },
    {
      "cell_type": "markdown",
      "source": [
        "This callback is compatible with other transformations, including jax.vmap() and jax.grad():"
      ],
      "metadata": {
        "id": "Sl5j2-0QFi0B"
      }
    },
    {
      "cell_type": "code",
      "source": [
        "x = jnp.arange(5.0)\n",
        "jax.vmap(f)(x);"
      ],
      "metadata": {
        "colab": {
          "base_uri": "https://localhost:8080/"
        },
        "id": "yPcIMDrZFjGp",
        "outputId": "ae06443e-155f-4cb8-889a-8e674a27f590"
      },
      "execution_count": 44,
      "outputs": [
        {
          "output_type": "stream",
          "name": "stderr",
          "text": [
            "WARNING:root:Logged value: 0.0\n",
            "WARNING:root:Logged value: 1.0\n",
            "WARNING:root:Logged value: 2.0\n",
            "WARNING:root:Logged value: 3.0\n",
            "WARNING:root:Logged value: 4.0\n"
          ]
        }
      ]
    },
    {
      "cell_type": "code",
      "source": [
        "jax.grad(f)(1.0);"
      ],
      "metadata": {
        "colab": {
          "base_uri": "https://localhost:8080/"
        },
        "id": "bOf3ZzEDFlaQ",
        "outputId": "45098ef7-d6b8-432b-898f-f557247fb001"
      },
      "execution_count": 45,
      "outputs": [
        {
          "output_type": "stream",
          "name": "stderr",
          "text": [
            "WARNING:root:Logged value: 1.0\n"
          ]
        }
      ]
    }
  ]
}