{
  "nbformat": 4,
  "nbformat_minor": 0,
  "metadata": {
    "colab": {
      "provenance": []
    },
    "kernelspec": {
      "name": "python3",
      "display_name": "Python 3"
    },
    "language_info": {
      "name": "python"
    }
  },
  "cells": [
    {
      "cell_type": "markdown",
      "source": [
        "In this tutorial, you will learn how to control JAX automatic differentiation’s saved values using jax.checkpoint() (also known as jax.remat()), which can be particularly helpful in machine learning.\n",
        "\n",
        "If you are new to automatic differentiation (autodiff) or need to refresh your memory, JAX has Automatic differentiation and Advanced automatic differentiation tutorials.\n",
        "\n",
        "**TL;DR** Use the jax.checkpoint() decorator (aliased as jax.remat()) with jax.grad() to control which intermediates are saved on the forward pass versus the recomputed intermediates on the backward pass, trading off memory and FLOPs.\n",
        "\n",
        "If you don’t use jax.checkpoint(), the jax.grad(f)(x) forward pass stores Jacobian coefficients and other intermediates to use during the backward pass. These saved values are called residuals.\n",
        "\n",
        "**Note:** Don’t miss the Practical notes for a discussion about how jax.checkpoint() interacts with jax.jit()."
      ],
      "metadata": {
        "id": "IdUXV_VOpWrX"
      }
    },
    {
      "cell_type": "code",
      "source": [
        "import jax\n",
        "import jax.numpy as jnp\n",
        "\n",
        "def g(W, x):\n",
        "  y = jnp.dot(W, x)\n",
        "  return jnp.sin(y)\n",
        "\n",
        "def f(W1, W2, W3, x):\n",
        "  x = g(W1, x)\n",
        "  x = g(W2, x)\n",
        "  x = g(W3, x)\n",
        "  return x\n",
        "\n",
        "W1 = jnp.ones((5, 4))\n",
        "W2 = jnp.ones((6, 5))\n",
        "W3 = jnp.ones((7, 6))\n",
        "x = jnp.ones(4)\n",
        "\n",
        "# Inspect the 'residual' values to be saved on the forward pass\n",
        "# if you were to evaluate `jax.grad(f)(W1, W2, W3, x)`\n",
        "from jax.ad_checkpoint import print_saved_residuals\n",
        "jax.ad_checkpoint.print_saved_residuals(f, W1, W2, W3, x)"
      ],
      "metadata": {
        "colab": {
          "base_uri": "https://localhost:8080/"
        },
        "id": "qGBQdIOhpa54",
        "outputId": "92cbfe35-0526-45dd-f2fb-77f0b081e131"
      },
      "execution_count": 1,
      "outputs": [
        {
          "output_type": "stream",
          "name": "stdout",
          "text": [
            "f32[5,4] from the argument W1\n",
            "f32[6,5] from the argument W2\n",
            "f32[7,6] from the argument W3\n",
            "f32[4] from the argument x\n",
            "f32[5] output of sin from /tmp/ipython-input-1-1801108376.py:6:9 (g)\n",
            "f32[5] output of cos from /tmp/ipython-input-1-1801108376.py:6:9 (g)\n",
            "f32[6] output of sin from /tmp/ipython-input-1-1801108376.py:6:9 (g)\n",
            "f32[6] output of cos from /tmp/ipython-input-1-1801108376.py:6:9 (g)\n",
            "f32[7] output of cos from /tmp/ipython-input-1-1801108376.py:6:9 (g)\n"
          ]
        }
      ]
    },
    {
      "cell_type": "markdown",
      "source": [
        "By applying jax.checkpoint() to sub-functions, as a decorator or at specific application sites, you force JAX not to save any of that sub-function’s residuals. Instead, only the inputs of a jax.checkpoint()-decorated function might be saved, and any residuals consumed on the backward pass are re-computed from those inputs as needed:"
      ],
      "metadata": {
        "id": "Q1TCLZVwq9eQ"
      }
    },
    {
      "cell_type": "code",
      "source": [
        "def f2(W1, W2, W3, x):\n",
        "  x = jax.checkpoint(g)(W1, x)\n",
        "  x = jax.checkpoint(g)(W2, x)\n",
        "  x = jax.checkpoint(g)(W3, x)\n",
        "  return x\n",
        "\n",
        "jax.ad_checkpoint.print_saved_residuals(f2, W1, W2, W3, x)"
      ],
      "metadata": {
        "colab": {
          "base_uri": "https://localhost:8080/"
        },
        "id": "uu7jRjhbs7-e",
        "outputId": "068df803-723b-42b3-9b8c-7d44eb2ed300"
      },
      "execution_count": 2,
      "outputs": [
        {
          "output_type": "stream",
          "name": "stdout",
          "text": [
            "f32[5,4] from the argument W1\n",
            "f32[6,5] from the argument W2\n",
            "f32[7,6] from the argument W3\n",
            "f32[4] from the argument x\n",
            "f32[5] output of sin from /tmp/ipython-input-1-1801108376.py:6:9 (g)\n",
            "f32[6] output of sin from /tmp/ipython-input-1-1801108376.py:6:9 (g)\n"
          ]
        }
      ]
    },
    {
      "cell_type": "markdown",
      "source": [
        "Here, the values of two sin applications are saved because they are arguments in subsequent applications of the jax.checkpoint()-decorated g function, and inputs to a jax.checkpoint()-decorated function may be saved. But no values of cos applications are saved.\n",
        "\n",
        "To control which values are saveable without having to edit the definition of the function to be differentiated, you can use a rematerialization policy. Here is an example that saves only the results of dot operations with no batch dimensions (since they are often FLOP-bound, and hence worth saving rather than recomputing):"
      ],
      "metadata": {
        "id": "HRE3cnp8tAeN"
      }
    },
    {
      "cell_type": "code",
      "source": [
        "f3 = jax.checkpoint(f, policy=jax.checkpoint_policies.dots_with_no_batch_dims_saveable)\n",
        "jax.ad_checkpoint.print_saved_residuals(f3, W1, W2, W3, x)"
      ],
      "metadata": {
        "colab": {
          "base_uri": "https://localhost:8080/"
        },
        "id": "1OQ_tcK8tT_u",
        "outputId": "2cb3d3ad-6db7-4e7b-8581-6148c6c7704d"
      },
      "execution_count": 3,
      "outputs": [
        {
          "output_type": "stream",
          "name": "stdout",
          "text": [
            "f32[5,4] from the argument W1\n",
            "f32[6,5] from the argument W2\n",
            "f32[7,6] from the argument W3\n",
            "f32[4] from the argument x\n",
            "f32[5] output of reduce_precision from /tmp/ipython-input-1-1801108376.py:5:6 (g)\n",
            "f32[6] output of reduce_precision from /tmp/ipython-input-1-1801108376.py:5:6 (g)\n",
            "f32[7] output of reduce_precision from /tmp/ipython-input-1-1801108376.py:5:6 (g)\n"
          ]
        }
      ]
    },
    {
      "cell_type": "markdown",
      "source": [
        "You can also use policies to refer to intermediate values you name using jax.ad_checkpoint.checkpoint_name():"
      ],
      "metadata": {
        "id": "yx-fCuANtZAd"
      }
    },
    {
      "cell_type": "code",
      "source": [
        "from jax.ad_checkpoint import checkpoint_name\n",
        "\n",
        "def f4(W1, W2, W3, x):\n",
        "  x = checkpoint_name(g(W1, x), name='a')\n",
        "  x = checkpoint_name(g(W2, x), name='b')\n",
        "  x = checkpoint_name(g(W3, x), name='c')\n",
        "  return x\n",
        "\n",
        "f4 = jax.checkpoint(f4, policy=jax.checkpoint_policies.save_only_these_names('a'))\n",
        "jax.ad_checkpoint.print_saved_residuals(f4, W1, W2, W3, x)"
      ],
      "metadata": {
        "colab": {
          "base_uri": "https://localhost:8080/"
        },
        "id": "C8i06MzytaUW",
        "outputId": "956ee5a9-4afd-4f8f-bb0d-84b8b0f9ed02"
      },
      "execution_count": 4,
      "outputs": [
        {
          "output_type": "stream",
          "name": "stdout",
          "text": [
            "f32[5,4] from the argument W1\n",
            "f32[6,5] from the argument W2\n",
            "f32[7,6] from the argument W3\n",
            "f32[4] from the argument x\n",
            "f32[5] output of reduce_precision from /tmp/ipython-input-4-2296542172.py:4:6 (f4)\n"
          ]
        }
      ]
    },
    {
      "cell_type": "markdown",
      "source": [
        "When playing around with these toy examples, you can get a closer look at what’s going on using a custom print_fwd_bwd utility defined in this notebook:"
      ],
      "metadata": {
        "id": "RgbrwqROvy_N"
      }
    },
    {
      "cell_type": "code",
      "source": [
        "from jax.tree_util import tree_flatten, tree_unflatten\n",
        "\n",
        "from rich.console import Console\n",
        "from rich.table import Table\n",
        "import rich.text\n",
        "\n",
        "def print_fwd_bwd(f, *args, **kwargs) -> None:\n",
        "  args, in_tree = tree_flatten((args, kwargs))\n",
        "\n",
        "  def f_(*args):\n",
        "    args, kwargs = tree_unflatten(in_tree, args)\n",
        "    return f(*args, **kwargs)\n",
        "\n",
        "  fwd = jax.make_jaxpr(lambda *args: jax.vjp(f_, *args))(*args).jaxpr\n",
        "\n",
        "  y, f_vjp = jax.vjp(f_, *args)\n",
        "  res, in_tree = tree_flatten(f_vjp)\n",
        "\n",
        "  def g_(*args):\n",
        "    *res, y = args\n",
        "    f_vjp = tree_unflatten(in_tree, res)\n",
        "    return f_vjp(y)\n",
        "\n",
        "  bwd = jax.make_jaxpr(g_)(*res, y).jaxpr\n",
        "\n",
        "  table = Table(show_header=False, show_lines=True, padding=(1, 2, 0, 2), box=None)\n",
        "  table.add_row(\"[bold green]forward computation:\",\n",
        "                \"[bold green]backward computation:\")\n",
        "  table.add_row(rich.text.Text.from_ansi(str(fwd)),\n",
        "                rich.text.Text.from_ansi(str(bwd)))\n",
        "  console = Console(width=240, force_jupyter=True)\n",
        "  console.print(table)\n",
        "\n",
        "def _renderable_repr(self):\n",
        "  return self.html\n",
        "rich.jupyter.JupyterRenderable._repr_html_ = _renderable_repr"
      ],
      "metadata": {
        "id": "xd17fM18v1hF"
      },
      "execution_count": 5,
      "outputs": []
    },
    {
      "cell_type": "code",
      "source": [
        "# Without using `jax.checkpoint`:\n",
        "print_fwd_bwd(f, W1, W2, W3, x)"
      ],
      "metadata": {
        "colab": {
          "base_uri": "https://localhost:8080/",
          "height": 545
        },
        "id": "_0SSbrjzwDYd",
        "outputId": "7db6aabf-4cac-4cf3-b0b4-c8eb5b37a84d"
      },
      "execution_count": 6,
      "outputs": [
        {
          "output_type": "display_data",
          "data": {
            "text/plain": [
              "                                                                                                                                                         \n",
              "  \u001b[1;32mforward computation:\u001b[0m                                         \u001b[1;32mbackward computation:\u001b[0m                                                                     \n",
              "                                                                                                                                                         \n",
              "  { lambda ; a:f32[5,4] b:f32[6,5] c:f32[7,6] d:f32[4]. let    { lambda ; a:f32[4] b:f32[5,4] c:f32[5] d:f32[5] e:f32[6,5] f:f32[6] g:f32[6] h:f32[7,6]  \n",
              "      e:f32[5] = dot_general[                                      i:f32[7] j:f32[7]. let                                                                \n",
              "        dimension_numbers=(([1], [0]), ([], []))                   k:f32[7] = mul j i                                                                    \n",
              "        preferred_element_type=float32                             l:f32[6] = dot_general[                                                               \n",
              "      ] a d                                                          dimension_numbers=(([0], [0]), ([], []))                                            \n",
              "      f:f32[5] = sin e                                               preferred_element_type=float32                                                      \n",
              "      g:f32[5] = cos e                                             ] k h                                                                                 \n",
              "      h:f32[6] = dot_general[                                      m:f32[7,6] = dot_general[                                                             \n",
              "        dimension_numbers=(([1], [0]), ([], []))                     dimension_numbers=(([], []), ([], []))                                              \n",
              "        preferred_element_type=float32                               preferred_element_type=float32                                                      \n",
              "      ] b f                                                        ] k g                                                                                 \n",
              "      i:f32[6] = sin h                                             n:f32[6] = mul l f                                                                    \n",
              "      j:f32[6] = cos h                                             o:f32[5] = dot_general[                                                               \n",
              "      k:f32[7] = dot_general[                                        dimension_numbers=(([0], [0]), ([], []))                                            \n",
              "        dimension_numbers=(([1], [0]), ([], []))                     preferred_element_type=float32                                                      \n",
              "        preferred_element_type=float32                             ] n e                                                                                 \n",
              "      ] c i                                                        p:f32[6,5] = dot_general[                                                             \n",
              "      l:f32[7] = sin k                                               dimension_numbers=(([], []), ([], []))                                              \n",
              "      m:f32[7] = cos k                                               preferred_element_type=float32                                                      \n",
              "    in (l, d, a, g, f, b, j, i, c, m) }                            ] n d                                                                                 \n",
              "                                                                   q:f32[5] = mul o c                                                                    \n",
              "                                                                   r:f32[4] = dot_general[                                                               \n",
              "                                                                     dimension_numbers=(([0], [0]), ([], []))                                            \n",
              "                                                                     preferred_element_type=float32                                                      \n",
              "                                                                   ] q b                                                                                 \n",
              "                                                                   s:f32[5,4] = dot_general[                                                             \n",
              "                                                                     dimension_numbers=(([], []), ([], []))                                              \n",
              "                                                                     preferred_element_type=float32                                                      \n",
              "                                                                   ] q a                                                                                 \n",
              "                                                                 in (s, p, m, r) }                                                                       \n"
            ],
            "text/html": [
              "<pre style=\"white-space:pre;overflow-x:auto;line-height:normal;font-family:Menlo,'DejaVu Sans Mono',consolas,'Courier New',monospace\">                                                                                                                                                         \n",
              "  <span style=\"color: #008000; text-decoration-color: #008000; font-weight: bold\">forward computation:</span>                                         <span style=\"color: #008000; text-decoration-color: #008000; font-weight: bold\">backward computation:</span>                                                                     \n",
              "                                                                                                                                                         \n",
              "  { lambda ; a:f32[5,4] b:f32[6,5] c:f32[7,6] d:f32[4]. let    { lambda ; a:f32[4] b:f32[5,4] c:f32[5] d:f32[5] e:f32[6,5] f:f32[6] g:f32[6] h:f32[7,6]  \n",
              "      e:f32[5] = dot_general[                                      i:f32[7] j:f32[7]. let                                                                \n",
              "        dimension_numbers=(([1], [0]), ([], []))                   k:f32[7] = mul j i                                                                    \n",
              "        preferred_element_type=float32                             l:f32[6] = dot_general[                                                               \n",
              "      ] a d                                                          dimension_numbers=(([0], [0]), ([], []))                                            \n",
              "      f:f32[5] = sin e                                               preferred_element_type=float32                                                      \n",
              "      g:f32[5] = cos e                                             ] k h                                                                                 \n",
              "      h:f32[6] = dot_general[                                      m:f32[7,6] = dot_general[                                                             \n",
              "        dimension_numbers=(([1], [0]), ([], []))                     dimension_numbers=(([], []), ([], []))                                              \n",
              "        preferred_element_type=float32                               preferred_element_type=float32                                                      \n",
              "      ] b f                                                        ] k g                                                                                 \n",
              "      i:f32[6] = sin h                                             n:f32[6] = mul l f                                                                    \n",
              "      j:f32[6] = cos h                                             o:f32[5] = dot_general[                                                               \n",
              "      k:f32[7] = dot_general[                                        dimension_numbers=(([0], [0]), ([], []))                                            \n",
              "        dimension_numbers=(([1], [0]), ([], []))                     preferred_element_type=float32                                                      \n",
              "        preferred_element_type=float32                             ] n e                                                                                 \n",
              "      ] c i                                                        p:f32[6,5] = dot_general[                                                             \n",
              "      l:f32[7] = sin k                                               dimension_numbers=(([], []), ([], []))                                              \n",
              "      m:f32[7] = cos k                                               preferred_element_type=float32                                                      \n",
              "    in (l, d, a, g, f, b, j, i, c, m) }                            ] n d                                                                                 \n",
              "                                                                   q:f32[5] = mul o c                                                                    \n",
              "                                                                   r:f32[4] = dot_general[                                                               \n",
              "                                                                     dimension_numbers=(([0], [0]), ([], []))                                            \n",
              "                                                                     preferred_element_type=float32                                                      \n",
              "                                                                   ] q b                                                                                 \n",
              "                                                                   s:f32[5,4] = dot_general[                                                             \n",
              "                                                                     dimension_numbers=(([], []), ([], []))                                              \n",
              "                                                                     preferred_element_type=float32                                                      \n",
              "                                                                   ] q a                                                                                 \n",
              "                                                                 in (s, p, m, r) }                                                                       \n",
              "</pre>\n"
            ]
          },
          "metadata": {}
        }
      ]
    },
    {
      "cell_type": "code",
      "source": [
        "# Using `jax.checkpoint` with policy=jax.checkpoint_policies.dots_with_no_batch_dims_saveable:\n",
        "print_fwd_bwd(f3, W1, W2, W3, x)"
      ],
      "metadata": {
        "colab": {
          "base_uri": "https://localhost:8080/",
          "height": 737
        },
        "id": "B5Y1jYyFwMBV",
        "outputId": "7a05bdfd-8f85-435d-f15b-5d32eb01b7a0"
      },
      "execution_count": 7,
      "outputs": [
        {
          "output_type": "display_data",
          "data": {
            "text/plain": [
              "                                                                                                                                                                        \n",
              "  \u001b[1;32mforward computation:\u001b[0m                                                   \u001b[1;32mbackward computation:\u001b[0m                                                                          \n",
              "                                                                                                                                                                        \n",
              "  { lambda ; a:f32[5,4] b:f32[6,5] c:f32[7,6] d:f32[4]. let              { lambda ; a:f32[5] b:f32[6] c:f32[7] d:f32[5,4] e:f32[6,5] f:f32[7,6] g:f32[4] h:f32[7]. let  \n",
              "      e:f32[5] = dot_general[                                                i:f32[5,4] j:f32[6,5] k:f32[7,6] l:f32[4] = remat2[                                        \n",
              "        dimension_numbers=(([1], [0]), ([], []))                               differentiated=True                                                                      \n",
              "        preferred_element_type=float32                                         jaxpr={ lambda ; m:f32[5] n:f32[6] o:f32[7] p:f32[5,4] q:f32[6,5] r:f32[7,6]             \n",
              "      ] a d                                                                        s:f32[4] t:f32[7]. let                                                               \n",
              "      f:f32[5] = reduce_precision[exponent_bits=8 mantissa_bits=23] e              u:f32[5] = sin m                                                                     \n",
              "      g:f32[5] = sin f                                                             v:f32[5] = cos m                                                                     \n",
              "      h:f32[6] = dot_general[                                                      w:f32[6] = sin n                                                                     \n",
              "        dimension_numbers=(([1], [0]), ([], []))                                   x:f32[6] = cos n                                                                     \n",
              "        preferred_element_type=float32                                             y:f32[7] = cos o                                                                     \n",
              "      ] b g                                                                        z:f32[7] = mul t y                                                                   \n",
              "      i:f32[6] = reduce_precision[exponent_bits=8 mantissa_bits=23] h              ba:f32[6] = dot_general[                                                             \n",
              "      j:f32[6] = sin i                                                               dimension_numbers=(([0], [0]), ([], []))                                           \n",
              "      k:f32[7] = dot_general[                                                        preferred_element_type=float32                                                     \n",
              "        dimension_numbers=(([1], [0]), ([], []))                                   ] z r                                                                                \n",
              "        preferred_element_type=float32                                             bb:f32[6] = mul ba x                                                                 \n",
              "      ] c j                                                                        bc:f32[5] = dot_general[                                                             \n",
              "      l:f32[7] = reduce_precision[exponent_bits=8 mantissa_bits=23] k                dimension_numbers=(([0], [0]), ([], []))                                           \n",
              "      m:f32[7] = sin l                                                               preferred_element_type=float32                                                     \n",
              "    in (m, f, i, l, a, b, c, d) }                                                  ] bb q                                                                               \n",
              "                                                                                   bd:f32[5] = mul bc v                                                                 \n",
              "                                                                                   be:f32[4] = dot_general[                                                             \n",
              "                                                                                     dimension_numbers=(([0], [0]), ([], []))                                           \n",
              "                                                                                     preferred_element_type=float32                                                     \n",
              "                                                                                   ] bd p                                                                               \n",
              "                                                                                   bf:f32[5,4] = dot_general[                                                           \n",
              "                                                                                     dimension_numbers=(([], []), ([], []))                                             \n",
              "                                                                                     preferred_element_type=float32                                                     \n",
              "                                                                                   ] bd s                                                                               \n",
              "                                                                                   bg:f32[6,5] = dot_general[                                                           \n",
              "                                                                                     dimension_numbers=(([], []), ([], []))                                             \n",
              "                                                                                     preferred_element_type=float32                                                     \n",
              "                                                                                   ] bb u                                                                               \n",
              "                                                                                   bh:f32[7,6] = dot_general[                                                           \n",
              "                                                                                     dimension_numbers=(([], []), ([], []))                                             \n",
              "                                                                                     preferred_element_type=float32                                                     \n",
              "                                                                                   ] z w                                                                                \n",
              "                                                                                 in (bf, bg, bh, be) }                                                                  \n",
              "                                                                               policy=<function dot_with_no_batch_dims_saveable at 0x7b17643c87c0>                      \n",
              "                                                                               prevent_cse=True                                                                         \n",
              "                                                                             ] a b c d e f g h                                                                          \n",
              "                                                                           in (i, j, k, l) }                                                                            \n"
            ],
            "text/html": [
              "<pre style=\"white-space:pre;overflow-x:auto;line-height:normal;font-family:Menlo,'DejaVu Sans Mono',consolas,'Courier New',monospace\">                                                                                                                                                                        \n",
              "  <span style=\"color: #008000; text-decoration-color: #008000; font-weight: bold\">forward computation:</span>                                                   <span style=\"color: #008000; text-decoration-color: #008000; font-weight: bold\">backward computation:</span>                                                                          \n",
              "                                                                                                                                                                        \n",
              "  { lambda ; a:f32[5,4] b:f32[6,5] c:f32[7,6] d:f32[4]. let              { lambda ; a:f32[5] b:f32[6] c:f32[7] d:f32[5,4] e:f32[6,5] f:f32[7,6] g:f32[4] h:f32[7]. let  \n",
              "      e:f32[5] = dot_general[                                                i:f32[5,4] j:f32[6,5] k:f32[7,6] l:f32[4] = remat2[                                        \n",
              "        dimension_numbers=(([1], [0]), ([], []))                               differentiated=True                                                                      \n",
              "        preferred_element_type=float32                                         jaxpr={ lambda ; m:f32[5] n:f32[6] o:f32[7] p:f32[5,4] q:f32[6,5] r:f32[7,6]             \n",
              "      ] a d                                                                        s:f32[4] t:f32[7]. let                                                               \n",
              "      f:f32[5] = reduce_precision[exponent_bits=8 mantissa_bits=23] e              u:f32[5] = sin m                                                                     \n",
              "      g:f32[5] = sin f                                                             v:f32[5] = cos m                                                                     \n",
              "      h:f32[6] = dot_general[                                                      w:f32[6] = sin n                                                                     \n",
              "        dimension_numbers=(([1], [0]), ([], []))                                   x:f32[6] = cos n                                                                     \n",
              "        preferred_element_type=float32                                             y:f32[7] = cos o                                                                     \n",
              "      ] b g                                                                        z:f32[7] = mul t y                                                                   \n",
              "      i:f32[6] = reduce_precision[exponent_bits=8 mantissa_bits=23] h              ba:f32[6] = dot_general[                                                             \n",
              "      j:f32[6] = sin i                                                               dimension_numbers=(([0], [0]), ([], []))                                           \n",
              "      k:f32[7] = dot_general[                                                        preferred_element_type=float32                                                     \n",
              "        dimension_numbers=(([1], [0]), ([], []))                                   ] z r                                                                                \n",
              "        preferred_element_type=float32                                             bb:f32[6] = mul ba x                                                                 \n",
              "      ] c j                                                                        bc:f32[5] = dot_general[                                                             \n",
              "      l:f32[7] = reduce_precision[exponent_bits=8 mantissa_bits=23] k                dimension_numbers=(([0], [0]), ([], []))                                           \n",
              "      m:f32[7] = sin l                                                               preferred_element_type=float32                                                     \n",
              "    in (m, f, i, l, a, b, c, d) }                                                  ] bb q                                                                               \n",
              "                                                                                   bd:f32[5] = mul bc v                                                                 \n",
              "                                                                                   be:f32[4] = dot_general[                                                             \n",
              "                                                                                     dimension_numbers=(([0], [0]), ([], []))                                           \n",
              "                                                                                     preferred_element_type=float32                                                     \n",
              "                                                                                   ] bd p                                                                               \n",
              "                                                                                   bf:f32[5,4] = dot_general[                                                           \n",
              "                                                                                     dimension_numbers=(([], []), ([], []))                                             \n",
              "                                                                                     preferred_element_type=float32                                                     \n",
              "                                                                                   ] bd s                                                                               \n",
              "                                                                                   bg:f32[6,5] = dot_general[                                                           \n",
              "                                                                                     dimension_numbers=(([], []), ([], []))                                             \n",
              "                                                                                     preferred_element_type=float32                                                     \n",
              "                                                                                   ] bb u                                                                               \n",
              "                                                                                   bh:f32[7,6] = dot_general[                                                           \n",
              "                                                                                     dimension_numbers=(([], []), ([], []))                                             \n",
              "                                                                                     preferred_element_type=float32                                                     \n",
              "                                                                                   ] z w                                                                                \n",
              "                                                                                 in (bf, bg, bh, be) }                                                                  \n",
              "                                                                               policy=&lt;function dot_with_no_batch_dims_saveable at 0x7b17643c87c0&gt;                      \n",
              "                                                                               prevent_cse=True                                                                         \n",
              "                                                                             ] a b c d e f g h                                                                          \n",
              "                                                                           in (i, j, k, l) }                                                                            \n",
              "</pre>\n"
            ]
          },
          "metadata": {}
        }
      ]
    },
    {
      "cell_type": "markdown",
      "source": [
        "# Think step by step"
      ],
      "metadata": {
        "id": "o3-KrlZjwVB8"
      }
    },
    {
      "cell_type": "markdown",
      "source": [
        "## jax.checkpoint fundamentals"
      ],
      "metadata": {
        "id": "1rCZ0MWMw_jV"
      }
    },
    {
      "cell_type": "markdown",
      "source": [
        "In both jax.linearize() and jax.vjp(), there is flexibility in how and when some values are computed. Different choices can trade off memory use against FLOPs. JAX provides control over these choices with jax.checkpoint().\n",
        "\n",
        "One such choice is whether to perform Jacobian coefficient computations on the forward pass, as soon as the inputs are available, or on the backward pass, just before the coefficients are needed. Consider the example of sin_vjp:"
      ],
      "metadata": {
        "id": "XmtspgTaxBaF"
      }
    },
    {
      "cell_type": "code",
      "source": [
        "def sin_vjp(x):\n",
        "  y = jnp.sin(x)\n",
        "  cos_x = jnp.cos(x)\n",
        "  return y, lambda y_bar: cos_x * y_bar"
      ],
      "metadata": {
        "id": "PzrBxKHCyvWz"
      },
      "execution_count": 8,
      "outputs": []
    },
    {
      "cell_type": "markdown",
      "source": [
        "Another valid implementation would compute the value of jnp.cos(x) on the backward pass rather than on the forward pass:"
      ],
      "metadata": {
        "id": "31TspkTcy3x8"
      }
    },
    {
      "cell_type": "code",
      "source": [
        "def sin_vjp2(x):\n",
        "  y = jnp.sin(x)\n",
        "  return y, lambda y_bar: jnp.cos(x) * y_bar"
      ],
      "metadata": {
        "id": "9HGIGHHRy420"
      },
      "execution_count": 10,
      "outputs": []
    },
    {
      "cell_type": "markdown",
      "source": [
        "For this particular function, the amount of memory used by the two versions is the same, though you’ve reduced the FLOPs for the primal computation (the forward pass) and increased the FLOPs for the cotangent computation (the backward pass).\n",
        "\n",
        "There’s another choice when it comes to function composition. Recall the VJP rule for a composition of two functions:"
      ],
      "metadata": {
        "id": "vDUiq_CC2tb7"
      }
    },
    {
      "cell_type": "code",
      "source": [
        "def f(x):\n",
        "  y = g(x)\n",
        "  z = h(y)\n",
        "  return z\n",
        "\n",
        "def f_vjp(x):\n",
        "  y, g_vjp = jax.vjp(g, x)\n",
        "  z, h_vjp = jax.vjp(h, y)\n",
        "  def f_bwd(z_bar):\n",
        "    y_bar, = h_vjp(z_bar)\n",
        "    x_bar, = g_vjp(y_bar)\n",
        "    return x_bar\n",
        "  return z, f_bwd"
      ],
      "metadata": {
        "id": "F3y6qoo12u96"
      },
      "execution_count": 11,
      "outputs": []
    },
    {
      "cell_type": "markdown",
      "source": [
        "An alternative is:"
      ],
      "metadata": {
        "id": "qYfpHeQJ2xQ6"
      }
    },
    {
      "cell_type": "code",
      "source": [
        "def f_vjp_checkpoint(x):\n",
        "  y = g(x)\n",
        "  z, h_vjp = jax.vjp(h, y)\n",
        "  def f_bwd2(z_bar):\n",
        "    y_bar, = h_vjp(z_bar)\n",
        "    _, g_vjp = jax.vjp(g, x)\n",
        "    x_bar, = g_vjp(y_bar)\n",
        "    return x_bar\n",
        "  return z, f_bwd2"
      ],
      "metadata": {
        "id": "GDIoht-F2yKj"
      },
      "execution_count": null,
      "outputs": []
    },
    {
      "cell_type": "markdown",
      "source": [
        "Using words, this alternative implementation doesn’t compute g_vjp, or the residual values in its closure, on the forward pass. Instead, it only computes them in the backward pass f_bwd2. That means f_vjp_checkpoint requires less memory: if g and h each required similar amounts of memory for their residuals, each much larger than x, then the function produced by f_vjp_checkpoint(x) requires half the memory as that of f_vjp(x)!\n",
        "\n",
        "The cost you pay is redundant work: in f_bwd2 you must re-evaluate g(x) as part of jax.vjp(g, x) just to discard its value (in the underscore variable on the line _, g_vjp = jax.vjp(g, x)).\n",
        "\n",
        "You can get this VJP behavior in autodiff � without having to write VJP functions directly � by instead using jax.checkpoint() in an alternative definition of the original function f:"
      ],
      "metadata": {
        "id": "sN1nbMh84aeB"
      }
    },
    {
      "cell_type": "code",
      "source": [
        "def f_checkpoint(x):\n",
        "  y = jax.checkpoint(g)(x)\n",
        "  z = h(y)\n",
        "  return z"
      ],
      "metadata": {
        "id": "OweGuqmf4b9B"
      },
      "execution_count": null,
      "outputs": []
    },
    {
      "cell_type": "markdown",
      "source": [
        "In other words, you apply jax.checkpoint() to g — the first stage of f — rather than to f itself. This way, when you evaluate jax.grad(f_checkpoint)(x), you’d get a computation like:\n",
        "\n",
        "1. Run the forward pass of g, discarding residual values.\n",
        "\n",
        "2. Run the forward pass of h, saving residuals.\n",
        "\n",
        "3. Run the backward pass of h, consuming residuals from step 2.\n",
        "\n",
        "4. Re-run the forward pass of g, saving residuals.\n",
        "\n",
        "5. Run the backward pass of g, consuming residuals from step 4.\n",
        "\n",
        "That is, by evaluating jax.grad(f_checkpoint)(x) we’d get the same computation as:"
      ],
      "metadata": {
        "id": "bwL2Hh3q4fjb"
      }
    },
    {
      "cell_type": "code",
      "source": [
        "def f_checkpoint_grad(x):\n",
        "  y = g(x)                  # step 1\n",
        "  _, h_vjp = jax.vjp(h)(y)  # step 2\n",
        "  y_bar, = h_vjp(1.0)       # step 3\n",
        "  _, g_vjp = jax.vjp(g, x)  # step 4\n",
        "  x_bar, = g_vjp(y_bar)     # step 5\n",
        "  return x_bar"
      ],
      "metadata": {
        "id": "LKv9sFUY4sM6"
      },
      "execution_count": 12,
      "outputs": []
    },
    {
      "cell_type": "markdown",
      "source": [
        "In general, jax.checkpoint(foo) is a new function which has the same input-output behavior as foo, but behaves differently under autodiff, particularly under jax.linearize() and jax.vjp() (and their wrappers, like jax.grad()) but not jax.jvp(). When differentiated, only the input to a jax.checkpoint()-differentiated function is stored on the forward pass. On the backward pass, the residuals (intermediates from foo and its Jacobian coefficient values needed for the backward pass) are recomputed.\n",
        "\n",
        "Notice that if f = lambda x: h(g(x)) is the function you want to differentiate (in other words, if you want to apply jax.grad(f)) you don’t get any memory savings by applying jax.checkpoint() to f itself. That’s because evaluating jax.grad(jax.checkpoint(f))(x) would lead to a computation, such as:\n",
        "\n",
        "1. Run the forward pass, discarding all residuals.\n",
        "\n",
        "2. Immediately re-run the forward pass, saving residuals.\n",
        "\n",
        "3. Run the backward pass, consuming residuals from step 2.\n",
        "\n",
        "In code, you’d have something like:"
      ],
      "metadata": {
        "id": "-9_uTorK416K"
      }
    },
    {
      "cell_type": "code",
      "source": [
        "def f_grad_bad(x):\n",
        "  _ = f(x)                  # step 1\n",
        "  _, f_vjp = jax.vjp(f, x)  # step 2\n",
        "  x_bar, = f_vjp(1.0)       # step 3\n",
        "  return x_bar"
      ],
      "metadata": {
        "id": "3MxWpAp_5KKx"
      },
      "execution_count": 13,
      "outputs": []
    },
    {
      "cell_type": "markdown",
      "source": [
        "You also wouldn’t get any memory savings by applying jax.checkpoint() to h, the second stage of f. That’s because evaluating jax.grad(lambda x: jax.checkpoint(h)(g(x))) would lead to a computation, such as:\n",
        "\n",
        "1. Run the forward pass of g, saving residuals.\n",
        "\n",
        "2. Run the forward pass of h, discarding residuals.\n",
        "\n",
        "3. Immediately re-run the forward pass of h, saving residuals.\n",
        "\n",
        "4. Run the backward pass of h, consuming residuals from step 3.\n",
        "\n",
        "5. Run the backward pass of g, consuming residuals from step 1.\n",
        "\n",
        "In code you’d have something like:"
      ],
      "metadata": {
        "id": "tzfey73-5MmB"
      }
    },
    {
      "cell_type": "code",
      "source": [
        "def f_grad_bad2(x):\n",
        "  y, g_vjp = jax.vjp(g, x)  # step 1\n",
        "  z = h(y)                  # step 2\n",
        "  _, h_vjp = jax.vjp(h, y)  # step 3\n",
        "  y_bar, = h_vjp(1.0)       # step 3\n",
        "  x_bar, = g_vjp(y_bar)     # step 5\n",
        "  return x_bar"
      ],
      "metadata": {
        "id": "VPkYUagx5tqp"
      },
      "execution_count": 14,
      "outputs": []
    },
    {
      "cell_type": "markdown",
      "source": [
        "Slightly more generally, if you had a chain composition of functions, such as f = lambda x: f3(f2(f1(x))), and were interested in evaluating jax.grad(f), you could say that you:\n",
        "\n",
        "1. Shouldn’t apply jax.checkpoint() to the whole function f, since that wouldn’t save any memory (and will perform wasteful recomputation).\n",
        "\n",
        "2. Shouldn’t apply jax.checkpoint() to the last sub-function f3, since that wouldn’t save any memory (and will perform wasteful recomputation).\n",
        "\n",
        "3. Could apply jax.checkpoint() to f1, f2, or their composition lambda x: f2(f1(x)), since any of those might save memory and would express different memory/recompute tradeoffs."
      ],
      "metadata": {
        "id": "8LAg-AQF63pg"
      }
    },
    {
      "cell_type": "markdown",
      "source": [
        "## Custom policies for what’s saveable"
      ],
      "metadata": {
        "id": "GkIsaFbk68kg"
      }
    },
    {
      "cell_type": "markdown",
      "source": [
        "As shown so far, using jax.checkpoint() switches from one extreme to another:\n",
        "\n",
        "1. Without jax.checkpoint(), JAX’s autodiff tends to compute everything possible on the forward pass and store it for the backward pass.\n",
        "\n",
        "2. With a jax.checkpoint() decorator, you instead compute as little as possible on the forward pass and recompute values as needed on the backward pass.\n",
        "\n",
        "To operate between these two extremes, saving some things and not others, you can carefully place jax.checkpoint() decorators on sub-functions. But that requires editing the function to be differentiated, e.g. model code, which may be inconvenient. It can also be hard to experiment with variations.\n",
        "\n",
        "So an alternative is to use the policy argument to jax.checkpoint(). A policy is a callable (i.e. a function) which takes as input a type-level specification of a first order primitive application and returns a boolean indicating whether the corresponding output value(s) are allowed to be saved as residuals (or instead must be recomputed in the (co)tangent computation as needed). To write robust code, a policy should be selected from the attributes on jax.checkpoint_policies(), like jax.checkpoint_policies.dots_with_no_batch_dims_saveable(), since the API for writing custom policy callables is considered internal.\n",
        "\n",
        "For example, consider this function to be differentiated:"
      ],
      "metadata": {
        "id": "D6RnIDRl6-0Y"
      }
    },
    {
      "cell_type": "code",
      "source": [
        "def loss(params, x, y):\n",
        "  return jnp.sum((predict(params, x) - y)**2)\n",
        "\n",
        "def predict(params, x):\n",
        "  *Ws, Wlast = params\n",
        "  for W in Ws:\n",
        "    x = layer(W, x)\n",
        "  x = jnp.dot(Wlast, x)\n",
        "  return x\n",
        "\n",
        "def layer(W, x):\n",
        "  return jnp.sin(jnp.dot(W, x))"
      ],
      "metadata": {
        "id": "brutoG0u-QwX"
      },
      "execution_count": 15,
      "outputs": []
    },
    {
      "cell_type": "code",
      "source": [
        "W1 = W2 = W3 = jnp.ones((4, 4))\n",
        "params = [W1, W2, W3]\n",
        "x = jnp.ones(4)\n",
        "y = jnp.ones(4)"
      ],
      "metadata": {
        "id": "Z5vitOFtC882"
      },
      "execution_count": 16,
      "outputs": []
    },
    {
      "cell_type": "code",
      "source": [
        "print_saved_residuals(loss, params, x, y)"
      ],
      "metadata": {
        "colab": {
          "base_uri": "https://localhost:8080/"
        },
        "id": "fMG8t0ayC-Pl",
        "outputId": "6270d384-b6d4-448c-b708-6c587cfac0d8"
      },
      "execution_count": 17,
      "outputs": [
        {
          "output_type": "stream",
          "name": "stdout",
          "text": [
            "f32[4,4] from the argument params[0]\n",
            "f32[4,4] from the argument params[1]\n",
            "f32[4,4] from the argument params[2]\n",
            "f32[4] from the argument x\n",
            "f32[4] output of sin from /tmp/ipython-input-15-4230705069.py:12:9 (layer)\n",
            "f32[4] output of cos from /tmp/ipython-input-15-4230705069.py:12:9 (layer)\n",
            "f32[4] output of sin from /tmp/ipython-input-15-4230705069.py:12:9 (layer)\n",
            "f32[4] output of cos from /tmp/ipython-input-15-4230705069.py:12:9 (layer)\n",
            "f32[4] output of mul from /tmp/ipython-input-15-4230705069.py:2:17 (loss)\n"
          ]
        }
      ]
    },
    {
      "cell_type": "markdown",
      "source": [
        "Instead of saving so many values on the forward pass, perhaps you only want to save the results of matrix multiplications with no batch dimension (since they may be FLOP- rather than memory-bound). You can do that using the policy jax.checkpoint_policies.dots_with_no_batch_dims_saveable():"
      ],
      "metadata": {
        "id": "nmSeyISLDAAV"
      }
    },
    {
      "cell_type": "code",
      "source": [
        "loss_checkpoint = jax.checkpoint(loss, policy=jax.checkpoint_policies.dots_with_no_batch_dims_saveable)\n",
        "print_saved_residuals(loss_checkpoint, params, x, y)"
      ],
      "metadata": {
        "colab": {
          "base_uri": "https://localhost:8080/"
        },
        "id": "qdKYuqkGDBIV",
        "outputId": "531c06aa-10e0-4e26-e26e-946984fb08f0"
      },
      "execution_count": 18,
      "outputs": [
        {
          "output_type": "stream",
          "name": "stdout",
          "text": [
            "f32[4,4] from the argument params[0]\n",
            "f32[4,4] from the argument params[1]\n",
            "f32[4,4] from the argument params[2]\n",
            "f32[4] from the argument x\n",
            "f32[4] from the argument y\n",
            "f32[4] output of reduce_precision from /tmp/ipython-input-15-4230705069.py:12:17 (layer)\n",
            "f32[4] output of reduce_precision from /tmp/ipython-input-15-4230705069.py:12:17 (layer)\n",
            "f32[4] output of reduce_precision from /tmp/ipython-input-15-4230705069.py:8:6 (predict)\n"
          ]
        }
      ]
    },
    {
      "cell_type": "markdown",
      "source": [
        "Notice also that by providing a policy, you didn’t need to edit the code defining loss, predict, or layer. That is particularly convenient if you want to experiment with policies in calling code (such as a training script) without changing library code (for example, the neural network library).\n",
        "\n",
        "Some policies can refer to values named with jax.ad_checkpoint.checkpoint_name():"
      ],
      "metadata": {
        "id": "f0Q5diGuDC3m"
      }
    },
    {
      "cell_type": "code",
      "source": [
        "from jax.ad_checkpoint import checkpoint_name\n",
        "\n",
        "def predict(params, x):\n",
        "  *Ws, Wlast = params\n",
        "  for i, W in enumerate(Ws):\n",
        "    x = layer(W, x)\n",
        "    x = checkpoint_name(x, name=f'layer{i}_output')\n",
        "  x = jnp.dot(Wlast, x)\n",
        "  return x"
      ],
      "metadata": {
        "id": "1Sw8NdumDD7E"
      },
      "execution_count": null,
      "outputs": []
    },
    {
      "cell_type": "markdown",
      "source": [
        "By itself, jax.ad_checkpoint.checkpoint_name() is just an identity function. But because some policy functions know to look for them, you can use the names to control whether certain values output by jax.ad_checkpoint.checkpoint_name() are considered saveable:"
      ],
      "metadata": {
        "id": "hN120vDuE0E0"
      }
    },
    {
      "cell_type": "code",
      "source": [
        "print_saved_residuals(loss, params, x, y)"
      ],
      "metadata": {
        "colab": {
          "base_uri": "https://localhost:8080/"
        },
        "id": "sjzUGSGqE1El",
        "outputId": "b69c6510-4785-4053-97b8-866a94cf70ff"
      },
      "execution_count": 19,
      "outputs": [
        {
          "output_type": "stream",
          "name": "stdout",
          "text": [
            "f32[4,4] from the argument params[0]\n",
            "f32[4,4] from the argument params[1]\n",
            "f32[4,4] from the argument params[2]\n",
            "f32[4] from the argument x\n",
            "f32[4] output of sin from /tmp/ipython-input-15-4230705069.py:12:9 (layer)\n",
            "f32[4] output of cos from /tmp/ipython-input-15-4230705069.py:12:9 (layer)\n",
            "f32[4] output of sin from /tmp/ipython-input-15-4230705069.py:12:9 (layer)\n",
            "f32[4] output of cos from /tmp/ipython-input-15-4230705069.py:12:9 (layer)\n",
            "f32[4] output of mul from /tmp/ipython-input-15-4230705069.py:2:17 (loss)\n"
          ]
        }
      ]
    },
    {
      "cell_type": "code",
      "source": [
        "loss_checkpoint2 = jax.checkpoint(loss, policy=jax.checkpoint_policies.save_any_names_but_these('layer1_output'))\n",
        "print_saved_residuals(loss_checkpoint2, params, x, y)"
      ],
      "metadata": {
        "colab": {
          "base_uri": "https://localhost:8080/"
        },
        "id": "xnJKCgXLNsKI",
        "outputId": "48cae347-81ba-4400-d61b-c77fb133ee9a"
      },
      "execution_count": 20,
      "outputs": [
        {
          "output_type": "stream",
          "name": "stdout",
          "text": [
            "f32[4,4] from the argument params[0]\n",
            "f32[4,4] from the argument params[1]\n",
            "f32[4,4] from the argument params[2]\n",
            "f32[4] from the argument x\n",
            "f32[4] from the argument y\n"
          ]
        }
      ]
    },
    {
      "cell_type": "markdown",
      "source": [
        "Another policy which refers to names is jax.checkpoint_policies.save_only_these_names."
      ],
      "metadata": {
        "id": "UMvGxmXHNuWQ"
      }
    },
    {
      "cell_type": "markdown",
      "source": [
        "## Custom policies for offload"
      ],
      "metadata": {
        "id": "wPAkOIlPNvuw"
      }
    },
    {
      "cell_type": "markdown",
      "source": [
        "You may consider offloading to CPU memory instead of recomputing when checkpointing to save accelerator memory. jax.checkpoint_policies.offload_dot_with_no_batch_dims can offload the results of matrix multiplications with no batch dimensions to the CPU."
      ],
      "metadata": {
        "id": "lbUtDSS-NxcX"
      }
    },
    {
      "cell_type": "code",
      "source": [
        "from jax.ad_checkpoint import checkpoint\n",
        "\n",
        "def checkpoint_offload_dot_with_no_batch_dims(self):\n",
        "  policy = jax.checkpoint_policies.offload_dot_with_no_batch_dims(\n",
        "      \"device\", \"pinned_host\")\n",
        "\n",
        "  @functools.partial(checkpoint, policy=policy)\n",
        "  def f(x):\n",
        "    x = jnp.einsum('ij,jk->ik', x, x, precision=lax.Precision.HIGHEST)\n",
        "    x = jnp.sin(x)\n",
        "    x = jnp.einsum('ij,jk->ik', x, x, precision=lax.Precision.HIGHEST)\n",
        "    x = jnp.sin(x)\n",
        "    x = jnp.einsum('ij,jk->ik', x, x, precision=lax.Precision.HIGHEST)\n",
        "    x = jnp.sin(x)\n",
        "    x = jnp.sum(x)\n",
        "    return x"
      ],
      "metadata": {
        "id": "w4tUvMFENyjY"
      },
      "execution_count": 21,
      "outputs": []
    },
    {
      "cell_type": "markdown",
      "source": [
        "One of JAX’s checkpoint policies allows specified checkpoint names to be offloaded to CPUs. This policy is implemented through jax.checkpoint_policies.save_and_offload_only_these_names, which has four arguments: names_which_can_be_saved, names_which_can_be_offloaded, the offloading source, and destination. Names listed in names_which_can_be_saved are kept on the device, names listed in names_which_can_be_offloaded are moved to CPU memory, and other names or operations without names are recomputed. For example, if we have checkpoint names y, z, and w, y can be saved on the device, z can be offloaded to CPU memory, and w can be recomputed."
      ],
      "metadata": {
        "id": "6F1rQ8lBPwT_"
      }
    },
    {
      "cell_type": "code",
      "source": [
        "from jax.ad_checkpoint import checkpoint, checkpoint_name\n",
        "from jax._src import test_util as jtu\n",
        "\n",
        "def checkpoint_names_saved_offloaded_recomputed(self):\n",
        "  mesh = jtu.create_mesh((2,), (\"x\",))\n",
        "  shape = (256, 128)\n",
        "  np_inp = np.arange(math.prod(shape), dtype=np.float32).reshape(shape)\n",
        "  s = NamedSharding(mesh, P(\"x\"))\n",
        "  inp = jax.device_put(np_inp, s)\n",
        "\n",
        "  policy = jax.checkpoint_policies.save_and_offload_only_these_names(\n",
        "      names_which_can_be_saved=[\"y\"], names_which_can_be_offloaded=[\"z\"],\n",
        "      offload_src='device', offload_dst='pinned_host')\n",
        "\n",
        "  @functools.partial(checkpoint, policy=policy)\n",
        "  def f(x):\n",
        "    def g(ys, _):\n",
        "      y, _ = ys\n",
        "      y = checkpoint_name(jnp.sin(y), \"y\")\n",
        "      z = checkpoint_name(jnp.sin(y), \"z\")\n",
        "      z = z.T\n",
        "      w = checkpoint_name(jnp.sin(z), \"w\")\n",
        "      return (w.T, jnp.sum(w)), None\n",
        "    _, scan_out = jax.lax.scan(g, (x, np.array(1, dtype=np.float32)), [np_inp])[0]\n",
        "    return scan_out"
      ],
      "metadata": {
        "id": "0iUA1YS7PxwQ"
      },
      "execution_count": 22,
      "outputs": []
    },
    {
      "cell_type": "markdown",
      "source": [
        "The code defines a function f that which applies checkpointing with a custom policy. This policy determines which computations can be saved or offloaded during execution. Inside f, there is a nested function g that performs the core computations. The jax.lax.scan function is used to apply g repeatedly over the input data."
      ],
      "metadata": {
        "id": "E8R304BaQM34"
      }
    },
    {
      "cell_type": "markdown",
      "source": [
        "## List of policies"
      ],
      "metadata": {
        "id": "WMa0x6BzQORP"
      }
    },
    {
      "cell_type": "markdown",
      "source": [
        "The policies are:\n",
        "\n",
        "1. everything_saveable (the default strategy, as if jax.checkpoint were not being used at all)\n",
        "\n",
        "2. nothing_saveable (i.e. rematerialize everything, as if a custom policy were not being used at all)\n",
        "\n",
        "3. dots_saveable or its alias checkpoint_dots\n",
        "\n",
        "4. dots_with_no_batch_dims_saveable or its alias checkpoint_dots_with_no_batch_dims\n",
        "\n",
        "5. save_anything_but_these_names (save any values except for the output of checkpoint_name with any of the names given)\n",
        "\n",
        "6. save_any_names_but_these (save only named values, i.e. any outputs of checkpoint_name, except for those with the names given)\n",
        "\n",
        "7. save_only_these_names (save only named values, and only among the names given)\n",
        "\n",
        "8. offload_dot_with_no_batch_dims same as dots_with_no_batch_dims_saveable, but offload to CPU memory instead of recomputing.\n",
        "\n",
        "9. save_and_offload_only_these_names same as save_only_these_names, but offload to CPU memory instead of recomputing.\n",
        "\n",
        "10. save_from_both_policies(policy_1, policy_2) (like a logical or, so that a residual is saveable if it is saveable according to policy_1 or policy_2)\n",
        "\n",
        "Policies only indicate what is saveable; a value is only saved if it’s actually needed by the backward pass."
      ],
      "metadata": {
        "id": "ALu36TGMQQ7I"
      }
    },
    {
      "cell_type": "markdown",
      "source": [
        "## Advanced: Recursive jax.checkpoint"
      ],
      "metadata": {
        "id": "qUSnja6nQaSY"
      }
    },
    {
      "cell_type": "markdown",
      "source": [
        "By applying jax.checkpoint() in the right way, there are many tradeoffs between memory usage and (re)computation that can be expressed. One surprising example is recursive checkpointing, where you apply jax.checkpoint() to a function which itself calls jax.checkpoint()-decorated functions in a way so that memory usage from the chain composition of D functions scales like O(logD) rather than O(D).\n",
        "\n",
        "As a toy example, consider the chain composition of multiple jax.numpy.sin() functions:"
      ],
      "metadata": {
        "id": "vd2WLLxFQl2W"
      }
    },
    {
      "cell_type": "code",
      "source": [
        "def chain_compose(funs):\n",
        "  def f(x):\n",
        "    for fun in funs:\n",
        "      x = fun(x)\n",
        "    return x\n",
        "  return f\n",
        "\n",
        "f = chain_compose([jnp.sin] * 8)\n",
        "print_saved_residuals(f, 3.)"
      ],
      "metadata": {
        "colab": {
          "base_uri": "https://localhost:8080/"
        },
        "id": "GNNHnL8MQxKg",
        "outputId": "f911ba38-088b-44de-e7ad-87834f498867"
      },
      "execution_count": 23,
      "outputs": [
        {
          "output_type": "stream",
          "name": "stdout",
          "text": [
            "f32[] output of cos from /tmp/ipython-input-23-410288286.py:4:10 (chain_compose.<locals>.f)\n",
            "f32[] output of cos from /tmp/ipython-input-23-410288286.py:4:10 (chain_compose.<locals>.f)\n",
            "f32[] output of cos from /tmp/ipython-input-23-410288286.py:4:10 (chain_compose.<locals>.f)\n",
            "f32[] output of cos from /tmp/ipython-input-23-410288286.py:4:10 (chain_compose.<locals>.f)\n",
            "f32[] output of cos from /tmp/ipython-input-23-410288286.py:4:10 (chain_compose.<locals>.f)\n",
            "f32[] output of cos from /tmp/ipython-input-23-410288286.py:4:10 (chain_compose.<locals>.f)\n",
            "f32[] output of cos from /tmp/ipython-input-23-410288286.py:4:10 (chain_compose.<locals>.f)\n",
            "f32[] output of cos from /tmp/ipython-input-23-410288286.py:4:10 (chain_compose.<locals>.f)\n"
          ]
        }
      ]
    },
    {
      "cell_type": "markdown",
      "source": [
        "In general, the number of stored residuals scales linearly with the length of the chain:"
      ],
      "metadata": {
        "id": "Kvk8Hv7AQ00n"
      }
    },
    {
      "cell_type": "code",
      "source": [
        "f = chain_compose([jnp.sin] * 16)\n",
        "print_saved_residuals(f, 3.)"
      ],
      "metadata": {
        "colab": {
          "base_uri": "https://localhost:8080/"
        },
        "id": "tZ5KXOvFQ13X",
        "outputId": "20c4a644-5095-4779-c4c1-1610a6610af8"
      },
      "execution_count": 24,
      "outputs": [
        {
          "output_type": "stream",
          "name": "stdout",
          "text": [
            "f32[] output of cos from /tmp/ipython-input-23-410288286.py:4:10 (chain_compose.<locals>.f)\n",
            "f32[] output of cos from /tmp/ipython-input-23-410288286.py:4:10 (chain_compose.<locals>.f)\n",
            "f32[] output of cos from /tmp/ipython-input-23-410288286.py:4:10 (chain_compose.<locals>.f)\n",
            "f32[] output of cos from /tmp/ipython-input-23-410288286.py:4:10 (chain_compose.<locals>.f)\n",
            "f32[] output of cos from /tmp/ipython-input-23-410288286.py:4:10 (chain_compose.<locals>.f)\n",
            "f32[] output of cos from /tmp/ipython-input-23-410288286.py:4:10 (chain_compose.<locals>.f)\n",
            "f32[] output of cos from /tmp/ipython-input-23-410288286.py:4:10 (chain_compose.<locals>.f)\n",
            "f32[] output of cos from /tmp/ipython-input-23-410288286.py:4:10 (chain_compose.<locals>.f)\n",
            "f32[] output of cos from /tmp/ipython-input-23-410288286.py:4:10 (chain_compose.<locals>.f)\n",
            "f32[] output of cos from /tmp/ipython-input-23-410288286.py:4:10 (chain_compose.<locals>.f)\n",
            "f32[] output of cos from /tmp/ipython-input-23-410288286.py:4:10 (chain_compose.<locals>.f)\n",
            "f32[] output of cos from /tmp/ipython-input-23-410288286.py:4:10 (chain_compose.<locals>.f)\n",
            "f32[] output of cos from /tmp/ipython-input-23-410288286.py:4:10 (chain_compose.<locals>.f)\n",
            "f32[] output of cos from /tmp/ipython-input-23-410288286.py:4:10 (chain_compose.<locals>.f)\n",
            "f32[] output of cos from /tmp/ipython-input-23-410288286.py:4:10 (chain_compose.<locals>.f)\n",
            "f32[] output of cos from /tmp/ipython-input-23-410288286.py:4:10 (chain_compose.<locals>.f)\n"
          ]
        }
      ]
    },
    {
      "cell_type": "markdown",
      "source": [
        "But you can apply jax.checkpoint() recursively to improve the scaling:"
      ],
      "metadata": {
        "id": "mRsBPtTdR-R_"
      }
    },
    {
      "cell_type": "code",
      "source": [
        "def recursive_checkpoint(funs):\n",
        "  if len(funs) == 1:\n",
        "    return funs[0]\n",
        "  elif len(funs) == 2:\n",
        "    f1, f2 = funs\n",
        "    return lambda x: f1(f2(x))\n",
        "  else:\n",
        "    f1 = recursive_checkpoint(funs[:len(funs)//2])\n",
        "    f2 = recursive_checkpoint(funs[len(funs)//2:])\n",
        "    return lambda x: f1(jax.checkpoint(f2)(x))"
      ],
      "metadata": {
        "id": "Yzvui_woR_cf"
      },
      "execution_count": 25,
      "outputs": []
    },
    {
      "cell_type": "code",
      "source": [
        "f = recursive_checkpoint([jnp.sin] * 8)\n",
        "print_saved_residuals(f, 3.)"
      ],
      "metadata": {
        "colab": {
          "base_uri": "https://localhost:8080/"
        },
        "id": "QVCWOqsbSAon",
        "outputId": "863d7642-b3f8-446d-c424-06b4b072b6ae"
      },
      "execution_count": 26,
      "outputs": [
        {
          "output_type": "stream",
          "name": "stdout",
          "text": [
            "f32[] from the argument x\n",
            "f32[] output of sin from /tmp/ipython-input-25-1943107544.py:6:21 (recursive_checkpoint.<locals>.<lambda>)\n",
            "f32[] output of cos from /tmp/ipython-input-25-1943107544.py:6:24 (recursive_checkpoint.<locals>.<lambda>)\n",
            "f32[] output of cos from /tmp/ipython-input-25-1943107544.py:6:21 (recursive_checkpoint.<locals>.<lambda>)\n"
          ]
        }
      ]
    },
    {
      "cell_type": "code",
      "source": [
        "f = recursive_checkpoint([jnp.sin] * 16)\n",
        "print_saved_residuals(f, 3.)"
      ],
      "metadata": {
        "colab": {
          "base_uri": "https://localhost:8080/"
        },
        "id": "Om8n2dOMTTGm",
        "outputId": "d8b1b9ab-fcc3-4e75-c112-92ec00fd8360"
      },
      "execution_count": 27,
      "outputs": [
        {
          "output_type": "stream",
          "name": "stdout",
          "text": [
            "f32[] from the argument x\n",
            "f32[] output of sin from /tmp/ipython-input-25-1943107544.py:6:21 (recursive_checkpoint.<locals>.<lambda>)\n",
            "f32[] output of sin from /tmp/ipython-input-25-1943107544.py:6:21 (recursive_checkpoint.<locals>.<lambda>)\n",
            "f32[] output of cos from /tmp/ipython-input-25-1943107544.py:6:24 (recursive_checkpoint.<locals>.<lambda>)\n",
            "f32[] output of cos from /tmp/ipython-input-25-1943107544.py:6:21 (recursive_checkpoint.<locals>.<lambda>)\n"
          ]
        }
      ]
    },
    {
      "cell_type": "markdown",
      "source": [
        "The cost here, as usual, is recomputation: in particular, you end up performing O(logD) times as many FLOPs:"
      ],
      "metadata": {
        "id": "J5ar4hGgTVc2"
      }
    },
    {
      "cell_type": "code",
      "source": [
        "f = chain_compose([jnp.sin] * 8)\n",
        "print_fwd_bwd(f, 3.)"
      ],
      "metadata": {
        "colab": {
          "base_uri": "https://localhost:8080/",
          "height": 353
        },
        "id": "ZfdwELrJTa8O",
        "outputId": "7938d3a3-31bb-4a35-d429-49f3fef5f083"
      },
      "execution_count": 28,
      "outputs": [
        {
          "output_type": "display_data",
          "data": {
            "text/plain": [
              "                                                                                                                                 \n",
              "  \u001b[1;32mforward computation:\u001b[0m                  \u001b[1;32mbackward computation:\u001b[0m                                                                    \n",
              "                                                                                                                                 \n",
              "  { lambda ; a:f32[]. let               { lambda ; a:f32[] b:f32[] c:f32[] d:f32[] e:f32[] f:f32[] g:f32[] h:f32[] i:f32[]. let  \n",
              "      b:f32[] = sin a                       j:f32[] = mul i h                                                                    \n",
              "      c:f32[] = cos a                       k:f32[] = mul j g                                                                    \n",
              "      d:f32[] = sin b                       l:f32[] = mul k f                                                                    \n",
              "      e:f32[] = cos b                       m:f32[] = mul l e                                                                    \n",
              "      f:f32[] = sin d                       n:f32[] = mul m d                                                                    \n",
              "      g:f32[] = cos d                       o:f32[] = mul n c                                                                    \n",
              "      h:f32[] = sin f                       p:f32[] = mul o b                                                                    \n",
              "      i:f32[] = cos f                       q:f32[] = mul p a                                                                    \n",
              "      j:f32[] = sin h                     in (q,) }                                                                              \n",
              "      k:f32[] = cos h                                                                                                            \n",
              "      l:f32[] = sin j                                                                                                            \n",
              "      m:f32[] = cos j                                                                                                            \n",
              "      n:f32[] = sin l                                                                                                            \n",
              "      o:f32[] = cos l                                                                                                            \n",
              "      p:f32[] = sin n                                                                                                            \n",
              "      q:f32[] = cos n                                                                                                            \n",
              "    in (p, c, e, g, i, k, m, o, q) }                                                                                             \n"
            ],
            "text/html": [
              "<pre style=\"white-space:pre;overflow-x:auto;line-height:normal;font-family:Menlo,'DejaVu Sans Mono',consolas,'Courier New',monospace\">                                                                                                                                 \n",
              "  <span style=\"color: #008000; text-decoration-color: #008000; font-weight: bold\">forward computation:</span>                  <span style=\"color: #008000; text-decoration-color: #008000; font-weight: bold\">backward computation:</span>                                                                    \n",
              "                                                                                                                                 \n",
              "  { lambda ; a:f32[]. let               { lambda ; a:f32[] b:f32[] c:f32[] d:f32[] e:f32[] f:f32[] g:f32[] h:f32[] i:f32[]. let  \n",
              "      b:f32[] = sin a                       j:f32[] = mul i h                                                                    \n",
              "      c:f32[] = cos a                       k:f32[] = mul j g                                                                    \n",
              "      d:f32[] = sin b                       l:f32[] = mul k f                                                                    \n",
              "      e:f32[] = cos b                       m:f32[] = mul l e                                                                    \n",
              "      f:f32[] = sin d                       n:f32[] = mul m d                                                                    \n",
              "      g:f32[] = cos d                       o:f32[] = mul n c                                                                    \n",
              "      h:f32[] = sin f                       p:f32[] = mul o b                                                                    \n",
              "      i:f32[] = cos f                       q:f32[] = mul p a                                                                    \n",
              "      j:f32[] = sin h                     in (q,) }                                                                              \n",
              "      k:f32[] = cos h                                                                                                            \n",
              "      l:f32[] = sin j                                                                                                            \n",
              "      m:f32[] = cos j                                                                                                            \n",
              "      n:f32[] = sin l                                                                                                            \n",
              "      o:f32[] = cos l                                                                                                            \n",
              "      p:f32[] = sin n                                                                                                            \n",
              "      q:f32[] = cos n                                                                                                            \n",
              "    in (p, c, e, g, i, k, m, o, q) }                                                                                             \n",
              "</pre>\n"
            ]
          },
          "metadata": {}
        }
      ]
    },
    {
      "cell_type": "code",
      "source": [
        "f = recursive_checkpoint([jnp.sin] * 8)\n",
        "print_fwd_bwd(f, 3.)"
      ],
      "metadata": {
        "colab": {
          "base_uri": "https://localhost:8080/",
          "height": 737
        },
        "id": "OsJQRPm6Tete",
        "outputId": "67878942-1701-4c26-8162-036a08e49316"
      },
      "execution_count": 29,
      "outputs": [
        {
          "output_type": "display_data",
          "data": {
            "text/plain": [
              "                                                                                                                                        \n",
              "  \u001b[1;32mforward computation:\u001b[0m                                                              \u001b[1;32mbackward computation:\u001b[0m                               \n",
              "                                                                                                                                        \n",
              "  { lambda ; a:f32[]. let                                                           { lambda ; a:f32[] b:f32[] c:f32[] d:f32[]. let     \n",
              "      b:f32[] = remat2[                                                                 e:f32[] = mul d c                               \n",
              "        differentiated=False                                                            f:f32[] = mul e b                               \n",
              "        jaxpr={ lambda ; c:f32[]. let d:f32[] = sin c; e:f32[] = sin d in (e,) }        g:f32[] = remat2[                               \n",
              "        policy=None                                                                       differentiated=True                           \n",
              "        prevent_cse=True                                                                  jaxpr={ lambda ; h:f32[] i:f32[]. let         \n",
              "      ] a                                                                                     j:f32[] = sin h                           \n",
              "      f:f32[] = sin b                                                                         k:f32[] = cos h                           \n",
              "      g:f32[] = sin f                                                                         l:f32[] = cos j                           \n",
              "      h:f32[] = sin g                                                                         m:f32[] = mul i l                         \n",
              "      i:f32[] = sin h                                                                         n:f32[] = mul m k                         \n",
              "      j:f32[] = sin i                                                                       in (n,) }                                   \n",
              "      k:f32[] = cos i                                                                     policy=None                                   \n",
              "      l:f32[] = sin j                                                                     prevent_cse=True                              \n",
              "      m:f32[] = cos j                                                                   ] a f                                           \n",
              "    in (l, g, a, k, m) }                                                                o:f32[] = remat2[                               \n",
              "                                                                                          differentiated=True                           \n",
              "                                                                                          jaxpr={ lambda ; p:f32[] q:f32[]. let         \n",
              "                                                                                              r:f32[] = sin p                           \n",
              "                                                                                              s:f32[] = sin r                           \n",
              "                                                                                              t:f32[] = sin s                           \n",
              "                                                                                              u:f32[] = cos s                           \n",
              "                                                                                              v:f32[] = cos t                           \n",
              "                                                                                              w:f32[] = mul q v                         \n",
              "                                                                                              x:f32[] = mul w u                         \n",
              "                                                                                              y:f32[] = remat2[                         \n",
              "                                                                                                differentiated=True                     \n",
              "                                                                                                jaxpr={ lambda ; z:f32[] ba:f32[]. let  \n",
              "                                                                                                    bb:f32[] = sin z                    \n",
              "                                                                                                    bc:f32[] = cos z                    \n",
              "                                                                                                    bd:f32[] = cos bb                   \n",
              "                                                                                                    be:f32[] = mul ba bd                \n",
              "                                                                                                    bf:f32[] = mul be bc                \n",
              "                                                                                                  in (bf,) }                            \n",
              "                                                                                                policy=None                             \n",
              "                                                                                                prevent_cse=True                        \n",
              "                                                                                              ] p x                                     \n",
              "                                                                                            in (y,) }                                   \n",
              "                                                                                          policy=None                                   \n",
              "                                                                                          prevent_cse=True                              \n",
              "                                                                                        ] 3.0 g                                         \n",
              "                                                                                      in (o,) }                                         \n"
            ],
            "text/html": [
              "<pre style=\"white-space:pre;overflow-x:auto;line-height:normal;font-family:Menlo,'DejaVu Sans Mono',consolas,'Courier New',monospace\">                                                                                                                                        \n",
              "  <span style=\"color: #008000; text-decoration-color: #008000; font-weight: bold\">forward computation:</span>                                                              <span style=\"color: #008000; text-decoration-color: #008000; font-weight: bold\">backward computation:</span>                               \n",
              "                                                                                                                                        \n",
              "  { lambda ; a:f32[]. let                                                           { lambda ; a:f32[] b:f32[] c:f32[] d:f32[]. let     \n",
              "      b:f32[] = remat2[                                                                 e:f32[] = mul d c                               \n",
              "        differentiated=False                                                            f:f32[] = mul e b                               \n",
              "        jaxpr={ lambda ; c:f32[]. let d:f32[] = sin c; e:f32[] = sin d in (e,) }        g:f32[] = remat2[                               \n",
              "        policy=None                                                                       differentiated=True                           \n",
              "        prevent_cse=True                                                                  jaxpr={ lambda ; h:f32[] i:f32[]. let         \n",
              "      ] a                                                                                     j:f32[] = sin h                           \n",
              "      f:f32[] = sin b                                                                         k:f32[] = cos h                           \n",
              "      g:f32[] = sin f                                                                         l:f32[] = cos j                           \n",
              "      h:f32[] = sin g                                                                         m:f32[] = mul i l                         \n",
              "      i:f32[] = sin h                                                                         n:f32[] = mul m k                         \n",
              "      j:f32[] = sin i                                                                       in (n,) }                                   \n",
              "      k:f32[] = cos i                                                                     policy=None                                   \n",
              "      l:f32[] = sin j                                                                     prevent_cse=True                              \n",
              "      m:f32[] = cos j                                                                   ] a f                                           \n",
              "    in (l, g, a, k, m) }                                                                o:f32[] = remat2[                               \n",
              "                                                                                          differentiated=True                           \n",
              "                                                                                          jaxpr={ lambda ; p:f32[] q:f32[]. let         \n",
              "                                                                                              r:f32[] = sin p                           \n",
              "                                                                                              s:f32[] = sin r                           \n",
              "                                                                                              t:f32[] = sin s                           \n",
              "                                                                                              u:f32[] = cos s                           \n",
              "                                                                                              v:f32[] = cos t                           \n",
              "                                                                                              w:f32[] = mul q v                         \n",
              "                                                                                              x:f32[] = mul w u                         \n",
              "                                                                                              y:f32[] = remat2[                         \n",
              "                                                                                                differentiated=True                     \n",
              "                                                                                                jaxpr={ lambda ; z:f32[] ba:f32[]. let  \n",
              "                                                                                                    bb:f32[] = sin z                    \n",
              "                                                                                                    bc:f32[] = cos z                    \n",
              "                                                                                                    bd:f32[] = cos bb                   \n",
              "                                                                                                    be:f32[] = mul ba bd                \n",
              "                                                                                                    bf:f32[] = mul be bc                \n",
              "                                                                                                  in (bf,) }                            \n",
              "                                                                                                policy=None                             \n",
              "                                                                                                prevent_cse=True                        \n",
              "                                                                                              ] p x                                     \n",
              "                                                                                            in (y,) }                                   \n",
              "                                                                                          policy=None                                   \n",
              "                                                                                          prevent_cse=True                              \n",
              "                                                                                        ] 3.0 g                                         \n",
              "                                                                                      in (o,) }                                         \n",
              "</pre>\n"
            ]
          },
          "metadata": {}
        }
      ]
    },
    {
      "cell_type": "markdown",
      "source": [
        "# Practical notes"
      ],
      "metadata": {
        "id": "ldv3zm5eVh9F"
      }
    },
    {
      "cell_type": "markdown",
      "source": [
        "When differentiated functions are staged out to XLA for compilation — for example by applying jax.jit() to a function which contains a jax.grad() call — XLA will automatically optimize the computation, including decisions about when to compute or rematerialize values. As a result, jax.checkpoint() often isn’t needed for differentiated functions under a jax.jit(). XLA will optimize things for you.\n",
        "\n",
        "One exception is when using staged-out control flow, like jax.lax.scan(). Automatic compiler optimizations across multiple control flow primitives (for example, across a forward-pass scan and the corresponding backward-pass scan), typically aren’t as thorough. As a result, it’s often a good idea to use jax.checkpoint() on the body function passed to jax.lax.scan().\n",
        "\n",
        "For example, one common pattern in large Transformer models is to express the architecture as a jax.lax.scan() over layers so as to reduce compilation times. That is, using a simple fully-connected network as an analogy, instead of writing something like this:"
      ],
      "metadata": {
        "id": "B9IxDdmJVp59"
      }
    },
    {
      "cell_type": "code",
      "source": [
        "LayerParam = tuple[jnp.ndarray, jnp.ndarray]  # Weights-bias pair for a layer.\n",
        "ParamsList = list[LayerParam]\n",
        "\n",
        "def net(params: ParamsList, x: jnp.ndarray):\n",
        "  for W, b in params:\n",
        "    x = jnp.maximum(jnp.dot(x, W) + b, 0.)\n",
        "  return x"
      ],
      "metadata": {
        "id": "y1JssdRBV9AV"
      },
      "execution_count": 31,
      "outputs": []
    },
    {
      "cell_type": "markdown",
      "source": [
        "Instead, iterate over the layer application with jax.lax.scan():"
      ],
      "metadata": {
        "id": "Ek6YhtJTY2H7"
      }
    },
    {
      "cell_type": "code",
      "source": [
        "params = [(jnp.array([[0.5, 0.5], [1., 1.]]), jnp.array([0.5, 0.5])),\n",
        "          (jnp.array([[0.5, 0.5], [1., 1.]]), jnp.array([0.5, 0.5]))]\n",
        "\n",
        "all_weights = jnp.stack([W for W, _ in params])\n",
        "all_biases = jnp.stack([b for _, b in params])\n",
        "\n",
        "def layer(x, W_b_pair):\n",
        "  W, b = W_b_pair\n",
        "  out = jnp.maximum(jnp.dot(x, W) + b, 0.)\n",
        "  return out, None\n",
        "\n",
        "def net(all_weights, all_biases, x):\n",
        "  x, _ = jax.lax.scan(layer, x, (all_weights, all_biases))\n",
        "  return x"
      ],
      "metadata": {
        "id": "FFDDNW_RY3Tk"
      },
      "execution_count": 32,
      "outputs": []
    },
    {
      "cell_type": "markdown",
      "source": [
        "This scan-over-layers version reduces compile times, but by foiling some compiler optimizations it can lead to inefficient computation of gradients. To mitigate the issue, you can use jax.checkpoint() on the scanned function:"
      ],
      "metadata": {
        "id": "53U5YOq9aawV"
      }
    },
    {
      "cell_type": "code",
      "source": [
        "from functools import partial\n",
        "\n",
        "@partial(jax.checkpoint,\n",
        "         policy=jax.checkpoint_policies.dots_with_no_batch_dims_saveable)\n",
        "def layer(x, W_b_pair):\n",
        "  W, b = W_b_pair\n",
        "  out = jnp.maximum(jnp.dot(x, W) + b, 0.)\n",
        "  return out, None"
      ],
      "metadata": {
        "id": "WHZ3WJdrboc7"
      },
      "execution_count": 33,
      "outputs": []
    },
    {
      "cell_type": "markdown",
      "source": [
        "By using jax.checkpoint() this way, you’re manually controlling which values JAX’s autodiff saves between the forward and backward passes, and therefore not relying on XLA optimizations to choose for you."
      ],
      "metadata": {
        "id": "cFY_BvNtbrGz"
      }
    }
  ]
}