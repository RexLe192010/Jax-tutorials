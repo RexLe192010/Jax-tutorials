{
  "nbformat": 4,
  "nbformat_minor": 0,
  "metadata": {
    "colab": {
      "provenance": []
    },
    "kernelspec": {
      "name": "python3",
      "display_name": "Python 3"
    },
    "language_info": {
      "name": "python"
    }
  },
  "cells": [
    {
      "cell_type": "markdown",
      "source": [
        "# Jax arrays"
      ],
      "metadata": {
        "id": "PPKAFYtqjZlc"
      }
    },
    {
      "cell_type": "markdown",
      "source": [
        "## Array creation"
      ],
      "metadata": {
        "id": "6QkQOQegjkZT"
      }
    },
    {
      "cell_type": "code",
      "source": [
        "import jax\n",
        "import jax.numpy as jnp\n",
        "\n",
        "x = jnp.arange(5)\n",
        "print(x)\n",
        "isinstance(x, jax.Array)"
      ],
      "metadata": {
        "colab": {
          "base_uri": "https://localhost:8080/"
        },
        "id": "FDliLcWbjdQe",
        "outputId": "2a00f230-b502-4d8a-b7d9-cf752d3c6a40"
      },
      "execution_count": 2,
      "outputs": [
        {
          "output_type": "stream",
          "name": "stdout",
          "text": [
            "[0 1 2 3 4]\n"
          ]
        },
        {
          "output_type": "execute_result",
          "data": {
            "text/plain": [
              "True"
            ]
          },
          "metadata": {},
          "execution_count": 2
        }
      ]
    },
    {
      "cell_type": "markdown",
      "source": [
        "## Array devices and sharding"
      ],
      "metadata": {
        "id": "MKexoubCkBi9"
      }
    },
    {
      "cell_type": "markdown",
      "source": [
        "JAX Array objects have a devices method that lets you inspect where the contents of the array are stored. In the simplest cases, this will be a single CPU device:"
      ],
      "metadata": {
        "id": "fIkHQ79LkFRE"
      }
    },
    {
      "cell_type": "code",
      "source": [
        "x.devices()"
      ],
      "metadata": {
        "colab": {
          "base_uri": "https://localhost:8080/"
        },
        "id": "sTi_bhBgkGa1",
        "outputId": "8ffbe934-4ec7-418d-a3a3-b0a9689510b2"
      },
      "execution_count": 3,
      "outputs": [
        {
          "output_type": "execute_result",
          "data": {
            "text/plain": [
              "{CpuDevice(id=0)}"
            ]
          },
          "metadata": {},
          "execution_count": 3
        }
      ]
    },
    {
      "cell_type": "markdown",
      "source": [
        "In general, an array may be sharded across multiple devices, in a manner that can be inspected via the sharding attribute:"
      ],
      "metadata": {
        "id": "vlXYQM5LkQwf"
      }
    },
    {
      "cell_type": "code",
      "source": [
        "x.sharding"
      ],
      "metadata": {
        "colab": {
          "base_uri": "https://localhost:8080/"
        },
        "id": "vEVXfE1okSXz",
        "outputId": "b12272d4-465f-4371-b91c-1db68b8cc325"
      },
      "execution_count": 4,
      "outputs": [
        {
          "output_type": "execute_result",
          "data": {
            "text/plain": [
              "SingleDeviceSharding(device=CpuDevice(id=0), memory_kind=unpinned_host)"
            ]
          },
          "metadata": {},
          "execution_count": 4
        }
      ]
    },
    {
      "cell_type": "markdown",
      "source": [
        "Here the array is on a single device, but in general a JAX array can be sharded across multiple devices, or even multiple hosts."
      ],
      "metadata": {
        "id": "77PqUsb8nFKq"
      }
    },
    {
      "cell_type": "markdown",
      "source": [
        "# Transformations"
      ],
      "metadata": {
        "id": "SzxulhhXnF2S"
      }
    },
    {
      "cell_type": "markdown",
      "source": [
        "Along with functions to operate on arrays, JAX includes a number of transformations which operate on JAX functions. These include\n",
        "\n",
        "jax.jit(): Just-in-time (JIT) compilation; see Just-in-time compilation\n",
        "\n",
        "jax.vmap(): Vectorizing transform; see Automatic vectorization\n",
        "\n",
        "jax.grad(): Gradient transform; see Automatic differentiation\n",
        "\n",
        "as well as several others. Transformations accept a function as an argument, and return a new transformed function."
      ],
      "metadata": {
        "id": "kcrsZJ72nn_a"
      }
    },
    {
      "cell_type": "markdown",
      "source": [
        "# Tracing"
      ],
      "metadata": {
        "id": "mEllXVAoofZK"
      }
    },
    {
      "cell_type": "markdown",
      "source": [
        "The magic behind transformations is the notion of a Tracer. Tracers are abstract stand-ins for array objects, and are passed to JAX functions in order to extract the sequence of operations that the function encodes.\n",
        "\n",
        "You can see this by printing any array value within transformed JAX code; for example:"
      ],
      "metadata": {
        "id": "HvZQKJWEol1B"
      }
    },
    {
      "cell_type": "code",
      "source": [
        "@jax.jit\n",
        "def f(x):\n",
        "  print(x)\n",
        "  return x + 1\n",
        "\n",
        "x = jnp.arange(5)\n",
        "print(x)\n",
        "result = f(x)\n",
        "print(result)"
      ],
      "metadata": {
        "colab": {
          "base_uri": "https://localhost:8080/"
        },
        "id": "pxxyQOcEome8",
        "outputId": "7e927d75-e6a2-4d6a-d42e-b18235125fdb"
      },
      "execution_count": 9,
      "outputs": [
        {
          "output_type": "stream",
          "name": "stdout",
          "text": [
            "[0 1 2 3 4]\n",
            "Traced<ShapedArray(int32[5])>with<DynamicJaxprTrace>\n",
            "[1 2 3 4 5]\n"
          ]
        }
      ]
    },
    {
      "cell_type": "markdown",
      "source": [
        "The value printed is not the array x, but a Tracer instance that represents essential attributes of x, such as its shape and dtype. By executing the function with traced values, JAX can determine the sequence of operations encoded by the function before those operations are actually executed: transformations like jit(), vmap(), and grad() can then map this sequence of input operations to a transformed sequence of operations."
      ],
      "metadata": {
        "id": "Ub9L2YodpEBq"
      }
    },
    {
      "cell_type": "markdown",
      "source": [
        "# Jaxprs"
      ],
      "metadata": {
        "id": "W4B53Q5Bpk4Z"
      }
    },
    {
      "cell_type": "markdown",
      "source": [
        "JAX has its own intermediate representation for sequences of operations, known as a jaxpr. A jaxpr (short for JAX exPRession) is a simple representation of a functional program, comprising a sequence of primitive operations. We can use the jax.make_jaxpr() utility to convert this function into a jaxpr given a particular input:"
      ],
      "metadata": {
        "id": "sfIn3ZErpnwK"
      }
    },
    {
      "cell_type": "code",
      "source": [
        "def selu(x, alpha=1.67, lambda_=1.05):\n",
        "  return lambda_ * jnp.where(x > 0, x, alpha * jnp.exp(x) - alpha)\n",
        "\n",
        "x = jnp.arange(5.0)\n",
        "jax.make_jaxpr(selu)(x)"
      ],
      "metadata": {
        "colab": {
          "base_uri": "https://localhost:8080/"
        },
        "id": "OGv8j6pWppTZ",
        "outputId": "4cf38805-6d43-4426-c9d2-cbf2dbad7e7d"
      },
      "execution_count": 10,
      "outputs": [
        {
          "output_type": "execute_result",
          "data": {
            "text/plain": [
              "{ lambda ; a:f32[5]. let\n",
              "    b:bool[5] = gt a 0.0\n",
              "    c:f32[5] = exp a\n",
              "    d:f32[5] = mul 1.6699999570846558 c\n",
              "    e:f32[5] = sub d 1.6699999570846558\n",
              "    f:f32[5] = pjit[\n",
              "      name=_where\n",
              "      jaxpr={ lambda ; g:bool[5] h:f32[5] i:f32[5]. let\n",
              "          j:f32[5] = select_n g i h\n",
              "        in (j,) }\n",
              "    ] b a e\n",
              "    k:f32[5] = mul 1.0499999523162842 f\n",
              "  in (k,) }"
            ]
          },
          "metadata": {},
          "execution_count": 10
        }
      ]
    },
    {
      "cell_type": "markdown",
      "source": [
        "# Pytrees"
      ],
      "metadata": {
        "id": "T4RoD2gktjvQ"
      }
    },
    {
      "cell_type": "markdown",
      "source": [
        "JAX functions and transformations fundamentally operate on arrays, but in practice it is convenient to write code that works with collection of arrays: for example, a neural network might organize its parameters in a dictionary of arrays with meaningful keys. Rather than handle such structures on a case-by-case basis, JAX relies on the pytree abstraction to treat such collections in a uniform manner."
      ],
      "metadata": {
        "id": "lc_OBbIitm1P"
      }
    },
    {
      "cell_type": "code",
      "source": [
        "# (nested) list of parameters\n",
        "params = [1, 2, (jnp.arange(3), jnp.ones(2))]\n",
        "print(jax.tree.structure(params))\n",
        "print(jax.tree.leaves(params))\n",
        "\n",
        "# Dictionary of parameters\n",
        "params = {'n': 5, 'W': jnp.ones((2, 2)), 'b': jnp.zeros(2)}\n",
        "print(jax.tree.structure(params))\n",
        "print(jax.tree.leaves(params))\n",
        "\n",
        "# Named tuple of parameters\n",
        "from typing import NamedTuple\n",
        "class Params(NamedTuple):\n",
        "  a: int\n",
        "  b: float\n",
        "params = Params(1, 5.0)\n",
        "print(jax.tree.structure(params))\n",
        "print(jax.tree.leaves(params))"
      ],
      "metadata": {
        "colab": {
          "base_uri": "https://localhost:8080/"
        },
        "id": "nCiNVGfGuCWh",
        "outputId": "a1db75c8-10b1-4e69-ce0b-6519937904d0"
      },
      "execution_count": 13,
      "outputs": [
        {
          "output_type": "stream",
          "name": "stdout",
          "text": [
            "PyTreeDef([*, *, (*, *)])\n",
            "[1, 2, Array([0, 1, 2], dtype=int32), Array([1., 1.], dtype=float32)]\n",
            "PyTreeDef({'W': *, 'b': *, 'n': *})\n",
            "[Array([[1., 1.],\n",
            "       [1., 1.]], dtype=float32), Array([0., 0.], dtype=float32), 5]\n",
            "PyTreeDef(CustomNode(namedtuple[Params], [*, *]))\n",
            "[1, 5.0]\n"
          ]
        }
      ]
    },
    {
      "cell_type": "markdown",
      "source": [
        "JAX has a number of general-purpose utilities for working with PyTrees; for example the functions jax.tree.map() can be used to map a function to every leaf in a tree, and jax.tree.reduce() can be used to apply a reduction across the leaves in a tree."
      ],
      "metadata": {
        "id": "gc7nYQeswHj_"
      }
    },
    {
      "cell_type": "markdown",
      "source": [
        "# Pseudorandom numbers"
      ],
      "metadata": {
        "id": "K6CWklCewKBP"
      }
    },
    {
      "cell_type": "markdown",
      "source": [
        "Generally, JAX strives to be compatible with NumPy, but pseudo random number generation is a notable exception. NumPy supports a method of pseudo random number generation that is based on a global state, which can be set using numpy.random.seed(). Global random state interacts poorly with JAX’s compute model and makes it difficult to enforce reproducibility across different threads, processes, and devices. JAX instead tracks state explicitly via a random key:"
      ],
      "metadata": {
        "id": "vcWML58X4E6z"
      }
    },
    {
      "cell_type": "code",
      "source": [
        "from jax import random\n",
        "\n",
        "key = random.key(43)\n",
        "print(key)"
      ],
      "metadata": {
        "colab": {
          "base_uri": "https://localhost:8080/"
        },
        "id": "C9kAWiGN4G2k",
        "outputId": "00b55ee3-84ed-4c3f-a877-06331d327b74"
      },
      "execution_count": 14,
      "outputs": [
        {
          "output_type": "stream",
          "name": "stdout",
          "text": [
            "Array((), dtype=key<fry>) overlaying:\n",
            "[ 0 43]\n"
          ]
        }
      ]
    },
    {
      "cell_type": "markdown",
      "source": [
        "The key is effectively a stand-in for NumPy’s hidden state object, but we pass it explicitly to jax.random() functions. Importantly, random functions consume the key, but do not modify it: feeding the same key object to a random function will always result in the same sample being generated."
      ],
      "metadata": {
        "id": "JYUs6wr25R_L"
      }
    },
    {
      "cell_type": "code",
      "source": [
        "print(random.normal(key))\n",
        "print(random.normal(key))"
      ],
      "metadata": {
        "colab": {
          "base_uri": "https://localhost:8080/"
        },
        "id": "czHfEZhY5Tfk",
        "outputId": "97cf6e89-8afb-4fc1-944d-67bb2ff3775b"
      },
      "execution_count": 15,
      "outputs": [
        {
          "output_type": "stream",
          "name": "stdout",
          "text": [
            "0.07520543\n",
            "0.07520543\n"
          ]
        }
      ]
    },
    {
      "cell_type": "markdown",
      "source": [
        "In order to generate different and independent samples, you must split() the key explicitly before passing it to a random function:"
      ],
      "metadata": {
        "id": "Oujif6E05WLT"
      }
    },
    {
      "cell_type": "code",
      "source": [
        "for i in range(3):\n",
        "  new_key, subkey = random.split(key)\n",
        "  del key  # The old key is consumed by split() -- we must never use it again.\n",
        "\n",
        "  val = random.normal(subkey)\n",
        "  del subkey  # The subkey is consumed by normal().\n",
        "\n",
        "  print(f\"draw {i}: {val}\")\n",
        "  key = new_key  # new_key is safe to use in the next iteration."
      ],
      "metadata": {
        "colab": {
          "base_uri": "https://localhost:8080/"
        },
        "id": "WrVWsAmU5XRD",
        "outputId": "5c35d04f-fd2f-4625-9674-65bd2320da9d"
      },
      "execution_count": 16,
      "outputs": [
        {
          "output_type": "stream",
          "name": "stdout",
          "text": [
            "draw 0: -1.9133632183074951\n",
            "draw 1: -1.4749839305877686\n",
            "draw 2: -0.36703771352767944\n"
          ]
        }
      ]
    },
    {
      "cell_type": "markdown",
      "source": [
        "Note that this code is thread safe, since the local random state eliminates possible race conditions involving global state. jax.random.split() is a deterministic function that converts one key into several independent (in the pseudorandomness sense) keys."
      ],
      "metadata": {
        "id": "l6FIs1jS5Z6r"
      }
    }
  ]
}