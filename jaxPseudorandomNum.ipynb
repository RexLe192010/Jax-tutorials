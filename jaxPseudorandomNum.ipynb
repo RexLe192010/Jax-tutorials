{
  "nbformat": 4,
  "nbformat_minor": 0,
  "metadata": {
    "colab": {
      "provenance": []
    },
    "kernelspec": {
      "name": "python3",
      "display_name": "Python 3"
    },
    "language_info": {
      "name": "python"
    }
  },
  "cells": [
    {
      "cell_type": "markdown",
      "source": [
        "In this section we focus on jax.random and pseudo random number generation (PRNG); that is, the process of algorithmically generating sequences of numbers whose properties approximate the properties of sequences of random numbers sampled from an appropriate distribution.\n",
        "\n",
        "PRNG-generated sequences are not truly random because they are actually determined by their initial value, which is typically referred to as the seed, and each step of random sampling is a deterministic function of some state that is carried over from a sample to the next.\n",
        "\n",
        "Pseudo random number generation is an essential component of any machine learning or scientific computing framework. Generally, JAX strives to be compatible with NumPy, but pseudo random number generation is a notable exception.\n",
        "\n",
        "To better understand the difference between the approaches taken by JAX and NumPy when it comes to random number generation we will discuss both approaches in this section."
      ],
      "metadata": {
        "id": "Q2ixZrtPG4HA"
      }
    },
    {
      "cell_type": "markdown",
      "source": [
        "# Random numbers in NumPy"
      ],
      "metadata": {
        "id": "aineRbeoG6dP"
      }
    },
    {
      "cell_type": "markdown",
      "source": [
        "Pseudo random number generation is natively supported in NumPy by the numpy.random module. In NumPy, pseudo random number generation is based on a global state, which can be set to a deterministic initial condition using numpy.random.seed()."
      ],
      "metadata": {
        "id": "C9_DeXc1G-sX"
      }
    },
    {
      "cell_type": "code",
      "source": [
        "import numpy as np\n",
        "np.random.seed(0)"
      ],
      "metadata": {
        "id": "gpgF03wRG_yH"
      },
      "execution_count": 2,
      "outputs": []
    },
    {
      "cell_type": "markdown",
      "source": [
        "Repeated calls to NumPy’s stateful pseudorandom number generators (PRNGs) mutate the global state and give a stream of pseudorandom numbers:"
      ],
      "metadata": {
        "id": "chhH2aD6vSv3"
      }
    },
    {
      "cell_type": "code",
      "source": [
        "print(np.random.random())\n",
        "print(np.random.random())\n",
        "print(np.random.random())"
      ],
      "metadata": {
        "colab": {
          "base_uri": "https://localhost:8080/"
        },
        "id": "QX0yV8vvvTOt",
        "outputId": "31dd7102-85ac-4789-e912-4f422546629a"
      },
      "execution_count": 3,
      "outputs": [
        {
          "output_type": "stream",
          "name": "stdout",
          "text": [
            "0.5488135039273248\n",
            "0.7151893663724195\n",
            "0.6027633760716439\n"
          ]
        }
      ]
    },
    {
      "cell_type": "markdown",
      "source": [
        "Underneath the hood, NumPy uses the Mersenne Twister PRNG to power its pseudorandom functions. The PRNG has a period of\n",
        " and at any point can be described by 624 32-bit unsigned ints and a position indicating how much of this “entropy” has been used up.\n",
        "\n",
        "You can inspect the content of the state using the following command."
      ],
      "metadata": {
        "id": "mp1iuVuqvaVu"
      }
    },
    {
      "cell_type": "code",
      "source": [
        "def print_truncated_random_state():\n",
        "  \"\"\"To avoid spamming the outputs, print only part of the state.\"\"\"\n",
        "  full_random_state = np.random.get_state()\n",
        "  print(str(full_random_state)[:460], '...')\n",
        "\n",
        "print_truncated_random_state()"
      ],
      "metadata": {
        "colab": {
          "base_uri": "https://localhost:8080/"
        },
        "id": "vcxUEn0rvbtu",
        "outputId": "f08ebe18-7843-4a12-e763-67569d4d2c76"
      },
      "execution_count": 4,
      "outputs": [
        {
          "output_type": "stream",
          "name": "stdout",
          "text": [
            "('MT19937', array([2443250962, 1093594115, 1878467924, 2709361018, 1101979660,\n",
            "       3904844661,  676747479, 2085143622, 1056793272, 3812477442,\n",
            "       2168787041,  275552121, 2696932952, 3432054210, 1657102335,\n",
            "       3518946594,  962584079, 1051271004, 3806145045, 1414436097,\n",
            "       2032348584, 1661738718, 1116708477, 2562755208, 3176189976,\n",
            "        696824676, 2399811678, 3992505346,  569184356, 2626558620,\n",
            "        136797809, 4273176064,  296167901, 343 ...\n"
          ]
        }
      ]
    },
    {
      "cell_type": "markdown",
      "source": [
        "The state is updated by each call to a random function:"
      ],
      "metadata": {
        "id": "1OSNR9j5vuuP"
      }
    },
    {
      "cell_type": "code",
      "source": [
        "np.random.seed(0)\n",
        "print_truncated_random_state()"
      ],
      "metadata": {
        "colab": {
          "base_uri": "https://localhost:8080/"
        },
        "id": "ZMm7fgk7vvOW",
        "outputId": "3e4a9326-8bd0-4a0f-d2a0-592a2c5c8975"
      },
      "execution_count": 5,
      "outputs": [
        {
          "output_type": "stream",
          "name": "stdout",
          "text": [
            "('MT19937', array([         0,          1, 1812433255, 1900727105, 1208447044,\n",
            "       2481403966, 4042607538,  337614300, 3232553940, 1018809052,\n",
            "       3202401494, 1775180719, 3192392114,  594215549,  184016991,\n",
            "        829906058,  610491522, 3879932251, 3139825610,  297902587,\n",
            "       4075895579, 2943625357, 3530655617, 1423771745, 2135928312,\n",
            "       2891506774, 1066338622,  135451537,  933040465, 2759011858,\n",
            "       2273819758, 3545703099, 2516396728, 127 ...\n"
          ]
        }
      ]
    },
    {
      "cell_type": "code",
      "source": [
        "_ = np.random.uniform()\n",
        "print_truncated_random_state()"
      ],
      "metadata": {
        "colab": {
          "base_uri": "https://localhost:8080/"
        },
        "id": "Sw-fd-9BwKTX",
        "outputId": "52e862b1-14f5-4e97-e9be-f3421dd0ba28"
      },
      "execution_count": 6,
      "outputs": [
        {
          "output_type": "stream",
          "name": "stdout",
          "text": [
            "('MT19937', array([2443250962, 1093594115, 1878467924, 2709361018, 1101979660,\n",
            "       3904844661,  676747479, 2085143622, 1056793272, 3812477442,\n",
            "       2168787041,  275552121, 2696932952, 3432054210, 1657102335,\n",
            "       3518946594,  962584079, 1051271004, 3806145045, 1414436097,\n",
            "       2032348584, 1661738718, 1116708477, 2562755208, 3176189976,\n",
            "        696824676, 2399811678, 3992505346,  569184356, 2626558620,\n",
            "        136797809, 4273176064,  296167901, 343 ...\n"
          ]
        }
      ]
    },
    {
      "cell_type": "markdown",
      "source": [
        "NumPy allows you to sample both individual numbers, or entire vectors of numbers in a single function call. For instance, you may sample a vector of 3 scalars from a uniform distribution by doing:"
      ],
      "metadata": {
        "id": "A0qDZnI4wMV-"
      }
    },
    {
      "cell_type": "code",
      "source": [
        "np.random.seed(0)\n",
        "print(np.random.uniform(size=3))"
      ],
      "metadata": {
        "colab": {
          "base_uri": "https://localhost:8080/"
        },
        "id": "7qJ8LlEzwPHu",
        "outputId": "b907e431-304c-4006-86bc-81c5300e4b63"
      },
      "execution_count": 7,
      "outputs": [
        {
          "output_type": "stream",
          "name": "stdout",
          "text": [
            "[0.5488135  0.71518937 0.60276338]\n"
          ]
        }
      ]
    },
    {
      "cell_type": "markdown",
      "source": [
        "NumPy provides a sequential equivalent guarantee, meaning that sampling N numbers in a row individually or sampling a vector of N numbers results in the same pseudo-random sequences:"
      ],
      "metadata": {
        "id": "IWN9N-UAwbEe"
      }
    },
    {
      "cell_type": "code",
      "source": [
        "np.random.seed(0)\n",
        "print(\"individually:\", np.stack([np.random.uniform() for _ in range(3)]))\n",
        "\n",
        "np.random.seed(0)\n",
        "print(\"all at once: \", np.random.uniform(size=3))"
      ],
      "metadata": {
        "colab": {
          "base_uri": "https://localhost:8080/"
        },
        "id": "u87m5Q6wwcj-",
        "outputId": "a6d79f29-d000-4495-84db-8ad123520417"
      },
      "execution_count": 8,
      "outputs": [
        {
          "output_type": "stream",
          "name": "stdout",
          "text": [
            "individually: [0.5488135  0.71518937 0.60276338]\n",
            "all at once:  [0.5488135  0.71518937 0.60276338]\n"
          ]
        }
      ]
    },
    {
      "cell_type": "markdown",
      "source": [
        "# Random numbers in JAX"
      ],
      "metadata": {
        "id": "xNKHXab2w1z_"
      }
    },
    {
      "cell_type": "markdown",
      "source": [
        "JAX’s random number generation differs from NumPy’s in important ways, because NumPy’s PRNG design makes it hard to simultaneously guarantee a number of desirable properties. Specifically, in JAX we want PRNG generation to be:\n",
        "\n",
        "1. reproducible,\n",
        "\n",
        "2. parallelizable,\n",
        "\n",
        "3. vectorisable.\n",
        "\n",
        "We will discuss why in the following. First, we will focus on the implications of a PRNG design based on a global state. Consider the code:"
      ],
      "metadata": {
        "id": "fuNTv7jZw7zE"
      }
    },
    {
      "cell_type": "code",
      "source": [
        "import numpy as np\n",
        "\n",
        "np.random.seed(0)\n",
        "\n",
        "def bar(): return np.random.uniform()\n",
        "def baz(): return np.random.uniform()\n",
        "\n",
        "def foo(): return bar() + 2 * baz() # 0.5488135 + 0.71518937 * 2\n",
        "\n",
        "print(foo())"
      ],
      "metadata": {
        "colab": {
          "base_uri": "https://localhost:8080/"
        },
        "id": "8lUtIbUQxA_2",
        "outputId": "cc2a0096-e588-4241-fd65-c1ad338ec86c"
      },
      "execution_count": 10,
      "outputs": [
        {
          "output_type": "stream",
          "name": "stdout",
          "text": [
            "1.9791922366721637\n"
          ]
        }
      ]
    },
    {
      "cell_type": "markdown",
      "source": [
        "The function foo sums two scalars sampled from a uniform distribution.\n",
        "\n",
        "The output of this code can only satisfy requirement #1 if we assume a predictable order of execution for bar() and baz(). This is not a problem in NumPy, which always evaluates code in the order defined by the Python interpreter. In JAX, however, this is more problematic: for efficient execution, we want the JIT compiler to be free to reorder, elide, and fuse various operations in the function we define. Further, when executing in multi-device environments, execution efficiency would be hampered by the need for each process to synchronize a global state."
      ],
      "metadata": {
        "id": "eYsRC3Ouxkcm"
      }
    },
    {
      "cell_type": "markdown",
      "source": [
        "## Explicit random state"
      ],
      "metadata": {
        "id": "zppIUFvMxpEm"
      }
    },
    {
      "cell_type": "markdown",
      "source": [
        "To avoid these issues, JAX avoids implicit global random state, and instead tracks state explicitly via a random key:"
      ],
      "metadata": {
        "id": "OVDLOxYXx2SW"
      }
    },
    {
      "cell_type": "code",
      "source": [
        "from jax import random\n",
        "\n",
        "key = random.key(42)\n",
        "print(key)"
      ],
      "metadata": {
        "colab": {
          "base_uri": "https://localhost:8080/"
        },
        "id": "_JdhXeL3x2o2",
        "outputId": "0fefbed2-d98a-458f-eb9f-334d56720836"
      },
      "execution_count": 11,
      "outputs": [
        {
          "output_type": "stream",
          "name": "stdout",
          "text": [
            "Array((), dtype=key<fry>) overlaying:\n",
            "[ 0 42]\n"
          ]
        }
      ]
    },
    {
      "cell_type": "markdown",
      "source": [
        "A key is an array with a special dtype corresponding to the particular PRNG implementation being used; in the default implementation each key is backed by a pair of uint32 values.\n",
        "\n",
        "The key is effectively a stand-in for NumPy’s hidden state object, but we pass it explicitly to jax.random() functions. Importantly, random functions consume the key, but do not modify it: feeding the same key object to a random function will always result in the same sample being generated."
      ],
      "metadata": {
        "id": "597_LZqN-LVB"
      }
    },
    {
      "cell_type": "code",
      "source": [
        "print(random.normal(key))\n",
        "print(random.normal(key))"
      ],
      "metadata": {
        "colab": {
          "base_uri": "https://localhost:8080/"
        },
        "id": "bL8fba_h-Mko",
        "outputId": "e7d08e41-252a-464f-ea5a-9c43ddd74521"
      },
      "execution_count": 12,
      "outputs": [
        {
          "output_type": "stream",
          "name": "stdout",
          "text": [
            "-0.028304616\n",
            "-0.028304616\n"
          ]
        }
      ]
    },
    {
      "cell_type": "markdown",
      "source": [
        "Reusing the same key, even with different random APIs, can result in correlated outputs, which is generally undesirable.\n",
        "\n",
        "**The rule of thumb is: never reuse keys (unless you want identical outputs). Reusing the same state will cause sadness and monotony, depriving the end user of lifegiving chaos.**\n",
        "\n",
        "JAX uses a modern Threefry counter-based PRNG that’s splittable. That is, its design allows us to fork the PRNG state into new PRNGs for use with parallel stochastic generation. In order to generate different and independent samples, you must split() the key explicitly before passing it to a random function:"
      ],
      "metadata": {
        "id": "HjYq0BED-TRI"
      }
    },
    {
      "cell_type": "code",
      "source": [
        "for i in range(3):\n",
        "  new_key, subkey = random.split(key)\n",
        "  del key  # The old key is consumed by split() -- we must never use it again.\n",
        "\n",
        "  val = random.normal(subkey)\n",
        "  del subkey  # The subkey is consumed by normal().\n",
        "\n",
        "  print(f\"draw {i}: {val}\")\n",
        "  key = new_key  # new_key is safe to use in the next iteration."
      ],
      "metadata": {
        "colab": {
          "base_uri": "https://localhost:8080/"
        },
        "id": "6YIz_gTo-Z0S",
        "outputId": "81d0dc55-0d00-4a62-edaf-9c6715aa4b15"
      },
      "execution_count": 13,
      "outputs": [
        {
          "output_type": "stream",
          "name": "stdout",
          "text": [
            "draw 0: 0.6057640314102173\n",
            "draw 1: -0.21089035272598267\n",
            "draw 2: -0.3948981463909149\n"
          ]
        }
      ]
    },
    {
      "cell_type": "markdown",
      "source": [
        "(Calling del here is not required, but we do so to emphasize that the key should not be reused once consumed.)\n",
        "\n",
        "jax.random.split() is a deterministic function that converts one key into several independent (in the pseudorandomness sense) keys. We keep one of the outputs as the new_key, and can safely use the unique extra key (called subkey) as input into a random function, and then discard it forever. If you wanted to get another sample from the normal distribution, you would split key again, and so on: the crucial point is that you never use the same key twice.\n",
        "\n",
        "It doesn’t matter which part of the output of split(key) we call key, and which we call subkey. They are all independent keys with equal status. The key/subkey naming convention is a typical usage pattern that helps track how keys are consumed: subkeys are destined for immediate consumption by random functions, while the key is retained to generate more randomness later.\n",
        "\n",
        "Usually, the above example would be written concisely as"
      ],
      "metadata": {
        "id": "zHiPtNG--r84"
      }
    },
    {
      "cell_type": "code",
      "source": [
        "key, subkey = random.split(key)"
      ],
      "metadata": {
        "id": "0QK0LUBW-tXY"
      },
      "execution_count": 14,
      "outputs": []
    },
    {
      "cell_type": "markdown",
      "source": [
        "which discards the old key automatically. It’s worth noting that split() can create as many keys as you need, not just 2:"
      ],
      "metadata": {
        "id": "93uvNOrE-u6A"
      }
    },
    {
      "cell_type": "code",
      "source": [
        "key, *forty_two_subkeys = random.split(key, num=43)"
      ],
      "metadata": {
        "id": "w8kNmGOl-vqA"
      },
      "execution_count": null,
      "outputs": []
    },
    {
      "cell_type": "markdown",
      "source": [
        "## Lack of sequential equivalence"
      ],
      "metadata": {
        "id": "-C13IixK-xFP"
      }
    },
    {
      "cell_type": "markdown",
      "source": [
        "Another difference between NumPy’s and JAX’s random modules relates to the sequential equivalence guarantee mentioned above.\n",
        "\n",
        "As in NumPy, JAX’s random module also allows sampling of vectors of numbers. However, JAX does not provide a sequential equivalence guarantee, because doing so would interfere with the vectorization on SIMD hardware (requirement #3 above).\n",
        "\n",
        "In the example below, sampling 3 values out of a normal distribution individually using three subkeys gives a different result to using giving a single key and specifying shape=(3,):"
      ],
      "metadata": {
        "id": "oJvcmj2m-3jI"
      }
    },
    {
      "cell_type": "code",
      "source": [
        "key = random.key(42)\n",
        "subkeys = random.split(key, 3)\n",
        "sequence = np.stack([random.normal(subkey) for subkey in subkeys])\n",
        "print(\"individually:\", sequence)\n",
        "\n",
        "key = random.key(42)\n",
        "print(\"all at once: \", random.normal(key, shape=(3,)))"
      ],
      "metadata": {
        "colab": {
          "base_uri": "https://localhost:8080/"
        },
        "id": "9mJYsiap-5Io",
        "outputId": "bb62621c-6a3d-480a-ca8f-29250832f95d"
      },
      "execution_count": 15,
      "outputs": [
        {
          "output_type": "stream",
          "name": "stdout",
          "text": [
            "individually: [0.07592554 0.60576403 0.4323065 ]\n",
            "all at once:  [-0.02830462  0.46713185  0.29570296]\n"
          ]
        }
      ]
    },
    {
      "cell_type": "markdown",
      "source": [
        "The lack of sequential equivalence gives us freedom to write code more efficiently; for example, instead of generating sequence above via a sequential loop, we can use jax.vmap() to compute the same result in a vectorized manner:"
      ],
      "metadata": {
        "id": "xybzppVf_WnA"
      }
    },
    {
      "cell_type": "code",
      "source": [
        "import jax\n",
        "print(\"vectorized:\", jax.vmap(random.normal)(subkeys))"
      ],
      "metadata": {
        "colab": {
          "base_uri": "https://localhost:8080/"
        },
        "id": "arVpVWlc_Xio",
        "outputId": "3067a7be-e668-4ccb-c24d-f2213a7b0f35"
      },
      "execution_count": 16,
      "outputs": [
        {
          "output_type": "stream",
          "name": "stdout",
          "text": [
            "vectorized: [0.07592554 0.60576403 0.4323065 ]\n"
          ]
        }
      ]
    }
  ]
}