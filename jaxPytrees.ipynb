{
  "nbformat": 4,
  "nbformat_minor": 0,
  "metadata": {
    "colab": {
      "provenance": []
    },
    "kernelspec": {
      "name": "python3",
      "display_name": "Python 3"
    },
    "language_info": {
      "name": "python"
    }
  },
  "cells": [
    {
      "cell_type": "markdown",
      "source": [
        "JAX has built-in support for objects that look like dictionaries (dicts) of arrays, or lists of lists of dicts, or other nested structures — in JAX these are called pytrees. This section will explain how to use them, provide useful code examples, and point out common “gotchas” and patterns."
      ],
      "metadata": {
        "id": "J3Itxsk9OJnS"
      }
    },
    {
      "cell_type": "markdown",
      "source": [
        "# What is a pytree?"
      ],
      "metadata": {
        "id": "_sKoRsXdOLbR"
      }
    },
    {
      "cell_type": "markdown",
      "source": [
        "A pytree is a container-like structure built out of container-like Python objects — “leaf” pytrees and/or more pytrees. A pytree can include lists, tuples, and dicts. A leaf is anything that’s not a pytree, such as an array, but a single leaf is also a pytree.\n",
        "\n",
        "In the context of machine learning (ML), a pytree can contain:\n",
        "\n",
        "1. Model parameters\n",
        "\n",
        "2. Dataset entries\n",
        "\n",
        "3. Reinforcement learning agent observations\n",
        "\n",
        "When working with datasets, you can often come across pytrees (such as lists of lists of dicts).\n",
        "\n",
        "Below is an example of a simple pytree. In JAX, you can use jax.tree.leaves(), to extract the flattened leaves from the trees, as demonstrated here:"
      ],
      "metadata": {
        "id": "4OsjEiLJPkxh"
      }
    },
    {
      "cell_type": "code",
      "source": [
        "import jax\n",
        "import jax.numpy as jnp\n",
        "\n",
        "example_trees = [\n",
        "    [1, 'a', object()],\n",
        "    (1, (2, 3), ()),\n",
        "    [1, {'k1': 2, 'k2': (3, 4)}, 5],\n",
        "    {'a': 2, 'b': (2, 3)},\n",
        "    jnp.array([1, 2, 3]), # a jnp array is a leaf\n",
        "]\n",
        "\n",
        "# Print how many leaves the pytrees have.\n",
        "for pytree in example_trees:\n",
        "  # This `jax.tree.leaves()` method extracts the flattened leaves from the pytrees.\n",
        "  leaves = jax.tree.leaves(pytree)\n",
        "  print(f\"{repr(pytree):<45} has {len(leaves)} leaves: {leaves}\")"
      ],
      "metadata": {
        "colab": {
          "base_uri": "https://localhost:8080/"
        },
        "id": "kM0mOP0zPqyR",
        "outputId": "486e1626-ec5b-4702-81a0-379a1cb91693"
      },
      "execution_count": 24,
      "outputs": [
        {
          "output_type": "stream",
          "name": "stdout",
          "text": [
            "[1, 'a', <object object at 0x7f9cf13d9620>]   has 3 leaves: [1, 'a', <object object at 0x7f9cf13d9620>]\n",
            "(1, (2, 3), ())                               has 3 leaves: [1, 2, 3]\n",
            "[1, {'k1': 2, 'k2': (3, 4)}, 5]               has 5 leaves: [1, 2, 3, 4, 5]\n",
            "{'a': 2, 'b': (2, 3)}                         has 3 leaves: [2, 2, 3]\n",
            "Array([1, 2, 3], dtype=int32)                 has 1 leaves: [Array([1, 2, 3], dtype=int32)]\n"
          ]
        }
      ]
    },
    {
      "cell_type": "markdown",
      "source": [
        "Any tree-like structure built out of container-like Python objects can be treated as a pytree in JAX. Classes are considered container-like if they are in the pytree registry, which by default includes lists, tuples, and dicts. Any object whose type is not in the pytree container registry will be treated as a leaf node in the tree.\n",
        "\n",
        "The pytree registry can be extended to include user-defined container classes by registering the class with functions that specify how to flatten the tree; see Custom pytree nodes below."
      ],
      "metadata": {
        "id": "FTjh3NWDXSaF"
      }
    },
    {
      "cell_type": "markdown",
      "source": [
        "# Common pytree functions"
      ],
      "metadata": {
        "id": "a2Hsl3cIXTLl"
      }
    },
    {
      "cell_type": "markdown",
      "source": [
        "JAX provides a number of utilities to operate over pytrees. These can be found in the jax.tree_util subpackage; for convenience many of these have aliases in the jax.tree module."
      ],
      "metadata": {
        "id": "IrpHiezoXYBE"
      }
    },
    {
      "cell_type": "markdown",
      "source": [
        "## Common function: jax.tree.map"
      ],
      "metadata": {
        "id": "UI_s0DKPX_XM"
      }
    },
    {
      "cell_type": "code",
      "source": [
        "list_of_lists = [\n",
        "    [1, 2, 3],\n",
        "    [1, 2],\n",
        "    [1, 2, 3, 4]\n",
        "]\n",
        "\n",
        "jax.tree.map(lambda x: x*2, list_of_lists)"
      ],
      "metadata": {
        "colab": {
          "base_uri": "https://localhost:8080/"
        },
        "id": "ipd4ey47YCDs",
        "outputId": "8ee14864-b595-46f8-a766-5cee05162d83"
      },
      "execution_count": 25,
      "outputs": [
        {
          "output_type": "execute_result",
          "data": {
            "text/plain": [
              "[[2, 4, 6], [2, 4], [2, 4, 6, 8]]"
            ]
          },
          "metadata": {},
          "execution_count": 25
        }
      ]
    },
    {
      "cell_type": "markdown",
      "source": [
        "jax.tree.map() also allows mapping a N-ary function over multiple arguments. For example:"
      ],
      "metadata": {
        "id": "5_MZoPn3YLBE"
      }
    },
    {
      "cell_type": "code",
      "source": [
        "another_list_of_lists = list_of_lists\n",
        "jax.tree.map(lambda x, y: x+y, list_of_lists, another_list_of_lists)"
      ],
      "metadata": {
        "colab": {
          "base_uri": "https://localhost:8080/"
        },
        "id": "w6Q9FsaEYLic",
        "outputId": "c9def171-a995-4abc-9f2f-951e053f309b"
      },
      "execution_count": 26,
      "outputs": [
        {
          "output_type": "execute_result",
          "data": {
            "text/plain": [
              "[[2, 4, 6], [2, 4], [2, 4, 6, 8]]"
            ]
          },
          "metadata": {},
          "execution_count": 26
        }
      ]
    },
    {
      "cell_type": "markdown",
      "source": [
        "When using multiple arguments with jax.tree.map(), the structure of the inputs must exactly match. That is, lists must have the same number of elements, dicts must have the same keys, etc."
      ],
      "metadata": {
        "id": "zK99cd-uY4TM"
      }
    },
    {
      "cell_type": "markdown",
      "source": [
        "## Example of jax.tree.map with ML model parameters"
      ],
      "metadata": {
        "id": "8ZVaYJsWY6Mj"
      }
    },
    {
      "cell_type": "markdown",
      "source": [
        "This example demonstrates how pytree operations can be useful when training a simple multi-layer perceptron (MLP).\n",
        "\n",
        "Begin with defining the initial model parameters:"
      ],
      "metadata": {
        "id": "-qXrZI1PY9OM"
      }
    },
    {
      "cell_type": "code",
      "source": [
        "import numpy as np\n",
        "\n",
        "def init_mlp_params(layer_widths):\n",
        "  params = []\n",
        "  for n_in, n_out in zip(layer_widths[:-1], layer_widths[1:]):\n",
        "    params.append(\n",
        "        dict(weights=np.random.normal(size=(n_in, n_out)) * np.sqrt(2/n_in),\n",
        "             biases=np.ones(shape=(n_out,))\n",
        "            )\n",
        "    )\n",
        "  return params\n",
        "\n",
        "params = init_mlp_params([1, 128, 128, 1])"
      ],
      "metadata": {
        "id": "6zaVPanUY9ns"
      },
      "execution_count": 32,
      "outputs": []
    },
    {
      "cell_type": "markdown",
      "source": [
        "Use jax.tree.map() to check the shapes of the initial parameters:"
      ],
      "metadata": {
        "id": "5Ba8J2QJZH8M"
      }
    },
    {
      "cell_type": "code",
      "source": [
        "jax.tree.map(lambda x: x.shape, params)"
      ],
      "metadata": {
        "colab": {
          "base_uri": "https://localhost:8080/"
        },
        "id": "lShq5A_FZIms",
        "outputId": "feb115e9-75f3-4381-c25e-eddfda1691bc"
      },
      "execution_count": 28,
      "outputs": [
        {
          "output_type": "execute_result",
          "data": {
            "text/plain": [
              "[{'biases': (128,), 'weights': (1, 128)},\n",
              " {'biases': (128,), 'weights': (128, 128)},\n",
              " {'biases': (1,), 'weights': (128, 1)}]"
            ]
          },
          "metadata": {},
          "execution_count": 28
        }
      ]
    },
    {
      "cell_type": "markdown",
      "source": [
        "Next, define the functions for training the MLP model:"
      ],
      "metadata": {
        "id": "gXb9Xftsb6yq"
      }
    },
    {
      "cell_type": "code",
      "source": [
        "# Define the forward pass.\n",
        "def forward(params, x):\n",
        "  *hidden, last = params\n",
        "  for layer in hidden:\n",
        "    x = jax.nn.relu(x @ layer['weights'] + layer['biases'])\n",
        "  return x @ last['weights'] + last['biases']\n",
        "\n",
        "# Define the loss function.\n",
        "def loss_fn(params, x, y):\n",
        "  return jnp.mean((forward(params, x) - y) ** 2)\n",
        "\n",
        "# Set the learning rate.\n",
        "LEARNING_RATE = 0.0001\n",
        "\n",
        "# Using the stochastic gradient descent, define the parameter update function.\n",
        "# Apply `@jax.jit` for JIT compilation (speed).\n",
        "@jax.jit\n",
        "def update(params, x, y):\n",
        "  # Calculate the gradients with `jax.grad`.\n",
        "  grads = jax.grad(loss_fn)(params, x, y)\n",
        "  # Note that `grads` is a pytree with the same structure as `params`.\n",
        "  # `jax.grad` is one of many JAX functions that has\n",
        "  # built-in support for pytrees.\n",
        "  # This is useful - you can apply the SGD update using JAX pytree utilities.\n",
        "  return jax.tree.map(\n",
        "      lambda p, g: p - LEARNING_RATE * g, params, grads\n",
        "  )\n",
        "\n",
        "# x → forward(params, x) → predict\n",
        "# → loss_fn(params, x, y) → compute MSE loss\n",
        "# → jax.grad(loss_fn) → gradients wrt params\n",
        "# → jax.tree.map(update rule) → new params\n"
      ],
      "metadata": {
        "id": "IbACRYF8b7RT"
      },
      "execution_count": 33,
      "outputs": []
    },
    {
      "cell_type": "markdown",
      "source": [
        "# Custom pytree nodes"
      ],
      "metadata": {
        "id": "uJGcF7Adc_gC"
      }
    },
    {
      "cell_type": "markdown",
      "source": [
        "This section explains how in JAX you can extend the set of Python types that will be considered internal nodes in pytrees (pytree nodes) by using jax.tree_util.register_pytree_node() with jax.tree.map().\n",
        "\n",
        "Why would you need this? In the previous examples, pytrees were shown as lists, tuples, and dicts, with everything else as pytree leaves. This is because if you define your own container class, it will be considered to be a pytree leaf unless you register it with JAX. This is also the case even if your container class has trees inside it. For example:"
      ],
      "metadata": {
        "id": "BI92f7onhqgQ"
      }
    },
    {
      "cell_type": "code",
      "source": [
        "class Special(object):\n",
        "  def __init__(self, x, y):\n",
        "    self.x = x\n",
        "    self.y = y\n",
        "\n",
        "jax.tree.leaves([\n",
        "    Special(0, 1),\n",
        "    Special(2, 4),\n",
        "])"
      ],
      "metadata": {
        "colab": {
          "base_uri": "https://localhost:8080/"
        },
        "id": "o14Zzjmeh5Uo",
        "outputId": "6923103e-3c3f-4cbd-8a6e-9cf4e0994b42"
      },
      "execution_count": 34,
      "outputs": [
        {
          "output_type": "execute_result",
          "data": {
            "text/plain": [
              "[<__main__.Special at 0x7f9cd8eef810>, <__main__.Special at 0x7f9cf0f6ff10>]"
            ]
          },
          "metadata": {},
          "execution_count": 34
        }
      ]
    },
    {
      "cell_type": "markdown",
      "source": [
        "Accordingly, if you try to use a jax.tree.map() expecting the leaves to be elements inside the container, you will get an error:"
      ],
      "metadata": {
        "id": "kr6zsimIiGQg"
      }
    },
    {
      "cell_type": "code",
      "source": [
        "jax.tree.map(lambda x: x + 1,\n",
        "  [\n",
        "    Special(0, 1),\n",
        "    Special(2, 4)\n",
        "  ])"
      ],
      "metadata": {
        "colab": {
          "base_uri": "https://localhost:8080/",
          "height": 379
        },
        "id": "wjv5txVhiGwX",
        "outputId": "ff66d0bf-a0fa-44f9-a99a-551928db2f17"
      },
      "execution_count": 35,
      "outputs": [
        {
          "output_type": "error",
          "ename": "TypeError",
          "evalue": "unsupported operand type(s) for +: 'Special' and 'int'",
          "traceback": [
            "\u001b[0;31m---------------------------------------------------------------------------\u001b[0m",
            "\u001b[0;31mTypeError\u001b[0m                                 Traceback (most recent call last)",
            "\u001b[0;32m/tmp/ipython-input-35-454883283.py\u001b[0m in \u001b[0;36m<cell line: 0>\u001b[0;34m()\u001b[0m\n\u001b[0;32m----> 1\u001b[0;31m jax.tree.map(lambda x: x + 1,\n\u001b[0m\u001b[1;32m      2\u001b[0m   [\n\u001b[1;32m      3\u001b[0m     \u001b[0mSpecial\u001b[0m\u001b[0;34m(\u001b[0m\u001b[0;36m0\u001b[0m\u001b[0;34m,\u001b[0m \u001b[0;36m1\u001b[0m\u001b[0;34m)\u001b[0m\u001b[0;34m,\u001b[0m\u001b[0;34m\u001b[0m\u001b[0;34m\u001b[0m\u001b[0m\n\u001b[1;32m      4\u001b[0m     \u001b[0mSpecial\u001b[0m\u001b[0;34m(\u001b[0m\u001b[0;36m2\u001b[0m\u001b[0;34m,\u001b[0m \u001b[0;36m4\u001b[0m\u001b[0;34m)\u001b[0m\u001b[0;34m\u001b[0m\u001b[0;34m\u001b[0m\u001b[0m\n\u001b[1;32m      5\u001b[0m   ])\n",
            "\u001b[0;32m/usr/local/lib/python3.11/dist-packages/jax/_src/tree.py\u001b[0m in \u001b[0;36mmap\u001b[0;34m(f, tree, is_leaf, *rest)\u001b[0m\n\u001b[1;32m    153\u001b[0m     \u001b[0;34m-\u001b[0m \u001b[0;34m:\u001b[0m\u001b[0mfunc\u001b[0m\u001b[0;34m:\u001b[0m\u001b[0;31m`\u001b[0m\u001b[0mjax\u001b[0m\u001b[0;34m.\u001b[0m\u001b[0mtree\u001b[0m\u001b[0;34m.\u001b[0m\u001b[0mreduce\u001b[0m\u001b[0;31m`\u001b[0m\u001b[0;34m\u001b[0m\u001b[0;34m\u001b[0m\u001b[0m\n\u001b[1;32m    154\u001b[0m   \"\"\"\n\u001b[0;32m--> 155\u001b[0;31m   \u001b[0;32mreturn\u001b[0m \u001b[0mtree_util\u001b[0m\u001b[0;34m.\u001b[0m\u001b[0mtree_map\u001b[0m\u001b[0;34m(\u001b[0m\u001b[0mf\u001b[0m\u001b[0;34m,\u001b[0m \u001b[0mtree\u001b[0m\u001b[0;34m,\u001b[0m \u001b[0;34m*\u001b[0m\u001b[0mrest\u001b[0m\u001b[0;34m,\u001b[0m \u001b[0mis_leaf\u001b[0m\u001b[0;34m=\u001b[0m\u001b[0mis_leaf\u001b[0m\u001b[0;34m)\u001b[0m\u001b[0;34m\u001b[0m\u001b[0;34m\u001b[0m\u001b[0m\n\u001b[0m\u001b[1;32m    156\u001b[0m \u001b[0;34m\u001b[0m\u001b[0m\n\u001b[1;32m    157\u001b[0m \u001b[0;34m\u001b[0m\u001b[0m\n",
            "\u001b[0;32m/usr/local/lib/python3.11/dist-packages/jax/_src/tree_util.py\u001b[0m in \u001b[0;36mtree_map\u001b[0;34m(f, tree, is_leaf, *rest)\u001b[0m\n\u001b[1;32m    356\u001b[0m   \u001b[0mleaves\u001b[0m\u001b[0;34m,\u001b[0m \u001b[0mtreedef\u001b[0m \u001b[0;34m=\u001b[0m \u001b[0mtree_flatten\u001b[0m\u001b[0;34m(\u001b[0m\u001b[0mtree\u001b[0m\u001b[0;34m,\u001b[0m \u001b[0mis_leaf\u001b[0m\u001b[0;34m)\u001b[0m\u001b[0;34m\u001b[0m\u001b[0;34m\u001b[0m\u001b[0m\n\u001b[1;32m    357\u001b[0m   \u001b[0mall_leaves\u001b[0m \u001b[0;34m=\u001b[0m \u001b[0;34m[\u001b[0m\u001b[0mleaves\u001b[0m\u001b[0;34m]\u001b[0m \u001b[0;34m+\u001b[0m \u001b[0;34m[\u001b[0m\u001b[0mtreedef\u001b[0m\u001b[0;34m.\u001b[0m\u001b[0mflatten_up_to\u001b[0m\u001b[0;34m(\u001b[0m\u001b[0mr\u001b[0m\u001b[0;34m)\u001b[0m \u001b[0;32mfor\u001b[0m \u001b[0mr\u001b[0m \u001b[0;32min\u001b[0m \u001b[0mrest\u001b[0m\u001b[0;34m]\u001b[0m\u001b[0;34m\u001b[0m\u001b[0;34m\u001b[0m\u001b[0m\n\u001b[0;32m--> 358\u001b[0;31m   \u001b[0;32mreturn\u001b[0m \u001b[0mtreedef\u001b[0m\u001b[0;34m.\u001b[0m\u001b[0munflatten\u001b[0m\u001b[0;34m(\u001b[0m\u001b[0mf\u001b[0m\u001b[0;34m(\u001b[0m\u001b[0;34m*\u001b[0m\u001b[0mxs\u001b[0m\u001b[0;34m)\u001b[0m \u001b[0;32mfor\u001b[0m \u001b[0mxs\u001b[0m \u001b[0;32min\u001b[0m \u001b[0mzip\u001b[0m\u001b[0;34m(\u001b[0m\u001b[0;34m*\u001b[0m\u001b[0mall_leaves\u001b[0m\u001b[0;34m)\u001b[0m\u001b[0;34m)\u001b[0m\u001b[0;34m\u001b[0m\u001b[0;34m\u001b[0m\u001b[0m\n\u001b[0m\u001b[1;32m    359\u001b[0m \u001b[0;34m\u001b[0m\u001b[0m\n\u001b[1;32m    360\u001b[0m \u001b[0;34m\u001b[0m\u001b[0m\n",
            "\u001b[0;32m/usr/local/lib/python3.11/dist-packages/jax/_src/tree_util.py\u001b[0m in \u001b[0;36m<genexpr>\u001b[0;34m(.0)\u001b[0m\n\u001b[1;32m    356\u001b[0m   \u001b[0mleaves\u001b[0m\u001b[0;34m,\u001b[0m \u001b[0mtreedef\u001b[0m \u001b[0;34m=\u001b[0m \u001b[0mtree_flatten\u001b[0m\u001b[0;34m(\u001b[0m\u001b[0mtree\u001b[0m\u001b[0;34m,\u001b[0m \u001b[0mis_leaf\u001b[0m\u001b[0;34m)\u001b[0m\u001b[0;34m\u001b[0m\u001b[0;34m\u001b[0m\u001b[0m\n\u001b[1;32m    357\u001b[0m   \u001b[0mall_leaves\u001b[0m \u001b[0;34m=\u001b[0m \u001b[0;34m[\u001b[0m\u001b[0mleaves\u001b[0m\u001b[0;34m]\u001b[0m \u001b[0;34m+\u001b[0m \u001b[0;34m[\u001b[0m\u001b[0mtreedef\u001b[0m\u001b[0;34m.\u001b[0m\u001b[0mflatten_up_to\u001b[0m\u001b[0;34m(\u001b[0m\u001b[0mr\u001b[0m\u001b[0;34m)\u001b[0m \u001b[0;32mfor\u001b[0m \u001b[0mr\u001b[0m \u001b[0;32min\u001b[0m \u001b[0mrest\u001b[0m\u001b[0;34m]\u001b[0m\u001b[0;34m\u001b[0m\u001b[0;34m\u001b[0m\u001b[0m\n\u001b[0;32m--> 358\u001b[0;31m   \u001b[0;32mreturn\u001b[0m \u001b[0mtreedef\u001b[0m\u001b[0;34m.\u001b[0m\u001b[0munflatten\u001b[0m\u001b[0;34m(\u001b[0m\u001b[0mf\u001b[0m\u001b[0;34m(\u001b[0m\u001b[0;34m*\u001b[0m\u001b[0mxs\u001b[0m\u001b[0;34m)\u001b[0m \u001b[0;32mfor\u001b[0m \u001b[0mxs\u001b[0m \u001b[0;32min\u001b[0m \u001b[0mzip\u001b[0m\u001b[0;34m(\u001b[0m\u001b[0;34m*\u001b[0m\u001b[0mall_leaves\u001b[0m\u001b[0;34m)\u001b[0m\u001b[0;34m)\u001b[0m\u001b[0;34m\u001b[0m\u001b[0;34m\u001b[0m\u001b[0m\n\u001b[0m\u001b[1;32m    359\u001b[0m \u001b[0;34m\u001b[0m\u001b[0m\n\u001b[1;32m    360\u001b[0m \u001b[0;34m\u001b[0m\u001b[0m\n",
            "\u001b[0;32m/tmp/ipython-input-35-454883283.py\u001b[0m in \u001b[0;36m<lambda>\u001b[0;34m(x)\u001b[0m\n\u001b[0;32m----> 1\u001b[0;31m jax.tree.map(lambda x: x + 1,\n\u001b[0m\u001b[1;32m      2\u001b[0m   [\n\u001b[1;32m      3\u001b[0m     \u001b[0mSpecial\u001b[0m\u001b[0;34m(\u001b[0m\u001b[0;36m0\u001b[0m\u001b[0;34m,\u001b[0m \u001b[0;36m1\u001b[0m\u001b[0;34m)\u001b[0m\u001b[0;34m,\u001b[0m\u001b[0;34m\u001b[0m\u001b[0;34m\u001b[0m\u001b[0m\n\u001b[1;32m      4\u001b[0m     \u001b[0mSpecial\u001b[0m\u001b[0;34m(\u001b[0m\u001b[0;36m2\u001b[0m\u001b[0;34m,\u001b[0m \u001b[0;36m4\u001b[0m\u001b[0;34m)\u001b[0m\u001b[0;34m\u001b[0m\u001b[0;34m\u001b[0m\u001b[0m\n\u001b[1;32m      5\u001b[0m   ])\n",
            "\u001b[0;31mTypeError\u001b[0m: unsupported operand type(s) for +: 'Special' and 'int'"
          ]
        }
      ]
    },
    {
      "cell_type": "markdown",
      "source": [
        "As a solution, JAX allows to extend the set of types to be considered internal pytree nodes through a global registry of types. Additionally, the values of registered types are traversed recursively.\n",
        "\n",
        "First, register a new type using jax.tree_util.register_pytree_node():"
      ],
      "metadata": {
        "id": "QCEz4aTSiuxY"
      }
    },
    {
      "cell_type": "code",
      "source": [
        "from jax.tree_util import register_pytree_node\n",
        "\n",
        "class RegisteredSpecial(Special):\n",
        "  def __repr__(self):\n",
        "    return \"RegisteredSpecial(x={}, y={})\".format(self.x, self.y)\n",
        "\n",
        "def special_flatten(v):\n",
        "  \"\"\"Specifies a flattening recipe.\n",
        "\n",
        "  Params:\n",
        "    v: The value of the registered type to flatten.\n",
        "  Returns:\n",
        "    A pair of an iterable with the children to be flattened recursively,\n",
        "    and some opaque auxiliary data to pass back to the unflattening recipe.\n",
        "    The auxiliary data is stored in the treedef for use during unflattening.\n",
        "    The auxiliary data could be used, for example, for dictionary keys.\n",
        "  \"\"\"\n",
        "  children = (v.x, v.y)\n",
        "  aux_data = None\n",
        "  return (children, aux_data)\n",
        "\n",
        "def special_unflatten(aux_data, children):\n",
        "  \"\"\"Specifies an unflattening recipe.\n",
        "\n",
        "  Params:\n",
        "    aux_data: The opaque data that was specified during flattening of the\n",
        "      current tree definition.\n",
        "    children: The unflattened children\n",
        "\n",
        "  Returns:\n",
        "    A reconstructed object of the registered type, using the specified\n",
        "    children and auxiliary data.\n",
        "  \"\"\"\n",
        "  return RegisteredSpecial(*children)\n",
        "\n",
        "# Global registration\n",
        "register_pytree_node(\n",
        "    RegisteredSpecial,\n",
        "    special_flatten,    # Instruct JAX what are the children nodes.\n",
        "    special_unflatten   # Instruct JAX how to pack back into a `RegisteredSpecial`.\n",
        ")"
      ],
      "metadata": {
        "id": "bKNlv-yCivW_"
      },
      "execution_count": 36,
      "outputs": []
    },
    {
      "cell_type": "markdown",
      "source": [
        "Now you can traverse the special container structure:"
      ],
      "metadata": {
        "id": "K4B5j6CnjivH"
      }
    },
    {
      "cell_type": "code",
      "source": [
        "jax.tree.map(lambda x: x + 1,\n",
        "  [\n",
        "   RegisteredSpecial(0, 1),\n",
        "   RegisteredSpecial(2, 4),\n",
        "  ])"
      ],
      "metadata": {
        "colab": {
          "base_uri": "https://localhost:8080/"
        },
        "id": "ECJMESzmjjOn",
        "outputId": "7312b99d-1b88-4532-832d-4414b358278a"
      },
      "execution_count": 37,
      "outputs": [
        {
          "output_type": "execute_result",
          "data": {
            "text/plain": [
              "[RegisteredSpecial(x=1, y=2), RegisteredSpecial(x=3, y=5)]"
            ]
          },
          "metadata": {},
          "execution_count": 37
        }
      ]
    },
    {
      "cell_type": "markdown",
      "source": [
        "Modern Python comes equipped with helpful tools to make defining containers easier. Some will work with JAX out-of-the-box, but others require more care.\n",
        "\n",
        "For instance, a Python NamedTuple subclass doesn’t need to be registered to be considered a pytree node type:"
      ],
      "metadata": {
        "id": "FlzmRW8pjt_f"
      }
    },
    {
      "cell_type": "code",
      "source": [
        "from typing import NamedTuple, Any\n",
        "\n",
        "class MyOtherContainer(NamedTuple):\n",
        "  name: str\n",
        "  a: Any\n",
        "  b: Any\n",
        "  c: Any\n",
        "\n",
        "# NamedTuple subclasses are handled as pytree nodes, so\n",
        "# this will work out-of-the-box.\n",
        "jax.tree.leaves([\n",
        "    MyOtherContainer('Alice', 1, 2, 3),\n",
        "    MyOtherContainer('Bob', 4, 5, 6)\n",
        "])"
      ],
      "metadata": {
        "colab": {
          "base_uri": "https://localhost:8080/"
        },
        "id": "HW2pURcKjuZv",
        "outputId": "7c15ba01-6699-44ae-ec76-ad42b31efce3"
      },
      "execution_count": 38,
      "outputs": [
        {
          "output_type": "execute_result",
          "data": {
            "text/plain": [
              "['Alice', 1, 2, 3, 'Bob', 4, 5, 6]"
            ]
          },
          "metadata": {},
          "execution_count": 38
        }
      ]
    },
    {
      "cell_type": "markdown",
      "source": [
        "Notice that the name field now appears as a leaf, because all tuple elements are children. This is what happens when you don’t have to register the class the hard way.\n",
        "\n",
        "Unlike NamedTuple subclasses, classes decorated with @dataclass are not automatically pytrees. However, they can be registered as pytrees using the jax.tree_util.register_dataclass() decorator:"
      ],
      "metadata": {
        "id": "SZ1-xdXQj-sP"
      }
    },
    {
      "cell_type": "code",
      "source": [
        "from dataclasses import dataclass\n",
        "import functools\n",
        "\n",
        "@functools.partial(jax.tree_util.register_dataclass,\n",
        "                   data_fields=['a', 'b', 'c'],\n",
        "                   meta_fields=['name'])\n",
        "@dataclass\n",
        "class MyDataclassContainer(object):\n",
        "  name: str\n",
        "  a: Any\n",
        "  b: Any\n",
        "  c: Any\n",
        "\n",
        "# MyDataclassContainer is now a pytree node.\n",
        "jax.tree.leaves([\n",
        "  MyDataclassContainer('apple', 5.3, 1.2, jnp.zeros([4])),\n",
        "  MyDataclassContainer('banana', np.array([3, 4]), -1., 0.)\n",
        "])"
      ],
      "metadata": {
        "colab": {
          "base_uri": "https://localhost:8080/"
        },
        "id": "wYJmgdZwkAEo",
        "outputId": "dafb2e43-5628-4612-d39e-578fba7dd835"
      },
      "execution_count": 39,
      "outputs": [
        {
          "output_type": "execute_result",
          "data": {
            "text/plain": [
              "[5.3, 1.2, Array([0., 0., 0., 0.], dtype=float32), array([3, 4]), -1.0, 0.0]"
            ]
          },
          "metadata": {},
          "execution_count": 39
        }
      ]
    },
    {
      "cell_type": "markdown",
      "source": [
        "Notice that the name field does not appear as a leaf. This is because we included it in the meta_fields argument to jax.tree_util.register_dataclass(), indicating that it should be treated as metadata/auxiliary data, just like aux_data in RegisteredSpecial above. Now instances of MyDataclassContainer can be passed into JIT-ed functions, and name will be treated as static (see Marking arguments as static for more information on static args):"
      ],
      "metadata": {
        "id": "2oouXvUkpOe8"
      }
    },
    {
      "cell_type": "code",
      "source": [
        "@jax.jit\n",
        "def f(x: MyDataclassContainer | MyOtherContainer):\n",
        "  return x.a + x.b\n",
        "\n",
        "# Works fine! `mdc.name` is static.\n",
        "mdc = MyDataclassContainer('mdc', 1, 2, 3)\n",
        "y = f(mdc)\n",
        "print(y)\n",
        "print(\"mdc's name:\", mdc.name)"
      ],
      "metadata": {
        "colab": {
          "base_uri": "https://localhost:8080/"
        },
        "id": "H1uB19jkpPu1",
        "outputId": "36bf16d3-07cb-4386-fd27-c6f594fcd4ec"
      },
      "execution_count": 40,
      "outputs": [
        {
          "output_type": "stream",
          "name": "stdout",
          "text": [
            "3\n",
            "mdc's name: mdc\n"
          ]
        }
      ]
    },
    {
      "cell_type": "markdown",
      "source": [
        "Contrast this with MyOtherContainer, the NamedTuple subclass. Since the name field is considered a PyTree leaf, JIT expects every leaf to be convertible to a jax.Array or a device-compatible type. However, the Python string \"name\" field is not a valid type for JAX device operations.\n",
        "\n",
        "When jax.jit is applied to a function that receives this container, the compilation process assumes that all leaves are valid device values, but strings like \"name\" cannot be transferred to or processed by JAX’s computation devices (CPU/GPU/TPU), thus causing an error during JIT compilation."
      ],
      "metadata": {
        "id": "9gCml9JIqVGE"
      }
    },
    {
      "cell_type": "code",
      "source": [
        "moc = MyOtherContainer('moc', 1, 2, 3)\n",
        "y = f(moc)\n",
        "print(y)\n",
        "print(\"moc's name:\", moc.name)"
      ],
      "metadata": {
        "colab": {
          "base_uri": "https://localhost:8080/",
          "height": 411
        },
        "id": "P542CCkOqWQ0",
        "outputId": "2c11af5d-5539-4378-84d2-c4fa4e58e784"
      },
      "execution_count": 41,
      "outputs": [
        {
          "output_type": "error",
          "ename": "TypeError",
          "evalue": "Error interpreting argument to <function f at 0x7f9cd82c5c60> as an abstract array. The problematic value is of type <class 'str'> and was passed to the function at path x.name.\nThis typically means that a jit-wrapped function was called with a non-array argument, and this argument was not marked as static using the static_argnums or static_argnames parameters of jax.jit.",
          "traceback": [
            "\u001b[0;31m---------------------------------------------------------------------------\u001b[0m",
            "\u001b[0;31mTypeError\u001b[0m                                 Traceback (most recent call last)",
            "\u001b[0;32m/tmp/ipython-input-41-408737105.py\u001b[0m in \u001b[0;36m<cell line: 0>\u001b[0;34m()\u001b[0m\n\u001b[1;32m      1\u001b[0m \u001b[0mmoc\u001b[0m \u001b[0;34m=\u001b[0m \u001b[0mMyOtherContainer\u001b[0m\u001b[0;34m(\u001b[0m\u001b[0;34m'moc'\u001b[0m\u001b[0;34m,\u001b[0m \u001b[0;36m1\u001b[0m\u001b[0;34m,\u001b[0m \u001b[0;36m2\u001b[0m\u001b[0;34m,\u001b[0m \u001b[0;36m3\u001b[0m\u001b[0;34m)\u001b[0m\u001b[0;34m\u001b[0m\u001b[0;34m\u001b[0m\u001b[0m\n\u001b[0;32m----> 2\u001b[0;31m \u001b[0my\u001b[0m \u001b[0;34m=\u001b[0m \u001b[0mf\u001b[0m\u001b[0;34m(\u001b[0m\u001b[0mmoc\u001b[0m\u001b[0;34m)\u001b[0m\u001b[0;34m\u001b[0m\u001b[0;34m\u001b[0m\u001b[0m\n\u001b[0m\u001b[1;32m      3\u001b[0m \u001b[0mprint\u001b[0m\u001b[0;34m(\u001b[0m\u001b[0my\u001b[0m\u001b[0;34m)\u001b[0m\u001b[0;34m\u001b[0m\u001b[0;34m\u001b[0m\u001b[0m\n\u001b[1;32m      4\u001b[0m \u001b[0mprint\u001b[0m\u001b[0;34m(\u001b[0m\u001b[0;34m\"moc's name:\"\u001b[0m\u001b[0;34m,\u001b[0m \u001b[0mmoc\u001b[0m\u001b[0;34m.\u001b[0m\u001b[0mname\u001b[0m\u001b[0;34m)\u001b[0m\u001b[0;34m\u001b[0m\u001b[0;34m\u001b[0m\u001b[0m\n",
            "    \u001b[0;31m[... skipping hidden 4 frame]\u001b[0m\n",
            "\u001b[0;32m/usr/local/lib/python3.11/dist-packages/jax/_src/pjit.py\u001b[0m in \u001b[0;36m_infer_input_type\u001b[0;34m(fun, dbg, explicit_args)\u001b[0m\n\u001b[1;32m    749\u001b[0m   \u001b[0;32mexcept\u001b[0m \u001b[0mTypeError\u001b[0m\u001b[0;34m:\u001b[0m\u001b[0;34m\u001b[0m\u001b[0;34m\u001b[0m\u001b[0m\n\u001b[1;32m    750\u001b[0m     \u001b[0marg_description\u001b[0m \u001b[0;34m=\u001b[0m \u001b[0;34mf\"path {dbg.arg_names[i]}\"\u001b[0m  \u001b[0;31m# type: ignore\u001b[0m\u001b[0;34m\u001b[0m\u001b[0;34m\u001b[0m\u001b[0m\n\u001b[0;32m--> 751\u001b[0;31m     raise TypeError(\n\u001b[0m\u001b[1;32m    752\u001b[0m       \u001b[0;34mf\"Error interpreting argument to {fun} as an abstract array.\"\u001b[0m\u001b[0;34m\u001b[0m\u001b[0;34m\u001b[0m\u001b[0m\n\u001b[1;32m    753\u001b[0m       \u001b[0;34mf\" The problematic value is of type {type(x)} and was passed to\"\u001b[0m\u001b[0;34m\u001b[0m\u001b[0;34m\u001b[0m\u001b[0m\n",
            "\u001b[0;31mTypeError\u001b[0m: Error interpreting argument to <function f at 0x7f9cd82c5c60> as an abstract array. The problematic value is of type <class 'str'> and was passed to the function at path x.name.\nThis typically means that a jit-wrapped function was called with a non-array argument, and this argument was not marked as static using the static_argnums or static_argnames parameters of jax.jit."
          ]
        }
      ]
    },
    {
      "cell_type": "markdown",
      "source": [
        "# Pytrees and JAX transformations"
      ],
      "metadata": {
        "id": "dwTG1QzVuBTb"
      }
    },
    {
      "cell_type": "markdown",
      "source": [
        "Many JAX functions, like jax.lax.scan(), operate over pytrees of arrays. In addition, all JAX function transformations can be applied to functions that accept as input and produce as output pytrees of arrays.\n",
        "\n",
        "Some JAX function transformations take optional parameters that specify how certain input or output values should be treated (such as the in_axes and out_axes arguments to jax.vmap()). These parameters can also be pytrees, and their structure must correspond to the pytree structure of the corresponding arguments. In particular, to be able to “match up” leaves in these parameter pytrees with values in the argument pytrees, the parameter pytrees are often constrained to be tree prefixes of the argument pytrees.\n",
        "\n",
        "For example, if you pass the following input to jax.vmap() (note that the input arguments to a function are considered a tuple):"
      ],
      "metadata": {
        "id": "Fpxi0oo1uEri"
      }
    },
    {
      "cell_type": "code",
      "source": [
        "# This part cannot be run\n",
        "vmap(f, in_axes=(a1, {\"k1\": a2, \"k2\": a3}))"
      ],
      "metadata": {
        "id": "M-lkb6ej_iDL"
      },
      "execution_count": null,
      "outputs": []
    },
    {
      "cell_type": "markdown",
      "source": [
        "then you can use the following in_axes pytree to specify that only the k2 argument is mapped (axis=0), and the rest aren’t mapped over (axis=None):"
      ],
      "metadata": {
        "id": "fEK8SPzmLVTf"
      }
    },
    {
      "cell_type": "code",
      "source": [
        "vmap(f, in_axes=(None, {\"k1\": None, \"k2\": 0}))"
      ],
      "metadata": {
        "id": "AudANGCVLWm3"
      },
      "execution_count": null,
      "outputs": []
    },
    {
      "cell_type": "markdown",
      "source": [
        "The optional parameter pytree structure must match that of the main input pytree. However, the optional parameters can optionally be specified as a “prefix” pytree, meaning that a single leaf value can be applied to an entire sub-pytree.\n",
        "\n",
        "For example, if you have the same jax.vmap() input as above, but wish to only map over the dictionary argument, you can use:"
      ],
      "metadata": {
        "id": "h3hwfE4YLZZV"
      }
    },
    {
      "cell_type": "code",
      "source": [
        "vmap(f, in_axes=(None, 0))  # equivalent to (None, {\"k1\": 0, \"k2\": 0})"
      ],
      "metadata": {
        "id": "V_SSBbJsLaCm"
      },
      "execution_count": null,
      "outputs": []
    },
    {
      "cell_type": "markdown",
      "source": [
        "Alternatively, if you want every argument to be mapped, you can write a single leaf value that is applied over the entire argument tuple pytree:"
      ],
      "metadata": {
        "id": "GR2GJM1hLcP2"
      }
    },
    {
      "cell_type": "code",
      "source": [
        "vmap(f, in_axes=0)  # equivalent to (0, {\"k1\": 0, \"k2\": 0})"
      ],
      "metadata": {
        "id": "K44jjlhgLdPt"
      },
      "execution_count": null,
      "outputs": []
    },
    {
      "cell_type": "markdown",
      "source": [
        "This happens to be the default in_axes value for jax.vmap().\n",
        "\n",
        "The same logic applies to other optional parameters that refer to specific input or output values of a transformed function, such as out_axes in jax.vmap()."
      ],
      "metadata": {
        "id": "T4HPupS1LeiW"
      }
    },
    {
      "cell_type": "markdown",
      "source": [
        "# Explicit key paths"
      ],
      "metadata": {
        "id": "Q0DbvczVLgXe"
      }
    },
    {
      "cell_type": "markdown",
      "source": [
        "In a pytree each leaf has a key path. A key path for a leaf is a list of keys, where the length of the list is equal to the depth of the leaf in the pytree . Each key is a hashable object that represents an index into the corresponding pytree node type. The type of the key depends on the pytree node type; for example, the type of keys for dicts is different from the type of keys for tuples.\n",
        "\n",
        "For built-in pytree node types, the set of keys for any pytree node instance is unique. For a pytree comprising nodes with this property, the key path for each leaf is unique.\n",
        "\n",
        "JAX has the following jax.tree_util.* methods for working with key paths:\n",
        "\n",
        "1. jax.tree_util.tree_flatten_with_path(): Works similarly to jax.tree.flatten(), but returns key paths.\n",
        "\n",
        "2. jax.tree_util.tree_map_with_path(): Works similarly to jax.tree.map(), but the function also takes key paths as arguments.\n",
        "\n",
        "3. jax.tree_util.keystr(): Given a general key path, returns a reader-friendly string expression.\n",
        "\n",
        "For example, one use case is to print debugging information related to a certain leaf value:"
      ],
      "metadata": {
        "id": "kXBDEGmxLjE2"
      }
    },
    {
      "cell_type": "code",
      "source": [
        "import collections\n",
        "\n",
        "ATuple = collections.namedtuple(\"ATuple\", ('name'))\n",
        "\n",
        "tree = [1, {'k1': 2, 'k2': (3, 4)}, ATuple('foo')]\n",
        "flattened, _ = jax.tree_util.tree_flatten_with_path(tree)\n",
        "\n",
        "for key_path, value in flattened:\n",
        "  print(f'Value of tree{jax.tree_util.keystr(key_path)}: {value}')"
      ],
      "metadata": {
        "colab": {
          "base_uri": "https://localhost:8080/"
        },
        "id": "K4ySI1IfLneV",
        "outputId": "9210087e-8e84-495a-830b-44e70dab5098"
      },
      "execution_count": 45,
      "outputs": [
        {
          "output_type": "stream",
          "name": "stdout",
          "text": [
            "Value of tree[0]: 1\n",
            "Value of tree[1]['k1']: 2\n",
            "Value of tree[1]['k2'][0]: 3\n",
            "Value of tree[1]['k2'][1]: 4\n",
            "Value of tree[2].name: foo\n"
          ]
        }
      ]
    },
    {
      "cell_type": "markdown",
      "source": [
        "To express key paths, JAX provides a few default key types for the built-in pytree node types, namely:\n",
        "\n",
        "1. SequenceKey(idx: int): For lists and tuples.\n",
        "\n",
        "2. DictKey(key: Hashable): For dictionaries.\n",
        "\n",
        "3. GetAttrKey(name: str): For namedtuples and preferably custom pytree nodes (more in the next section)\n",
        "\n",
        "You are free to define your own key types for your custom nodes. They will work with jax.tree_util.keystr() as long as their __str__() method is also overridden with a reader-friendly expression."
      ],
      "metadata": {
        "id": "QHLDqO7iSyUS"
      }
    },
    {
      "cell_type": "code",
      "source": [
        "for key_path, _ in flattened:\n",
        "  print(f'Key path of tree{jax.tree_util.keystr(key_path)}: {repr(key_path)}')"
      ],
      "metadata": {
        "colab": {
          "base_uri": "https://localhost:8080/"
        },
        "id": "oncJNeruSzbr",
        "outputId": "09bce983-7e02-4c73-f5f0-474067d995d5"
      },
      "execution_count": 46,
      "outputs": [
        {
          "output_type": "stream",
          "name": "stdout",
          "text": [
            "Key path of tree[0]: (SequenceKey(idx=0),)\n",
            "Key path of tree[1]['k1']: (SequenceKey(idx=1), DictKey(key='k1'))\n",
            "Key path of tree[1]['k2'][0]: (SequenceKey(idx=1), DictKey(key='k2'), SequenceKey(idx=0))\n",
            "Key path of tree[1]['k2'][1]: (SequenceKey(idx=1), DictKey(key='k2'), SequenceKey(idx=1))\n",
            "Key path of tree[2].name: (SequenceKey(idx=2), GetAttrKey(name='name'))\n"
          ]
        }
      ]
    },
    {
      "cell_type": "markdown",
      "source": [
        "# Common pytree gotchas"
      ],
      "metadata": {
        "id": "WdKWtUl-UkUb"
      }
    },
    {
      "cell_type": "markdown",
      "source": [
        "## Mistaking pytree nodes for leaves"
      ],
      "metadata": {
        "id": "o_WfD9VVUrhT"
      }
    },
    {
      "cell_type": "markdown",
      "source": [
        "A common gotcha to look out for is accidentally introducing tree nodes instead of leaves:"
      ],
      "metadata": {
        "id": "vCtyStzOUugi"
      }
    },
    {
      "cell_type": "code",
      "source": [
        "a_tree = [jnp.zeros((2, 3)), jnp.zeros((3, 4))]\n",
        "\n",
        "# Try to make another pytree with ones instead of zeros.\n",
        "shapes = jax.tree.map(lambda x: x.shape, a_tree)\n",
        "jax.tree.map(jnp.ones, shapes)"
      ],
      "metadata": {
        "colab": {
          "base_uri": "https://localhost:8080/"
        },
        "id": "a40ULmwdUwTq",
        "outputId": "0e7852a6-142d-4d92-98f5-1e2a97629e06"
      },
      "execution_count": 47,
      "outputs": [
        {
          "output_type": "execute_result",
          "data": {
            "text/plain": [
              "[(Array([1., 1.], dtype=float32), Array([1., 1., 1.], dtype=float32)),\n",
              " (Array([1., 1., 1.], dtype=float32), Array([1., 1., 1., 1.], dtype=float32))]"
            ]
          },
          "metadata": {},
          "execution_count": 47
        }
      ]
    },
    {
      "cell_type": "markdown",
      "source": [
        "What happened here is that the shape of an array is a tuple, which is a pytree node, with its elements as leaves. Thus, in the map, instead of calling jnp.ones on e.g. (2, 3), it’s called on 2 and 3.\n",
        "\n",
        "The solution will depend on the specifics, but there are two broadly applicable options:\n",
        "\n",
        "Rewrite the code to avoid the intermediate jax.tree.map().\n",
        "\n",
        "Convert the tuple into a NumPy array (np.array) or a JAX NumPy array (jnp.array), which makes the entire sequence a leaf."
      ],
      "metadata": {
        "id": "MU59bCbFaKuA"
      }
    },
    {
      "cell_type": "markdown",
      "source": [
        "## Handling of None by jax.tree_util"
      ],
      "metadata": {
        "id": "vzDcnjj8aMfJ"
      }
    },
    {
      "cell_type": "markdown",
      "source": [
        "jax.tree_util functions treat None as the absence of a pytree node, not as a leaf:"
      ],
      "metadata": {
        "id": "zhGd_sP4aQu4"
      }
    },
    {
      "cell_type": "code",
      "source": [
        "jax.tree.leaves([None, None, None])"
      ],
      "metadata": {
        "colab": {
          "base_uri": "https://localhost:8080/"
        },
        "id": "c6LEiJUqaR2R",
        "outputId": "c827378e-df5f-4bc9-9a6e-dbb6557df9ef"
      },
      "execution_count": 48,
      "outputs": [
        {
          "output_type": "execute_result",
          "data": {
            "text/plain": [
              "[]"
            ]
          },
          "metadata": {},
          "execution_count": 48
        }
      ]
    },
    {
      "cell_type": "markdown",
      "source": [
        "To treat None as a leaf, you can use the is_leaf argument:"
      ],
      "metadata": {
        "id": "fI_kXPCdaUGw"
      }
    },
    {
      "cell_type": "code",
      "source": [
        "jax.tree.leaves([None, None, None], is_leaf=lambda x: x is None)"
      ],
      "metadata": {
        "colab": {
          "base_uri": "https://localhost:8080/"
        },
        "id": "vZWh5aT8aVWI",
        "outputId": "7a448f63-adbb-4fe6-e279-778ac832e0fb"
      },
      "execution_count": 49,
      "outputs": [
        {
          "output_type": "execute_result",
          "data": {
            "text/plain": [
              "[None, None, None]"
            ]
          },
          "metadata": {},
          "execution_count": 49
        }
      ]
    },
    {
      "cell_type": "markdown",
      "source": [
        "## Custom pytrees and initialization with unexpected values"
      ],
      "metadata": {
        "id": "lLKaVnPic15X"
      }
    },
    {
      "cell_type": "markdown",
      "source": [
        "Another common gotcha with user-defined pytree objects is that JAX transformations occasionally initialize them with unexpected values, so that any input validation done at initialization may fail. For example:"
      ],
      "metadata": {
        "id": "4TtsIvnkc3yu"
      }
    },
    {
      "cell_type": "code",
      "source": [
        "class MyTree:\n",
        "  def __init__(self, a):\n",
        "    self.a = jnp.asarray(a)\n",
        "\n",
        "register_pytree_node(MyTree, lambda tree: ((tree.a,), None),\n",
        "    lambda _, args: MyTree(*args))\n",
        "\n",
        "tree = MyTree(jnp.arange(5.0))\n",
        "\n",
        "jax.vmap(lambda x: x)(tree)      # Error because object() is passed to `MyTree`."
      ],
      "metadata": {
        "colab": {
          "base_uri": "https://localhost:8080/",
          "height": 603
        },
        "id": "uUqkkVrHc4yv",
        "outputId": "e2b307df-dabc-410e-a82e-cbb803323627"
      },
      "execution_count": 50,
      "outputs": [
        {
          "output_type": "error",
          "ename": "TypeError",
          "evalue": "Value '<object object at 0x7f9cf13d9aa0>' with dtype object is not a valid JAX array type. Only arrays of numeric types are supported by JAX.",
          "traceback": [
            "\u001b[0;31m---------------------------------------------------------------------------\u001b[0m",
            "\u001b[0;31mTypeError\u001b[0m                                 Traceback (most recent call last)",
            "\u001b[0;32m/usr/local/lib/python3.11/dist-packages/jax/_src/dtypes.py\u001b[0m in \u001b[0;36mdtype\u001b[0;34m(x, canonicalize)\u001b[0m\n\u001b[1;32m    828\u001b[0m     \u001b[0;32mtry\u001b[0m\u001b[0;34m:\u001b[0m\u001b[0;34m\u001b[0m\u001b[0;34m\u001b[0m\u001b[0m\n\u001b[0;32m--> 829\u001b[0;31m       \u001b[0mdt\u001b[0m \u001b[0;34m=\u001b[0m \u001b[0mnp\u001b[0m\u001b[0;34m.\u001b[0m\u001b[0mresult_type\u001b[0m\u001b[0;34m(\u001b[0m\u001b[0mx\u001b[0m\u001b[0;34m)\u001b[0m\u001b[0;34m\u001b[0m\u001b[0;34m\u001b[0m\u001b[0m\n\u001b[0m\u001b[1;32m    830\u001b[0m     \u001b[0;32mexcept\u001b[0m \u001b[0mTypeError\u001b[0m \u001b[0;32mas\u001b[0m \u001b[0merr\u001b[0m\u001b[0;34m:\u001b[0m\u001b[0;34m\u001b[0m\u001b[0;34m\u001b[0m\u001b[0m\n",
            "\u001b[0;31mTypeError\u001b[0m: Cannot interpret '<object object at 0x7f9cf13d9aa0>' as a data type",
            "\nThe above exception was the direct cause of the following exception:\n",
            "\u001b[0;31mTypeError\u001b[0m                                 Traceback (most recent call last)",
            "\u001b[0;32m/usr/local/lib/python3.11/dist-packages/jax/_src/numpy/lax_numpy.py\u001b[0m in \u001b[0;36marray\u001b[0;34m(object, dtype, copy, order, ndmin, device)\u001b[0m\n\u001b[1;32m   5533\u001b[0m     \u001b[0;32mtry\u001b[0m\u001b[0;34m:\u001b[0m\u001b[0;34m\u001b[0m\u001b[0;34m\u001b[0m\u001b[0m\n\u001b[0;32m-> 5534\u001b[0;31m       \u001b[0mdtype\u001b[0m \u001b[0;34m=\u001b[0m \u001b[0mdtypes\u001b[0m\u001b[0;34m.\u001b[0m\u001b[0m_lattice_result_type\u001b[0m\u001b[0;34m(\u001b[0m\u001b[0;34m*\u001b[0m\u001b[0mleaves\u001b[0m\u001b[0;34m)\u001b[0m\u001b[0;34m[\u001b[0m\u001b[0;36m0\u001b[0m\u001b[0;34m]\u001b[0m \u001b[0;32mif\u001b[0m \u001b[0mleaves\u001b[0m \u001b[0;32melse\u001b[0m \u001b[0mdtypes\u001b[0m\u001b[0;34m.\u001b[0m\u001b[0mfloat_\u001b[0m\u001b[0;34m\u001b[0m\u001b[0;34m\u001b[0m\u001b[0m\n\u001b[0m\u001b[1;32m   5535\u001b[0m     \u001b[0;32mexcept\u001b[0m \u001b[0mTypeError\u001b[0m\u001b[0;34m:\u001b[0m\u001b[0;34m\u001b[0m\u001b[0;34m\u001b[0m\u001b[0m\n",
            "\u001b[0;32m/usr/local/lib/python3.11/dist-packages/jax/_src/dtypes.py\u001b[0m in \u001b[0;36m_lattice_result_type\u001b[0;34m(*args)\u001b[0m\n\u001b[1;32m    838\u001b[0m \u001b[0;32mdef\u001b[0m \u001b[0m_lattice_result_type\u001b[0m\u001b[0;34m(\u001b[0m\u001b[0;34m*\u001b[0m\u001b[0margs\u001b[0m\u001b[0;34m:\u001b[0m \u001b[0mAny\u001b[0m\u001b[0;34m)\u001b[0m \u001b[0;34m->\u001b[0m \u001b[0mtuple\u001b[0m\u001b[0;34m[\u001b[0m\u001b[0mDType\u001b[0m\u001b[0;34m,\u001b[0m \u001b[0mbool\u001b[0m\u001b[0;34m]\u001b[0m\u001b[0;34m:\u001b[0m\u001b[0;34m\u001b[0m\u001b[0;34m\u001b[0m\u001b[0m\n\u001b[0;32m--> 839\u001b[0;31m   \u001b[0mdtypes\u001b[0m\u001b[0;34m,\u001b[0m \u001b[0mweak_types\u001b[0m \u001b[0;34m=\u001b[0m \u001b[0mzip\u001b[0m\u001b[0;34m(\u001b[0m\u001b[0;34m*\u001b[0m\u001b[0;34m(\u001b[0m\u001b[0m_dtype_and_weaktype\u001b[0m\u001b[0;34m(\u001b[0m\u001b[0marg\u001b[0m\u001b[0;34m)\u001b[0m \u001b[0;32mfor\u001b[0m \u001b[0marg\u001b[0m \u001b[0;32min\u001b[0m \u001b[0margs\u001b[0m\u001b[0;34m)\u001b[0m\u001b[0;34m)\u001b[0m\u001b[0;34m\u001b[0m\u001b[0;34m\u001b[0m\u001b[0m\n\u001b[0m\u001b[1;32m    840\u001b[0m   \u001b[0;32mif\u001b[0m \u001b[0mlen\u001b[0m\u001b[0;34m(\u001b[0m\u001b[0mdtypes\u001b[0m\u001b[0;34m)\u001b[0m \u001b[0;34m==\u001b[0m \u001b[0;36m1\u001b[0m\u001b[0;34m:\u001b[0m\u001b[0;34m\u001b[0m\u001b[0;34m\u001b[0m\u001b[0m\n",
            "\u001b[0;32m/usr/local/lib/python3.11/dist-packages/jax/_src/dtypes.py\u001b[0m in \u001b[0;36m<genexpr>\u001b[0;34m(.0)\u001b[0m\n\u001b[1;32m    838\u001b[0m \u001b[0;32mdef\u001b[0m \u001b[0m_lattice_result_type\u001b[0m\u001b[0;34m(\u001b[0m\u001b[0;34m*\u001b[0m\u001b[0margs\u001b[0m\u001b[0;34m:\u001b[0m \u001b[0mAny\u001b[0m\u001b[0;34m)\u001b[0m \u001b[0;34m->\u001b[0m \u001b[0mtuple\u001b[0m\u001b[0;34m[\u001b[0m\u001b[0mDType\u001b[0m\u001b[0;34m,\u001b[0m \u001b[0mbool\u001b[0m\u001b[0;34m]\u001b[0m\u001b[0;34m:\u001b[0m\u001b[0;34m\u001b[0m\u001b[0;34m\u001b[0m\u001b[0m\n\u001b[0;32m--> 839\u001b[0;31m   \u001b[0mdtypes\u001b[0m\u001b[0;34m,\u001b[0m \u001b[0mweak_types\u001b[0m \u001b[0;34m=\u001b[0m \u001b[0mzip\u001b[0m\u001b[0;34m(\u001b[0m\u001b[0;34m*\u001b[0m\u001b[0;34m(\u001b[0m\u001b[0m_dtype_and_weaktype\u001b[0m\u001b[0;34m(\u001b[0m\u001b[0marg\u001b[0m\u001b[0;34m)\u001b[0m \u001b[0;32mfor\u001b[0m \u001b[0marg\u001b[0m \u001b[0;32min\u001b[0m \u001b[0margs\u001b[0m\u001b[0;34m)\u001b[0m\u001b[0;34m)\u001b[0m\u001b[0;34m\u001b[0m\u001b[0;34m\u001b[0m\u001b[0m\n\u001b[0m\u001b[1;32m    840\u001b[0m   \u001b[0;32mif\u001b[0m \u001b[0mlen\u001b[0m\u001b[0;34m(\u001b[0m\u001b[0mdtypes\u001b[0m\u001b[0;34m)\u001b[0m \u001b[0;34m==\u001b[0m \u001b[0;36m1\u001b[0m\u001b[0;34m:\u001b[0m\u001b[0;34m\u001b[0m\u001b[0;34m\u001b[0m\u001b[0m\n",
            "\u001b[0;32m/usr/local/lib/python3.11/dist-packages/jax/_src/dtypes.py\u001b[0m in \u001b[0;36m_dtype_and_weaktype\u001b[0;34m(value)\u001b[0m\n\u001b[1;32m    603\u001b[0m   \u001b[0;34m\"\"\"Return a (dtype, weak_type) tuple for the given input.\"\"\"\u001b[0m\u001b[0;34m\u001b[0m\u001b[0;34m\u001b[0m\u001b[0m\n\u001b[0;32m--> 604\u001b[0;31m   \u001b[0;32mreturn\u001b[0m \u001b[0mdtype\u001b[0m\u001b[0;34m(\u001b[0m\u001b[0mvalue\u001b[0m\u001b[0;34m)\u001b[0m\u001b[0;34m,\u001b[0m \u001b[0many\u001b[0m\u001b[0;34m(\u001b[0m\u001b[0mvalue\u001b[0m \u001b[0;32mis\u001b[0m \u001b[0mtyp\u001b[0m \u001b[0;32mfor\u001b[0m \u001b[0mtyp\u001b[0m \u001b[0;32min\u001b[0m \u001b[0m_weak_types\u001b[0m\u001b[0;34m)\u001b[0m \u001b[0;32mor\u001b[0m \u001b[0mis_weakly_typed\u001b[0m\u001b[0;34m(\u001b[0m\u001b[0mvalue\u001b[0m\u001b[0;34m)\u001b[0m\u001b[0;34m\u001b[0m\u001b[0;34m\u001b[0m\u001b[0m\n\u001b[0m\u001b[1;32m    605\u001b[0m \u001b[0;34m\u001b[0m\u001b[0m\n",
            "\u001b[0;32m/usr/local/lib/python3.11/dist-packages/jax/_src/dtypes.py\u001b[0m in \u001b[0;36mdtype\u001b[0;34m(x, canonicalize)\u001b[0m\n\u001b[1;32m    830\u001b[0m     \u001b[0;32mexcept\u001b[0m \u001b[0mTypeError\u001b[0m \u001b[0;32mas\u001b[0m \u001b[0merr\u001b[0m\u001b[0;34m:\u001b[0m\u001b[0;34m\u001b[0m\u001b[0;34m\u001b[0m\u001b[0m\n\u001b[0;32m--> 831\u001b[0;31m       \u001b[0;32mraise\u001b[0m \u001b[0mTypeError\u001b[0m\u001b[0;34m(\u001b[0m\u001b[0;34mf\"Cannot determine dtype of {x}\"\u001b[0m\u001b[0;34m)\u001b[0m \u001b[0;32mfrom\u001b[0m \u001b[0merr\u001b[0m\u001b[0;34m\u001b[0m\u001b[0;34m\u001b[0m\u001b[0m\n\u001b[0m\u001b[1;32m    832\u001b[0m   \u001b[0;32mif\u001b[0m \u001b[0mdt\u001b[0m \u001b[0;32mnot\u001b[0m \u001b[0;32min\u001b[0m \u001b[0m_jax_dtype_set\u001b[0m \u001b[0;32mand\u001b[0m \u001b[0;32mnot\u001b[0m \u001b[0missubdtype\u001b[0m\u001b[0;34m(\u001b[0m\u001b[0mdt\u001b[0m\u001b[0;34m,\u001b[0m \u001b[0mextended\u001b[0m\u001b[0;34m)\u001b[0m\u001b[0;34m:\u001b[0m\u001b[0;34m\u001b[0m\u001b[0;34m\u001b[0m\u001b[0m\n",
            "\u001b[0;31mTypeError\u001b[0m: Cannot determine dtype of <object object at 0x7f9cf13d9aa0>",
            "\nDuring handling of the above exception, another exception occurred:\n",
            "\u001b[0;31mTypeError\u001b[0m                                 Traceback (most recent call last)",
            "\u001b[0;32m/tmp/ipython-input-50-1710928816.py\u001b[0m in \u001b[0;36m<cell line: 0>\u001b[0;34m()\u001b[0m\n\u001b[1;32m      8\u001b[0m \u001b[0mtree\u001b[0m \u001b[0;34m=\u001b[0m \u001b[0mMyTree\u001b[0m\u001b[0;34m(\u001b[0m\u001b[0mjnp\u001b[0m\u001b[0;34m.\u001b[0m\u001b[0marange\u001b[0m\u001b[0;34m(\u001b[0m\u001b[0;36m5.0\u001b[0m\u001b[0;34m)\u001b[0m\u001b[0;34m)\u001b[0m\u001b[0;34m\u001b[0m\u001b[0;34m\u001b[0m\u001b[0m\n\u001b[1;32m      9\u001b[0m \u001b[0;34m\u001b[0m\u001b[0m\n\u001b[0;32m---> 10\u001b[0;31m \u001b[0mjax\u001b[0m\u001b[0;34m.\u001b[0m\u001b[0mvmap\u001b[0m\u001b[0;34m(\u001b[0m\u001b[0;32mlambda\u001b[0m \u001b[0mx\u001b[0m\u001b[0;34m:\u001b[0m \u001b[0mx\u001b[0m\u001b[0;34m)\u001b[0m\u001b[0;34m(\u001b[0m\u001b[0mtree\u001b[0m\u001b[0;34m)\u001b[0m      \u001b[0;31m# Error because object() is passed to `MyTree`.\u001b[0m\u001b[0;34m\u001b[0m\u001b[0;34m\u001b[0m\u001b[0m\n\u001b[0m",
            "    \u001b[0;31m[... skipping hidden 4 frame]\u001b[0m\n",
            "\u001b[0;32m/tmp/ipython-input-50-1710928816.py\u001b[0m in \u001b[0;36m<lambda>\u001b[0;34m(_, args)\u001b[0m\n\u001b[1;32m      4\u001b[0m \u001b[0;34m\u001b[0m\u001b[0m\n\u001b[1;32m      5\u001b[0m register_pytree_node(MyTree, lambda tree: ((tree.a,), None),\n\u001b[0;32m----> 6\u001b[0;31m     lambda _, args: MyTree(*args))\n\u001b[0m\u001b[1;32m      7\u001b[0m \u001b[0;34m\u001b[0m\u001b[0m\n\u001b[1;32m      8\u001b[0m \u001b[0mtree\u001b[0m \u001b[0;34m=\u001b[0m \u001b[0mMyTree\u001b[0m\u001b[0;34m(\u001b[0m\u001b[0mjnp\u001b[0m\u001b[0;34m.\u001b[0m\u001b[0marange\u001b[0m\u001b[0;34m(\u001b[0m\u001b[0;36m5.0\u001b[0m\u001b[0;34m)\u001b[0m\u001b[0;34m)\u001b[0m\u001b[0;34m\u001b[0m\u001b[0;34m\u001b[0m\u001b[0m\n",
            "\u001b[0;32m/tmp/ipython-input-50-1710928816.py\u001b[0m in \u001b[0;36m__init__\u001b[0;34m(self, a)\u001b[0m\n\u001b[1;32m      1\u001b[0m \u001b[0;32mclass\u001b[0m \u001b[0mMyTree\u001b[0m\u001b[0;34m:\u001b[0m\u001b[0;34m\u001b[0m\u001b[0;34m\u001b[0m\u001b[0m\n\u001b[1;32m      2\u001b[0m   \u001b[0;32mdef\u001b[0m \u001b[0m__init__\u001b[0m\u001b[0;34m(\u001b[0m\u001b[0mself\u001b[0m\u001b[0;34m,\u001b[0m \u001b[0ma\u001b[0m\u001b[0;34m)\u001b[0m\u001b[0;34m:\u001b[0m\u001b[0;34m\u001b[0m\u001b[0;34m\u001b[0m\u001b[0m\n\u001b[0;32m----> 3\u001b[0;31m     \u001b[0mself\u001b[0m\u001b[0;34m.\u001b[0m\u001b[0ma\u001b[0m \u001b[0;34m=\u001b[0m \u001b[0mjnp\u001b[0m\u001b[0;34m.\u001b[0m\u001b[0masarray\u001b[0m\u001b[0;34m(\u001b[0m\u001b[0ma\u001b[0m\u001b[0;34m)\u001b[0m\u001b[0;34m\u001b[0m\u001b[0;34m\u001b[0m\u001b[0m\n\u001b[0m\u001b[1;32m      4\u001b[0m \u001b[0;34m\u001b[0m\u001b[0m\n\u001b[1;32m      5\u001b[0m register_pytree_node(MyTree, lambda tree: ((tree.a,), None),\n",
            "\u001b[0;32m/usr/local/lib/python3.11/dist-packages/jax/_src/numpy/lax_numpy.py\u001b[0m in \u001b[0;36masarray\u001b[0;34m(a, dtype, order, copy, device)\u001b[0m\n\u001b[1;32m   5730\u001b[0m   \u001b[0;32mif\u001b[0m \u001b[0mdtype\u001b[0m \u001b[0;32mis\u001b[0m \u001b[0;32mnot\u001b[0m \u001b[0;32mNone\u001b[0m\u001b[0;34m:\u001b[0m\u001b[0;34m\u001b[0m\u001b[0;34m\u001b[0m\u001b[0m\n\u001b[1;32m   5731\u001b[0m     \u001b[0mdtype\u001b[0m \u001b[0;34m=\u001b[0m \u001b[0mdtypes\u001b[0m\u001b[0;34m.\u001b[0m\u001b[0mcanonicalize_dtype\u001b[0m\u001b[0;34m(\u001b[0m\u001b[0mdtype\u001b[0m\u001b[0;34m,\u001b[0m \u001b[0mallow_extended_dtype\u001b[0m\u001b[0;34m=\u001b[0m\u001b[0;32mTrue\u001b[0m\u001b[0;34m)\u001b[0m  \u001b[0;31m# type: ignore[assignment]\u001b[0m\u001b[0;34m\u001b[0m\u001b[0;34m\u001b[0m\u001b[0m\n\u001b[0;32m-> 5732\u001b[0;31m   \u001b[0;32mreturn\u001b[0m \u001b[0marray\u001b[0m\u001b[0;34m(\u001b[0m\u001b[0ma\u001b[0m\u001b[0;34m,\u001b[0m \u001b[0mdtype\u001b[0m\u001b[0;34m=\u001b[0m\u001b[0mdtype\u001b[0m\u001b[0;34m,\u001b[0m \u001b[0mcopy\u001b[0m\u001b[0;34m=\u001b[0m\u001b[0mbool\u001b[0m\u001b[0;34m(\u001b[0m\u001b[0mcopy\u001b[0m\u001b[0;34m)\u001b[0m\u001b[0;34m,\u001b[0m \u001b[0morder\u001b[0m\u001b[0;34m=\u001b[0m\u001b[0morder\u001b[0m\u001b[0;34m,\u001b[0m \u001b[0mdevice\u001b[0m\u001b[0;34m=\u001b[0m\u001b[0mdevice\u001b[0m\u001b[0;34m)\u001b[0m\u001b[0;34m\u001b[0m\u001b[0;34m\u001b[0m\u001b[0m\n\u001b[0m\u001b[1;32m   5733\u001b[0m \u001b[0;34m\u001b[0m\u001b[0m\n\u001b[1;32m   5734\u001b[0m \u001b[0;34m\u001b[0m\u001b[0m\n",
            "\u001b[0;32m/usr/local/lib/python3.11/dist-packages/jax/_src/numpy/lax_numpy.py\u001b[0m in \u001b[0;36marray\u001b[0;34m(object, dtype, copy, order, ndmin, device)\u001b[0m\n\u001b[1;32m   5537\u001b[0m       \u001b[0;31m# This is rare, so we only handle it if the normal path fails.\u001b[0m\u001b[0;34m\u001b[0m\u001b[0;34m\u001b[0m\u001b[0m\n\u001b[1;32m   5538\u001b[0m       \u001b[0mleaves\u001b[0m \u001b[0;34m=\u001b[0m \u001b[0;34m[\u001b[0m\u001b[0m_convert_to_array_if_dtype_fails\u001b[0m\u001b[0;34m(\u001b[0m\u001b[0mleaf\u001b[0m\u001b[0;34m)\u001b[0m \u001b[0;32mfor\u001b[0m \u001b[0mleaf\u001b[0m \u001b[0;32min\u001b[0m \u001b[0mleaves\u001b[0m\u001b[0;34m]\u001b[0m\u001b[0;34m\u001b[0m\u001b[0;34m\u001b[0m\u001b[0m\n\u001b[0;32m-> 5539\u001b[0;31m       \u001b[0mdtype\u001b[0m \u001b[0;34m=\u001b[0m \u001b[0mdtypes\u001b[0m\u001b[0;34m.\u001b[0m\u001b[0m_lattice_result_type\u001b[0m\u001b[0;34m(\u001b[0m\u001b[0;34m*\u001b[0m\u001b[0mleaves\u001b[0m\u001b[0;34m)\u001b[0m\u001b[0;34m[\u001b[0m\u001b[0;36m0\u001b[0m\u001b[0;34m]\u001b[0m\u001b[0;34m\u001b[0m\u001b[0;34m\u001b[0m\u001b[0m\n\u001b[0m\u001b[1;32m   5540\u001b[0m \u001b[0;34m\u001b[0m\u001b[0m\n\u001b[1;32m   5541\u001b[0m   \u001b[0;32mif\u001b[0m \u001b[0;32mnot\u001b[0m \u001b[0mweak_type\u001b[0m\u001b[0;34m:\u001b[0m\u001b[0;34m\u001b[0m\u001b[0;34m\u001b[0m\u001b[0m\n",
            "    \u001b[0;31m[... skipping hidden 3 frame]\u001b[0m\n",
            "\u001b[0;32m/usr/local/lib/python3.11/dist-packages/jax/_src/dtypes.py\u001b[0m in \u001b[0;36mdtype\u001b[0;34m(x, canonicalize)\u001b[0m\n\u001b[1;32m    831\u001b[0m       \u001b[0;32mraise\u001b[0m \u001b[0mTypeError\u001b[0m\u001b[0;34m(\u001b[0m\u001b[0;34mf\"Cannot determine dtype of {x}\"\u001b[0m\u001b[0;34m)\u001b[0m \u001b[0;32mfrom\u001b[0m \u001b[0merr\u001b[0m\u001b[0;34m\u001b[0m\u001b[0;34m\u001b[0m\u001b[0m\n\u001b[1;32m    832\u001b[0m   \u001b[0;32mif\u001b[0m \u001b[0mdt\u001b[0m \u001b[0;32mnot\u001b[0m \u001b[0;32min\u001b[0m \u001b[0m_jax_dtype_set\u001b[0m \u001b[0;32mand\u001b[0m \u001b[0;32mnot\u001b[0m \u001b[0missubdtype\u001b[0m\u001b[0;34m(\u001b[0m\u001b[0mdt\u001b[0m\u001b[0;34m,\u001b[0m \u001b[0mextended\u001b[0m\u001b[0;34m)\u001b[0m\u001b[0;34m:\u001b[0m\u001b[0;34m\u001b[0m\u001b[0;34m\u001b[0m\u001b[0m\n\u001b[0;32m--> 833\u001b[0;31m     raise TypeError(f\"Value '{x}' with dtype {dt} is not a valid JAX array \"\n\u001b[0m\u001b[1;32m    834\u001b[0m                     \"type. Only arrays of numeric types are supported by JAX.\")\n\u001b[1;32m    835\u001b[0m   \u001b[0;31m# TODO(jakevdp): fix return type annotation and remove this ignore.\u001b[0m\u001b[0;34m\u001b[0m\u001b[0;34m\u001b[0m\u001b[0m\n",
            "\u001b[0;31mTypeError\u001b[0m: Value '<object object at 0x7f9cf13d9aa0>' with dtype object is not a valid JAX array type. Only arrays of numeric types are supported by JAX."
          ]
        }
      ]
    },
    {
      "cell_type": "code",
      "source": [
        "jax.jacobian(lambda x: x)(tree)  # Error because MyTree(...) is passed to `MyTree`."
      ],
      "metadata": {
        "colab": {
          "base_uri": "https://localhost:8080/",
          "height": 660
        },
        "id": "m0y3R9Iod1Uv",
        "outputId": "20c15421-7de8-4e10-ab94-07ebce5253fe"
      },
      "execution_count": 51,
      "outputs": [
        {
          "output_type": "stream",
          "name": "stderr",
          "text": [
            "/usr/local/lib/python3.11/dist-packages/jax/_src/numpy/lax_numpy.py:5732: FutureWarning: None encountered in jnp.array(); this is currently treated as NaN. In the future this will result in an error.\n",
            "  return array(a, dtype=dtype, copy=bool(copy), order=order, device=device)\n"
          ]
        },
        {
          "output_type": "error",
          "ename": "TypeError",
          "evalue": "Value '<object object at 0x7f9cf13d9e30>' with dtype object is not a valid JAX array type. Only arrays of numeric types are supported by JAX.",
          "traceback": [
            "\u001b[0;31m---------------------------------------------------------------------------\u001b[0m",
            "\u001b[0;31mTypeError\u001b[0m                                 Traceback (most recent call last)",
            "\u001b[0;32m/usr/local/lib/python3.11/dist-packages/jax/_src/dtypes.py\u001b[0m in \u001b[0;36mdtype\u001b[0;34m(x, canonicalize)\u001b[0m\n\u001b[1;32m    828\u001b[0m     \u001b[0;32mtry\u001b[0m\u001b[0;34m:\u001b[0m\u001b[0;34m\u001b[0m\u001b[0;34m\u001b[0m\u001b[0m\n\u001b[0;32m--> 829\u001b[0;31m       \u001b[0mdt\u001b[0m \u001b[0;34m=\u001b[0m \u001b[0mnp\u001b[0m\u001b[0;34m.\u001b[0m\u001b[0mresult_type\u001b[0m\u001b[0;34m(\u001b[0m\u001b[0mx\u001b[0m\u001b[0;34m)\u001b[0m\u001b[0;34m\u001b[0m\u001b[0;34m\u001b[0m\u001b[0m\n\u001b[0m\u001b[1;32m    830\u001b[0m     \u001b[0;32mexcept\u001b[0m \u001b[0mTypeError\u001b[0m \u001b[0;32mas\u001b[0m \u001b[0merr\u001b[0m\u001b[0;34m:\u001b[0m\u001b[0;34m\u001b[0m\u001b[0;34m\u001b[0m\u001b[0m\n",
            "\u001b[0;31mTypeError\u001b[0m: Cannot interpret '<object object at 0x7f9cf13d9e30>' as a data type",
            "\nThe above exception was the direct cause of the following exception:\n",
            "\u001b[0;31mTypeError\u001b[0m                                 Traceback (most recent call last)",
            "\u001b[0;32m/usr/local/lib/python3.11/dist-packages/jax/_src/numpy/lax_numpy.py\u001b[0m in \u001b[0;36marray\u001b[0;34m(object, dtype, copy, order, ndmin, device)\u001b[0m\n\u001b[1;32m   5533\u001b[0m     \u001b[0;32mtry\u001b[0m\u001b[0;34m:\u001b[0m\u001b[0;34m\u001b[0m\u001b[0;34m\u001b[0m\u001b[0m\n\u001b[0;32m-> 5534\u001b[0;31m       \u001b[0mdtype\u001b[0m \u001b[0;34m=\u001b[0m \u001b[0mdtypes\u001b[0m\u001b[0;34m.\u001b[0m\u001b[0m_lattice_result_type\u001b[0m\u001b[0;34m(\u001b[0m\u001b[0;34m*\u001b[0m\u001b[0mleaves\u001b[0m\u001b[0;34m)\u001b[0m\u001b[0;34m[\u001b[0m\u001b[0;36m0\u001b[0m\u001b[0;34m]\u001b[0m \u001b[0;32mif\u001b[0m \u001b[0mleaves\u001b[0m \u001b[0;32melse\u001b[0m \u001b[0mdtypes\u001b[0m\u001b[0;34m.\u001b[0m\u001b[0mfloat_\u001b[0m\u001b[0;34m\u001b[0m\u001b[0;34m\u001b[0m\u001b[0m\n\u001b[0m\u001b[1;32m   5535\u001b[0m     \u001b[0;32mexcept\u001b[0m \u001b[0mTypeError\u001b[0m\u001b[0;34m:\u001b[0m\u001b[0;34m\u001b[0m\u001b[0;34m\u001b[0m\u001b[0m\n",
            "\u001b[0;32m/usr/local/lib/python3.11/dist-packages/jax/_src/dtypes.py\u001b[0m in \u001b[0;36m_lattice_result_type\u001b[0;34m(*args)\u001b[0m\n\u001b[1;32m    838\u001b[0m \u001b[0;32mdef\u001b[0m \u001b[0m_lattice_result_type\u001b[0m\u001b[0;34m(\u001b[0m\u001b[0;34m*\u001b[0m\u001b[0margs\u001b[0m\u001b[0;34m:\u001b[0m \u001b[0mAny\u001b[0m\u001b[0;34m)\u001b[0m \u001b[0;34m->\u001b[0m \u001b[0mtuple\u001b[0m\u001b[0;34m[\u001b[0m\u001b[0mDType\u001b[0m\u001b[0;34m,\u001b[0m \u001b[0mbool\u001b[0m\u001b[0;34m]\u001b[0m\u001b[0;34m:\u001b[0m\u001b[0;34m\u001b[0m\u001b[0;34m\u001b[0m\u001b[0m\n\u001b[0;32m--> 839\u001b[0;31m   \u001b[0mdtypes\u001b[0m\u001b[0;34m,\u001b[0m \u001b[0mweak_types\u001b[0m \u001b[0;34m=\u001b[0m \u001b[0mzip\u001b[0m\u001b[0;34m(\u001b[0m\u001b[0;34m*\u001b[0m\u001b[0;34m(\u001b[0m\u001b[0m_dtype_and_weaktype\u001b[0m\u001b[0;34m(\u001b[0m\u001b[0marg\u001b[0m\u001b[0;34m)\u001b[0m \u001b[0;32mfor\u001b[0m \u001b[0marg\u001b[0m \u001b[0;32min\u001b[0m \u001b[0margs\u001b[0m\u001b[0;34m)\u001b[0m\u001b[0;34m)\u001b[0m\u001b[0;34m\u001b[0m\u001b[0;34m\u001b[0m\u001b[0m\n\u001b[0m\u001b[1;32m    840\u001b[0m   \u001b[0;32mif\u001b[0m \u001b[0mlen\u001b[0m\u001b[0;34m(\u001b[0m\u001b[0mdtypes\u001b[0m\u001b[0;34m)\u001b[0m \u001b[0;34m==\u001b[0m \u001b[0;36m1\u001b[0m\u001b[0;34m:\u001b[0m\u001b[0;34m\u001b[0m\u001b[0;34m\u001b[0m\u001b[0m\n",
            "\u001b[0;32m/usr/local/lib/python3.11/dist-packages/jax/_src/dtypes.py\u001b[0m in \u001b[0;36m<genexpr>\u001b[0;34m(.0)\u001b[0m\n\u001b[1;32m    838\u001b[0m \u001b[0;32mdef\u001b[0m \u001b[0m_lattice_result_type\u001b[0m\u001b[0;34m(\u001b[0m\u001b[0;34m*\u001b[0m\u001b[0margs\u001b[0m\u001b[0;34m:\u001b[0m \u001b[0mAny\u001b[0m\u001b[0;34m)\u001b[0m \u001b[0;34m->\u001b[0m \u001b[0mtuple\u001b[0m\u001b[0;34m[\u001b[0m\u001b[0mDType\u001b[0m\u001b[0;34m,\u001b[0m \u001b[0mbool\u001b[0m\u001b[0;34m]\u001b[0m\u001b[0;34m:\u001b[0m\u001b[0;34m\u001b[0m\u001b[0;34m\u001b[0m\u001b[0m\n\u001b[0;32m--> 839\u001b[0;31m   \u001b[0mdtypes\u001b[0m\u001b[0;34m,\u001b[0m \u001b[0mweak_types\u001b[0m \u001b[0;34m=\u001b[0m \u001b[0mzip\u001b[0m\u001b[0;34m(\u001b[0m\u001b[0;34m*\u001b[0m\u001b[0;34m(\u001b[0m\u001b[0m_dtype_and_weaktype\u001b[0m\u001b[0;34m(\u001b[0m\u001b[0marg\u001b[0m\u001b[0;34m)\u001b[0m \u001b[0;32mfor\u001b[0m \u001b[0marg\u001b[0m \u001b[0;32min\u001b[0m \u001b[0margs\u001b[0m\u001b[0;34m)\u001b[0m\u001b[0;34m)\u001b[0m\u001b[0;34m\u001b[0m\u001b[0;34m\u001b[0m\u001b[0m\n\u001b[0m\u001b[1;32m    840\u001b[0m   \u001b[0;32mif\u001b[0m \u001b[0mlen\u001b[0m\u001b[0;34m(\u001b[0m\u001b[0mdtypes\u001b[0m\u001b[0;34m)\u001b[0m \u001b[0;34m==\u001b[0m \u001b[0;36m1\u001b[0m\u001b[0;34m:\u001b[0m\u001b[0;34m\u001b[0m\u001b[0;34m\u001b[0m\u001b[0m\n",
            "\u001b[0;32m/usr/local/lib/python3.11/dist-packages/jax/_src/dtypes.py\u001b[0m in \u001b[0;36m_dtype_and_weaktype\u001b[0;34m(value)\u001b[0m\n\u001b[1;32m    603\u001b[0m   \u001b[0;34m\"\"\"Return a (dtype, weak_type) tuple for the given input.\"\"\"\u001b[0m\u001b[0;34m\u001b[0m\u001b[0;34m\u001b[0m\u001b[0m\n\u001b[0;32m--> 604\u001b[0;31m   \u001b[0;32mreturn\u001b[0m \u001b[0mdtype\u001b[0m\u001b[0;34m(\u001b[0m\u001b[0mvalue\u001b[0m\u001b[0;34m)\u001b[0m\u001b[0;34m,\u001b[0m \u001b[0many\u001b[0m\u001b[0;34m(\u001b[0m\u001b[0mvalue\u001b[0m \u001b[0;32mis\u001b[0m \u001b[0mtyp\u001b[0m \u001b[0;32mfor\u001b[0m \u001b[0mtyp\u001b[0m \u001b[0;32min\u001b[0m \u001b[0m_weak_types\u001b[0m\u001b[0;34m)\u001b[0m \u001b[0;32mor\u001b[0m \u001b[0mis_weakly_typed\u001b[0m\u001b[0;34m(\u001b[0m\u001b[0mvalue\u001b[0m\u001b[0;34m)\u001b[0m\u001b[0;34m\u001b[0m\u001b[0;34m\u001b[0m\u001b[0m\n\u001b[0m\u001b[1;32m    605\u001b[0m \u001b[0;34m\u001b[0m\u001b[0m\n",
            "\u001b[0;32m/usr/local/lib/python3.11/dist-packages/jax/_src/dtypes.py\u001b[0m in \u001b[0;36mdtype\u001b[0;34m(x, canonicalize)\u001b[0m\n\u001b[1;32m    830\u001b[0m     \u001b[0;32mexcept\u001b[0m \u001b[0mTypeError\u001b[0m \u001b[0;32mas\u001b[0m \u001b[0merr\u001b[0m\u001b[0;34m:\u001b[0m\u001b[0;34m\u001b[0m\u001b[0;34m\u001b[0m\u001b[0m\n\u001b[0;32m--> 831\u001b[0;31m       \u001b[0;32mraise\u001b[0m \u001b[0mTypeError\u001b[0m\u001b[0;34m(\u001b[0m\u001b[0;34mf\"Cannot determine dtype of {x}\"\u001b[0m\u001b[0;34m)\u001b[0m \u001b[0;32mfrom\u001b[0m \u001b[0merr\u001b[0m\u001b[0;34m\u001b[0m\u001b[0;34m\u001b[0m\u001b[0m\n\u001b[0m\u001b[1;32m    832\u001b[0m   \u001b[0;32mif\u001b[0m \u001b[0mdt\u001b[0m \u001b[0;32mnot\u001b[0m \u001b[0;32min\u001b[0m \u001b[0m_jax_dtype_set\u001b[0m \u001b[0;32mand\u001b[0m \u001b[0;32mnot\u001b[0m \u001b[0missubdtype\u001b[0m\u001b[0;34m(\u001b[0m\u001b[0mdt\u001b[0m\u001b[0;34m,\u001b[0m \u001b[0mextended\u001b[0m\u001b[0;34m)\u001b[0m\u001b[0;34m:\u001b[0m\u001b[0;34m\u001b[0m\u001b[0;34m\u001b[0m\u001b[0m\n",
            "\u001b[0;31mTypeError\u001b[0m: Cannot determine dtype of <object object at 0x7f9cf13d9e30>",
            "\nDuring handling of the above exception, another exception occurred:\n",
            "\u001b[0;31mTypeError\u001b[0m                                 Traceback (most recent call last)",
            "\u001b[0;32m/tmp/ipython-input-51-4101152621.py\u001b[0m in \u001b[0;36m<cell line: 0>\u001b[0;34m()\u001b[0m\n\u001b[0;32m----> 1\u001b[0;31m \u001b[0mjax\u001b[0m\u001b[0;34m.\u001b[0m\u001b[0mjacobian\u001b[0m\u001b[0;34m(\u001b[0m\u001b[0;32mlambda\u001b[0m \u001b[0mx\u001b[0m\u001b[0;34m:\u001b[0m \u001b[0mx\u001b[0m\u001b[0;34m)\u001b[0m\u001b[0;34m(\u001b[0m\u001b[0mtree\u001b[0m\u001b[0;34m)\u001b[0m  \u001b[0;31m# Error because MyTree(...) is passed to `MyTree`.\u001b[0m\u001b[0;34m\u001b[0m\u001b[0;34m\u001b[0m\u001b[0m\n\u001b[0m",
            "\u001b[0;32m/usr/local/lib/python3.11/dist-packages/jax/_src/api.py\u001b[0m in \u001b[0;36mjacfun\u001b[0;34m(*args, **kwargs)\u001b[0m\n\u001b[1;32m    686\u001b[0m       \u001b[0my\u001b[0m\u001b[0;34m,\u001b[0m \u001b[0mpullback\u001b[0m\u001b[0;34m,\u001b[0m \u001b[0maux\u001b[0m \u001b[0;34m=\u001b[0m \u001b[0m_vjp\u001b[0m\u001b[0;34m(\u001b[0m\u001b[0mf_partial\u001b[0m\u001b[0;34m,\u001b[0m \u001b[0;34m*\u001b[0m\u001b[0mdyn_args\u001b[0m\u001b[0;34m,\u001b[0m \u001b[0mhas_aux\u001b[0m\u001b[0;34m=\u001b[0m\u001b[0;32mTrue\u001b[0m\u001b[0;34m)\u001b[0m\u001b[0;34m\u001b[0m\u001b[0;34m\u001b[0m\u001b[0m\n\u001b[1;32m    687\u001b[0m     \u001b[0mtree_map\u001b[0m\u001b[0;34m(\u001b[0m\u001b[0mpartial\u001b[0m\u001b[0;34m(\u001b[0m\u001b[0m_check_output_dtype_jacrev\u001b[0m\u001b[0;34m,\u001b[0m \u001b[0mholomorphic\u001b[0m\u001b[0;34m)\u001b[0m\u001b[0;34m,\u001b[0m \u001b[0my\u001b[0m\u001b[0;34m)\u001b[0m\u001b[0;34m\u001b[0m\u001b[0;34m\u001b[0m\u001b[0m\n\u001b[0;32m--> 688\u001b[0;31m     \u001b[0mjac\u001b[0m \u001b[0;34m=\u001b[0m \u001b[0mvmap\u001b[0m\u001b[0;34m(\u001b[0m\u001b[0mpullback\u001b[0m\u001b[0;34m)\u001b[0m\u001b[0;34m(\u001b[0m\u001b[0m_std_basis\u001b[0m\u001b[0;34m(\u001b[0m\u001b[0my\u001b[0m\u001b[0;34m)\u001b[0m\u001b[0;34m)\u001b[0m\u001b[0;34m\u001b[0m\u001b[0;34m\u001b[0m\u001b[0m\n\u001b[0m\u001b[1;32m    689\u001b[0m     \u001b[0mjac\u001b[0m \u001b[0;34m=\u001b[0m \u001b[0mjac\u001b[0m\u001b[0;34m[\u001b[0m\u001b[0;36m0\u001b[0m\u001b[0;34m]\u001b[0m \u001b[0;32mif\u001b[0m \u001b[0misinstance\u001b[0m\u001b[0;34m(\u001b[0m\u001b[0margnums\u001b[0m\u001b[0;34m,\u001b[0m \u001b[0mint\u001b[0m\u001b[0;34m)\u001b[0m \u001b[0;32melse\u001b[0m \u001b[0mjac\u001b[0m\u001b[0;34m\u001b[0m\u001b[0;34m\u001b[0m\u001b[0m\n\u001b[1;32m    690\u001b[0m     \u001b[0mexample_args\u001b[0m \u001b[0;34m=\u001b[0m \u001b[0mdyn_args\u001b[0m\u001b[0;34m[\u001b[0m\u001b[0;36m0\u001b[0m\u001b[0;34m]\u001b[0m \u001b[0;32mif\u001b[0m \u001b[0misinstance\u001b[0m\u001b[0;34m(\u001b[0m\u001b[0margnums\u001b[0m\u001b[0;34m,\u001b[0m \u001b[0mint\u001b[0m\u001b[0;34m)\u001b[0m \u001b[0;32melse\u001b[0m \u001b[0mdyn_args\u001b[0m\u001b[0;34m\u001b[0m\u001b[0;34m\u001b[0m\u001b[0m\n",
            "    \u001b[0;31m[... skipping hidden 4 frame]\u001b[0m\n",
            "\u001b[0;32m/tmp/ipython-input-50-1710928816.py\u001b[0m in \u001b[0;36m<lambda>\u001b[0;34m(_, args)\u001b[0m\n\u001b[1;32m      4\u001b[0m \u001b[0;34m\u001b[0m\u001b[0m\n\u001b[1;32m      5\u001b[0m register_pytree_node(MyTree, lambda tree: ((tree.a,), None),\n\u001b[0;32m----> 6\u001b[0;31m     lambda _, args: MyTree(*args))\n\u001b[0m\u001b[1;32m      7\u001b[0m \u001b[0;34m\u001b[0m\u001b[0m\n\u001b[1;32m      8\u001b[0m \u001b[0mtree\u001b[0m \u001b[0;34m=\u001b[0m \u001b[0mMyTree\u001b[0m\u001b[0;34m(\u001b[0m\u001b[0mjnp\u001b[0m\u001b[0;34m.\u001b[0m\u001b[0marange\u001b[0m\u001b[0;34m(\u001b[0m\u001b[0;36m5.0\u001b[0m\u001b[0;34m)\u001b[0m\u001b[0;34m)\u001b[0m\u001b[0;34m\u001b[0m\u001b[0;34m\u001b[0m\u001b[0m\n",
            "\u001b[0;32m/tmp/ipython-input-50-1710928816.py\u001b[0m in \u001b[0;36m__init__\u001b[0;34m(self, a)\u001b[0m\n\u001b[1;32m      1\u001b[0m \u001b[0;32mclass\u001b[0m \u001b[0mMyTree\u001b[0m\u001b[0;34m:\u001b[0m\u001b[0;34m\u001b[0m\u001b[0;34m\u001b[0m\u001b[0m\n\u001b[1;32m      2\u001b[0m   \u001b[0;32mdef\u001b[0m \u001b[0m__init__\u001b[0m\u001b[0;34m(\u001b[0m\u001b[0mself\u001b[0m\u001b[0;34m,\u001b[0m \u001b[0ma\u001b[0m\u001b[0;34m)\u001b[0m\u001b[0;34m:\u001b[0m\u001b[0;34m\u001b[0m\u001b[0;34m\u001b[0m\u001b[0m\n\u001b[0;32m----> 3\u001b[0;31m     \u001b[0mself\u001b[0m\u001b[0;34m.\u001b[0m\u001b[0ma\u001b[0m \u001b[0;34m=\u001b[0m \u001b[0mjnp\u001b[0m\u001b[0;34m.\u001b[0m\u001b[0masarray\u001b[0m\u001b[0;34m(\u001b[0m\u001b[0ma\u001b[0m\u001b[0;34m)\u001b[0m\u001b[0;34m\u001b[0m\u001b[0;34m\u001b[0m\u001b[0m\n\u001b[0m\u001b[1;32m      4\u001b[0m \u001b[0;34m\u001b[0m\u001b[0m\n\u001b[1;32m      5\u001b[0m register_pytree_node(MyTree, lambda tree: ((tree.a,), None),\n",
            "\u001b[0;32m/usr/local/lib/python3.11/dist-packages/jax/_src/numpy/lax_numpy.py\u001b[0m in \u001b[0;36masarray\u001b[0;34m(a, dtype, order, copy, device)\u001b[0m\n\u001b[1;32m   5730\u001b[0m   \u001b[0;32mif\u001b[0m \u001b[0mdtype\u001b[0m \u001b[0;32mis\u001b[0m \u001b[0;32mnot\u001b[0m \u001b[0;32mNone\u001b[0m\u001b[0;34m:\u001b[0m\u001b[0;34m\u001b[0m\u001b[0;34m\u001b[0m\u001b[0m\n\u001b[1;32m   5731\u001b[0m     \u001b[0mdtype\u001b[0m \u001b[0;34m=\u001b[0m \u001b[0mdtypes\u001b[0m\u001b[0;34m.\u001b[0m\u001b[0mcanonicalize_dtype\u001b[0m\u001b[0;34m(\u001b[0m\u001b[0mdtype\u001b[0m\u001b[0;34m,\u001b[0m \u001b[0mallow_extended_dtype\u001b[0m\u001b[0;34m=\u001b[0m\u001b[0;32mTrue\u001b[0m\u001b[0;34m)\u001b[0m  \u001b[0;31m# type: ignore[assignment]\u001b[0m\u001b[0;34m\u001b[0m\u001b[0;34m\u001b[0m\u001b[0m\n\u001b[0;32m-> 5732\u001b[0;31m   \u001b[0;32mreturn\u001b[0m \u001b[0marray\u001b[0m\u001b[0;34m(\u001b[0m\u001b[0ma\u001b[0m\u001b[0;34m,\u001b[0m \u001b[0mdtype\u001b[0m\u001b[0;34m=\u001b[0m\u001b[0mdtype\u001b[0m\u001b[0;34m,\u001b[0m \u001b[0mcopy\u001b[0m\u001b[0;34m=\u001b[0m\u001b[0mbool\u001b[0m\u001b[0;34m(\u001b[0m\u001b[0mcopy\u001b[0m\u001b[0;34m)\u001b[0m\u001b[0;34m,\u001b[0m \u001b[0morder\u001b[0m\u001b[0;34m=\u001b[0m\u001b[0morder\u001b[0m\u001b[0;34m,\u001b[0m \u001b[0mdevice\u001b[0m\u001b[0;34m=\u001b[0m\u001b[0mdevice\u001b[0m\u001b[0;34m)\u001b[0m\u001b[0;34m\u001b[0m\u001b[0;34m\u001b[0m\u001b[0m\n\u001b[0m\u001b[1;32m   5733\u001b[0m \u001b[0;34m\u001b[0m\u001b[0m\n\u001b[1;32m   5734\u001b[0m \u001b[0;34m\u001b[0m\u001b[0m\n",
            "\u001b[0;32m/usr/local/lib/python3.11/dist-packages/jax/_src/numpy/lax_numpy.py\u001b[0m in \u001b[0;36marray\u001b[0;34m(object, dtype, copy, order, ndmin, device)\u001b[0m\n\u001b[1;32m   5537\u001b[0m       \u001b[0;31m# This is rare, so we only handle it if the normal path fails.\u001b[0m\u001b[0;34m\u001b[0m\u001b[0;34m\u001b[0m\u001b[0m\n\u001b[1;32m   5538\u001b[0m       \u001b[0mleaves\u001b[0m \u001b[0;34m=\u001b[0m \u001b[0;34m[\u001b[0m\u001b[0m_convert_to_array_if_dtype_fails\u001b[0m\u001b[0;34m(\u001b[0m\u001b[0mleaf\u001b[0m\u001b[0;34m)\u001b[0m \u001b[0;32mfor\u001b[0m \u001b[0mleaf\u001b[0m \u001b[0;32min\u001b[0m \u001b[0mleaves\u001b[0m\u001b[0;34m]\u001b[0m\u001b[0;34m\u001b[0m\u001b[0;34m\u001b[0m\u001b[0m\n\u001b[0;32m-> 5539\u001b[0;31m       \u001b[0mdtype\u001b[0m \u001b[0;34m=\u001b[0m \u001b[0mdtypes\u001b[0m\u001b[0;34m.\u001b[0m\u001b[0m_lattice_result_type\u001b[0m\u001b[0;34m(\u001b[0m\u001b[0;34m*\u001b[0m\u001b[0mleaves\u001b[0m\u001b[0;34m)\u001b[0m\u001b[0;34m[\u001b[0m\u001b[0;36m0\u001b[0m\u001b[0;34m]\u001b[0m\u001b[0;34m\u001b[0m\u001b[0;34m\u001b[0m\u001b[0m\n\u001b[0m\u001b[1;32m   5540\u001b[0m \u001b[0;34m\u001b[0m\u001b[0m\n\u001b[1;32m   5541\u001b[0m   \u001b[0;32mif\u001b[0m \u001b[0;32mnot\u001b[0m \u001b[0mweak_type\u001b[0m\u001b[0;34m:\u001b[0m\u001b[0;34m\u001b[0m\u001b[0;34m\u001b[0m\u001b[0m\n",
            "    \u001b[0;31m[... skipping hidden 3 frame]\u001b[0m\n",
            "\u001b[0;32m/usr/local/lib/python3.11/dist-packages/jax/_src/dtypes.py\u001b[0m in \u001b[0;36mdtype\u001b[0;34m(x, canonicalize)\u001b[0m\n\u001b[1;32m    831\u001b[0m       \u001b[0;32mraise\u001b[0m \u001b[0mTypeError\u001b[0m\u001b[0;34m(\u001b[0m\u001b[0;34mf\"Cannot determine dtype of {x}\"\u001b[0m\u001b[0;34m)\u001b[0m \u001b[0;32mfrom\u001b[0m \u001b[0merr\u001b[0m\u001b[0;34m\u001b[0m\u001b[0;34m\u001b[0m\u001b[0m\n\u001b[1;32m    832\u001b[0m   \u001b[0;32mif\u001b[0m \u001b[0mdt\u001b[0m \u001b[0;32mnot\u001b[0m \u001b[0;32min\u001b[0m \u001b[0m_jax_dtype_set\u001b[0m \u001b[0;32mand\u001b[0m \u001b[0;32mnot\u001b[0m \u001b[0missubdtype\u001b[0m\u001b[0;34m(\u001b[0m\u001b[0mdt\u001b[0m\u001b[0;34m,\u001b[0m \u001b[0mextended\u001b[0m\u001b[0;34m)\u001b[0m\u001b[0;34m:\u001b[0m\u001b[0;34m\u001b[0m\u001b[0;34m\u001b[0m\u001b[0m\n\u001b[0;32m--> 833\u001b[0;31m     raise TypeError(f\"Value '{x}' with dtype {dt} is not a valid JAX array \"\n\u001b[0m\u001b[1;32m    834\u001b[0m                     \"type. Only arrays of numeric types are supported by JAX.\")\n\u001b[1;32m    835\u001b[0m   \u001b[0;31m# TODO(jakevdp): fix return type annotation and remove this ignore.\u001b[0m\u001b[0;34m\u001b[0m\u001b[0;34m\u001b[0m\u001b[0m\n",
            "\u001b[0;31mTypeError\u001b[0m: Value '<object object at 0x7f9cf13d9e30>' with dtype object is not a valid JAX array type. Only arrays of numeric types are supported by JAX."
          ]
        }
      ]
    },
    {
      "cell_type": "markdown",
      "source": [
        "In the first case with jax.vmap(...)(tree), JAX’s internals use arrays of object() values to infer the structure of the tree\n",
        "\n",
        "In the second case with jax.jacobian(...)(tree), the Jacobian of a function mapping a tree to a tree is defined as a tree of trees."
      ],
      "metadata": {
        "id": "ifiSoVZid_QH"
      }
    },
    {
      "cell_type": "markdown",
      "source": [
        "### Potential solution 1:"
      ],
      "metadata": {
        "id": "d34LqS0WeGxn"
      }
    },
    {
      "cell_type": "markdown",
      "source": [
        "The __init__ and __new__ methods of custom pytree classes should generally avoid doing any array conversion or other input validation, or else anticipate and handle these special cases. For example:"
      ],
      "metadata": {
        "id": "YOQZvkHveJ8f"
      }
    },
    {
      "cell_type": "code",
      "source": [
        "class MyTree:\n",
        "  def __init__(self, a):\n",
        "    if not (type(a) is object or a is None or isinstance(a, MyTree)):\n",
        "      a = jnp.asarray(a)\n",
        "    self.a = a"
      ],
      "metadata": {
        "id": "CmHhn8TWeKhm"
      },
      "execution_count": 52,
      "outputs": []
    },
    {
      "cell_type": "markdown",
      "source": [
        "### Potential solution 2:"
      ],
      "metadata": {
        "id": "QVUiowSwfDTX"
      }
    },
    {
      "cell_type": "markdown",
      "source": [
        "Structure your custom tree_unflatten function so that it avoids calling __init__. If you choose this route, make sure that your tree_unflatten function stays in sync with __init__ if and when the code is updated. Example:"
      ],
      "metadata": {
        "id": "CK0SDoRWfGtf"
      }
    },
    {
      "cell_type": "code",
      "source": [
        "def tree_unflatten(aux_data, children):\n",
        "  del aux_data  # Unused in this class.\n",
        "  obj = object.__new__(MyTree)\n",
        "  obj.a = a\n",
        "  return obj"
      ],
      "metadata": {
        "id": "6W7S2JLYfHp_"
      },
      "execution_count": 53,
      "outputs": []
    },
    {
      "cell_type": "markdown",
      "source": [
        "# Common pytree patterns"
      ],
      "metadata": {
        "id": "cQCBic0NfTX2"
      }
    },
    {
      "cell_type": "markdown",
      "source": [
        "## Transposing pytrees with jax.tree.map and jax.tree.transpose"
      ],
      "metadata": {
        "id": "XHSaf7W2fVU2"
      }
    },
    {
      "cell_type": "markdown",
      "source": [
        "To transpose a pytree (turn a list of trees into a tree of lists), JAX has two functions: jax.tree.map() (more basic) and jax.tree.transpose() (more flexible, complex and verbose).\n",
        "\n",
        "Option 1: Use jax.tree.map(). Here’s an example:"
      ],
      "metadata": {
        "id": "z-or7jCHfXaG"
      }
    },
    {
      "cell_type": "code",
      "source": [
        "def tree_transpose(list_of_trees):\n",
        "  \"\"\"\n",
        "  Converts a list of trees of identical structure into a single tree of lists.\n",
        "  \"\"\"\n",
        "  return jax.tree.map(lambda *xs: list(xs), *list_of_trees)\n",
        "\n",
        "# Convert a dataset from row-major to column-major.\n",
        "episode_steps = [dict(t=1, obs=3), dict(t=2, obs=4)]\n",
        "tree_transpose(episode_steps)"
      ],
      "metadata": {
        "colab": {
          "base_uri": "https://localhost:8080/"
        },
        "id": "BCkNnb8TfYfo",
        "outputId": "d2d3be6f-4407-4e96-8b9e-300a33b86f6d"
      },
      "execution_count": 54,
      "outputs": [
        {
          "output_type": "execute_result",
          "data": {
            "text/plain": [
              "{'obs': [3, 4], 't': [1, 2]}"
            ]
          },
          "metadata": {},
          "execution_count": 54
        }
      ]
    },
    {
      "cell_type": "markdown",
      "source": [
        "Option 2: For more complex transposes, use jax.tree.transpose(), which is more verbose, but allows you specify the structure of the inner and outer pytree for more flexibility. For example:"
      ],
      "metadata": {
        "id": "Z6gbdahMfwGO"
      }
    },
    {
      "cell_type": "code",
      "source": [
        "jax.tree.transpose(\n",
        "  outer_treedef = jax.tree.structure([0 for e in episode_steps]),\n",
        "  inner_treedef = jax.tree.structure(episode_steps[0]),\n",
        "  pytree_to_transpose = episode_steps\n",
        ")"
      ],
      "metadata": {
        "colab": {
          "base_uri": "https://localhost:8080/"
        },
        "id": "32JEWNVPfxxW",
        "outputId": "66360814-4447-45c2-870e-90b429b69427"
      },
      "execution_count": 55,
      "outputs": [
        {
          "output_type": "execute_result",
          "data": {
            "text/plain": [
              "{'obs': [3, 4], 't': [1, 2]}"
            ]
          },
          "metadata": {},
          "execution_count": 55
        }
      ]
    }
  ]
}